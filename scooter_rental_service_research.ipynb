{
 "cells": [
  {
   "cell_type": "markdown",
   "id": "82634616",
   "metadata": {},
   "source": [
    "# Исследование сервиса аренды самокатов GoFast\n",
    "Я аналитик популярного сервиса аренды самокатов GoFast. Мне передали данные о некоторых пользователях из нескольких городов, а также об их поездках. Задача: проанализировать данные и проверить некоторые гипотезы, которые могут помочь бизнесу вырасти. Чтобы совершать поездки по городу, пользователи сервиса GoFast пользуются мобильным приложением. Сервисом можно пользоваться:\n",
    "- без подписки\n",
    "  - абонентская плата отсутствует;\n",
    "  - стоимость одной минуты поездки — 8 рублей;\n",
    "  - стоимость старта (начала поездки) — 50 рублей;\n",
    "- с подпиской Ultra\n",
    "  - абонентская плата — 199 рублей в месяц; \n",
    "  - стоимость одной минуты поездки — 6 рублей; \n",
    "  - стоимость старта — бесплатно."
   ]
  },
  {
   "cell_type": "markdown",
   "id": "90389827",
   "metadata": {},
   "source": [
    "# Описание данных\n",
    "В основных данных есть информация о пользователях, их поездках и подписках.\n",
    "- Пользователи - users_go.csv\n",
    "  - user_id\t- уникальный идентификатор пользователя\n",
    "  - name - имя пользователя\n",
    "  - age - возраст\n",
    "  - city - город\n",
    "  - subscription_type - тип подписки (free, ultra)\n",
    "- Поездки - rides_go.csv\n",
    "  - user_id\t- уникальный идентификатор пользователя\n",
    "  - name - имя пользователя\n",
    "  - distance - расстояние, которое пользователь проехал в текущей сессии (в метрах)\n",
    "  - duration - продолжительность сессии (в минутах) — время с того момента, как пользователь нажал кнопку «Начать поездку» до момента, как он нажал кнопку «Завершить поездку»\n",
    "  - date - дата совершения поездки\n",
    "- Подписки - subscriptions_go.csv\n",
    "  - subscription_type - тип подписки\n",
    "  - minute_price - стоимость одной минуты поездки по данной подписке\n",
    "  - start_ride_price - стоимость начала поездки\n",
    "  - subscription_fee - стоимость ежемесячного платежа"
   ]
  },
  {
   "cell_type": "markdown",
   "id": "bc950b2b",
   "metadata": {},
   "source": [
    "##### Шаг 6. Проверка гипотез\n",
    "Продакт-менеджеры сервиса хотят увеличить количество пользователей с подпиской. Для этого они будут проводить различные акции, но сначала нужно выяснить несколько важных моментов.\n",
    "  - 6.1 Важно понять, тратят ли пользователи с подпиской больше времени на поездки? Если да, то пользователи с подпиской могут быть «выгоднее» для компании. Проверьте гипотезу. Используйте исходные данные о продолжительности каждой сессии — отдельно для подписчиков и тех, у кого нет подписки.\n",
    "  - 6.2 Расстояние одной поездки в 3130 метров — оптимальное с точки зрения износа самоката. Можно ли сказать, что среднее расстояние, которое проезжают пользователи с подпиской за одну поездку, не превышает 3130 метров? Проверьте гипотезу и сделайте выводы.\n",
    "  - 6.3 Проверьте гипотезу о том, будет ли помесячная выручка от пользователей с подпиской по месяцам выше, чем выручка от пользователей без подписки. Сделайте вывод.\n",
    "  - 6.4 Представьте такую ситуацию: техническая команда сервиса обновила сервера, с которыми взаимодействует мобильное приложение. Она надеется, что из-за этого количество обращений в техподдержку значимо снизилось. Некоторый файл содержит для каждого пользователя данные о количестве обращений до обновления и после него. Какой тест вам понадобился бы для проверки этой гипотезы?"
   ]
  },
  {
   "cell_type": "code",
   "execution_count": 5,
   "id": "72576667",
   "metadata": {},
   "outputs": [],
   "source": [
    "import pandas as pd\n",
    "import matplotlib.pyplot as plt\n",
    "import seaborn as sns\n",
    "import numpy as np\n",
    "from scipy import stats as st"
   ]
  },
  {
   "cell_type": "markdown",
   "id": "c42cbe00",
   "metadata": {},
   "source": [
    "#### Шаг 1. Загрузка данных"
   ]
  },
  {
   "cell_type": "code",
   "execution_count": 6,
   "id": "eff9f206",
   "metadata": {},
   "outputs": [],
   "source": [
    "users = pd.read_csv('users_go.csv')\n",
    "rides = pd.read_csv('rides_go.csv')\n",
    "subscriptions = pd.read_csv('subscriptions_go.csv')"
   ]
  },
  {
   "cell_type": "code",
   "execution_count": 7,
   "id": "194a43a0",
   "metadata": {},
   "outputs": [
    {
     "data": {
      "text/html": [
       "<div>\n",
       "<style scoped>\n",
       "    .dataframe tbody tr th:only-of-type {\n",
       "        vertical-align: middle;\n",
       "    }\n",
       "\n",
       "    .dataframe tbody tr th {\n",
       "        vertical-align: top;\n",
       "    }\n",
       "\n",
       "    .dataframe thead th {\n",
       "        text-align: right;\n",
       "    }\n",
       "</style>\n",
       "<table border=\"1\" class=\"dataframe\">\n",
       "  <thead>\n",
       "    <tr style=\"text-align: right;\">\n",
       "      <th></th>\n",
       "      <th>user_id</th>\n",
       "      <th>name</th>\n",
       "      <th>age</th>\n",
       "      <th>city</th>\n",
       "      <th>subscription_type</th>\n",
       "    </tr>\n",
       "  </thead>\n",
       "  <tbody>\n",
       "    <tr>\n",
       "      <th>0</th>\n",
       "      <td>1</td>\n",
       "      <td>Кира</td>\n",
       "      <td>22</td>\n",
       "      <td>Тюмень</td>\n",
       "      <td>ultra</td>\n",
       "    </tr>\n",
       "    <tr>\n",
       "      <th>1</th>\n",
       "      <td>2</td>\n",
       "      <td>Станислав</td>\n",
       "      <td>31</td>\n",
       "      <td>Омск</td>\n",
       "      <td>ultra</td>\n",
       "    </tr>\n",
       "    <tr>\n",
       "      <th>2</th>\n",
       "      <td>3</td>\n",
       "      <td>Алексей</td>\n",
       "      <td>20</td>\n",
       "      <td>Москва</td>\n",
       "      <td>ultra</td>\n",
       "    </tr>\n",
       "    <tr>\n",
       "      <th>3</th>\n",
       "      <td>4</td>\n",
       "      <td>Константин</td>\n",
       "      <td>26</td>\n",
       "      <td>Ростов-на-Дону</td>\n",
       "      <td>ultra</td>\n",
       "    </tr>\n",
       "    <tr>\n",
       "      <th>4</th>\n",
       "      <td>5</td>\n",
       "      <td>Адель</td>\n",
       "      <td>28</td>\n",
       "      <td>Омск</td>\n",
       "      <td>ultra</td>\n",
       "    </tr>\n",
       "  </tbody>\n",
       "</table>\n",
       "</div>"
      ],
      "text/plain": [
       "   user_id        name  age            city subscription_type\n",
       "0        1        Кира   22          Тюмень             ultra\n",
       "1        2   Станислав   31            Омск             ultra\n",
       "2        3     Алексей   20          Москва             ultra\n",
       "3        4  Константин   26  Ростов-на-Дону             ultra\n",
       "4        5       Адель   28            Омск             ultra"
      ]
     },
     "metadata": {},
     "output_type": "display_data"
    }
   ],
   "source": [
    "display(users.head())"
   ]
  },
  {
   "cell_type": "code",
   "execution_count": 8,
   "id": "0fb00336",
   "metadata": {},
   "outputs": [
    {
     "data": {
      "text/html": [
       "<div>\n",
       "<style scoped>\n",
       "    .dataframe tbody tr th:only-of-type {\n",
       "        vertical-align: middle;\n",
       "    }\n",
       "\n",
       "    .dataframe tbody tr th {\n",
       "        vertical-align: top;\n",
       "    }\n",
       "\n",
       "    .dataframe thead th {\n",
       "        text-align: right;\n",
       "    }\n",
       "</style>\n",
       "<table border=\"1\" class=\"dataframe\">\n",
       "  <thead>\n",
       "    <tr style=\"text-align: right;\">\n",
       "      <th></th>\n",
       "      <th>subscription_type</th>\n",
       "      <th>minute_price</th>\n",
       "      <th>start_ride_price</th>\n",
       "      <th>subscription_fee</th>\n",
       "    </tr>\n",
       "  </thead>\n",
       "  <tbody>\n",
       "    <tr>\n",
       "      <th>0</th>\n",
       "      <td>free</td>\n",
       "      <td>8</td>\n",
       "      <td>50</td>\n",
       "      <td>0</td>\n",
       "    </tr>\n",
       "    <tr>\n",
       "      <th>1</th>\n",
       "      <td>ultra</td>\n",
       "      <td>6</td>\n",
       "      <td>0</td>\n",
       "      <td>199</td>\n",
       "    </tr>\n",
       "  </tbody>\n",
       "</table>\n",
       "</div>"
      ],
      "text/plain": [
       "  subscription_type  minute_price  start_ride_price  subscription_fee\n",
       "0              free             8                50                 0\n",
       "1             ultra             6                 0               199"
      ]
     },
     "metadata": {},
     "output_type": "display_data"
    }
   ],
   "source": [
    "display(subscriptions)"
   ]
  },
  {
   "cell_type": "code",
   "execution_count": 9,
   "id": "70cc914f",
   "metadata": {},
   "outputs": [
    {
     "data": {
      "text/html": [
       "<div>\n",
       "<style scoped>\n",
       "    .dataframe tbody tr th:only-of-type {\n",
       "        vertical-align: middle;\n",
       "    }\n",
       "\n",
       "    .dataframe tbody tr th {\n",
       "        vertical-align: top;\n",
       "    }\n",
       "\n",
       "    .dataframe thead th {\n",
       "        text-align: right;\n",
       "    }\n",
       "</style>\n",
       "<table border=\"1\" class=\"dataframe\">\n",
       "  <thead>\n",
       "    <tr style=\"text-align: right;\">\n",
       "      <th></th>\n",
       "      <th>user_id</th>\n",
       "      <th>distance</th>\n",
       "      <th>duration</th>\n",
       "      <th>date</th>\n",
       "    </tr>\n",
       "  </thead>\n",
       "  <tbody>\n",
       "    <tr>\n",
       "      <th>0</th>\n",
       "      <td>1</td>\n",
       "      <td>4409.919140</td>\n",
       "      <td>25.599769</td>\n",
       "      <td>2021-01-01</td>\n",
       "    </tr>\n",
       "    <tr>\n",
       "      <th>1</th>\n",
       "      <td>1</td>\n",
       "      <td>2617.592153</td>\n",
       "      <td>15.816871</td>\n",
       "      <td>2021-01-18</td>\n",
       "    </tr>\n",
       "    <tr>\n",
       "      <th>2</th>\n",
       "      <td>1</td>\n",
       "      <td>754.159807</td>\n",
       "      <td>6.232113</td>\n",
       "      <td>2021-04-20</td>\n",
       "    </tr>\n",
       "    <tr>\n",
       "      <th>3</th>\n",
       "      <td>1</td>\n",
       "      <td>2694.783254</td>\n",
       "      <td>18.511000</td>\n",
       "      <td>2021-08-11</td>\n",
       "    </tr>\n",
       "    <tr>\n",
       "      <th>4</th>\n",
       "      <td>1</td>\n",
       "      <td>4028.687306</td>\n",
       "      <td>26.265803</td>\n",
       "      <td>2021-08-28</td>\n",
       "    </tr>\n",
       "  </tbody>\n",
       "</table>\n",
       "</div>"
      ],
      "text/plain": [
       "   user_id     distance   duration        date\n",
       "0        1  4409.919140  25.599769  2021-01-01\n",
       "1        1  2617.592153  15.816871  2021-01-18\n",
       "2        1   754.159807   6.232113  2021-04-20\n",
       "3        1  2694.783254  18.511000  2021-08-11\n",
       "4        1  4028.687306  26.265803  2021-08-28"
      ]
     },
     "metadata": {},
     "output_type": "display_data"
    }
   ],
   "source": [
    "display(rides.head())"
   ]
  },
  {
   "cell_type": "code",
   "execution_count": 10,
   "id": "af4a27d2",
   "metadata": {},
   "outputs": [],
   "source": [
    "rides['date'] = pd.to_datetime(rides['date'], format='%Y-%m-%d')"
   ]
  },
  {
   "cell_type": "code",
   "execution_count": 11,
   "id": "2a08f6ab",
   "metadata": {},
   "outputs": [
    {
     "data": {
      "text/html": [
       "<div>\n",
       "<style scoped>\n",
       "    .dataframe tbody tr th:only-of-type {\n",
       "        vertical-align: middle;\n",
       "    }\n",
       "\n",
       "    .dataframe tbody tr th {\n",
       "        vertical-align: top;\n",
       "    }\n",
       "\n",
       "    .dataframe thead th {\n",
       "        text-align: right;\n",
       "    }\n",
       "</style>\n",
       "<table border=\"1\" class=\"dataframe\">\n",
       "  <thead>\n",
       "    <tr style=\"text-align: right;\">\n",
       "      <th></th>\n",
       "      <th>user_id</th>\n",
       "      <th>distance</th>\n",
       "      <th>duration</th>\n",
       "      <th>date</th>\n",
       "    </tr>\n",
       "  </thead>\n",
       "  <tbody>\n",
       "    <tr>\n",
       "      <th>0</th>\n",
       "      <td>1</td>\n",
       "      <td>4409.919140</td>\n",
       "      <td>25.599769</td>\n",
       "      <td>2021-01-01</td>\n",
       "    </tr>\n",
       "    <tr>\n",
       "      <th>1</th>\n",
       "      <td>1</td>\n",
       "      <td>2617.592153</td>\n",
       "      <td>15.816871</td>\n",
       "      <td>2021-01-18</td>\n",
       "    </tr>\n",
       "    <tr>\n",
       "      <th>2</th>\n",
       "      <td>1</td>\n",
       "      <td>754.159807</td>\n",
       "      <td>6.232113</td>\n",
       "      <td>2021-04-20</td>\n",
       "    </tr>\n",
       "    <tr>\n",
       "      <th>3</th>\n",
       "      <td>1</td>\n",
       "      <td>2694.783254</td>\n",
       "      <td>18.511000</td>\n",
       "      <td>2021-08-11</td>\n",
       "    </tr>\n",
       "    <tr>\n",
       "      <th>4</th>\n",
       "      <td>1</td>\n",
       "      <td>4028.687306</td>\n",
       "      <td>26.265803</td>\n",
       "      <td>2021-08-28</td>\n",
       "    </tr>\n",
       "  </tbody>\n",
       "</table>\n",
       "</div>"
      ],
      "text/plain": [
       "   user_id     distance   duration       date\n",
       "0        1  4409.919140  25.599769 2021-01-01\n",
       "1        1  2617.592153  15.816871 2021-01-18\n",
       "2        1   754.159807   6.232113 2021-04-20\n",
       "3        1  2694.783254  18.511000 2021-08-11\n",
       "4        1  4028.687306  26.265803 2021-08-28"
      ]
     },
     "execution_count": 11,
     "metadata": {},
     "output_type": "execute_result"
    }
   ],
   "source": [
    "rides.head()"
   ]
  },
  {
   "cell_type": "code",
   "execution_count": 12,
   "id": "c6d5cbf4",
   "metadata": {},
   "outputs": [
    {
     "name": "stdout",
     "output_type": "stream",
     "text": [
      "<class 'pandas.core.frame.DataFrame'>\n",
      "RangeIndex: 1565 entries, 0 to 1564\n",
      "Data columns (total 5 columns):\n",
      " #   Column             Non-Null Count  Dtype \n",
      "---  ------             --------------  ----- \n",
      " 0   user_id            1565 non-null   int64 \n",
      " 1   name               1565 non-null   object\n",
      " 2   age                1565 non-null   int64 \n",
      " 3   city               1565 non-null   object\n",
      " 4   subscription_type  1565 non-null   object\n",
      "dtypes: int64(2), object(3)\n",
      "memory usage: 61.3+ KB\n"
     ]
    },
    {
     "data": {
      "text/plain": [
       "None"
      ]
     },
     "metadata": {},
     "output_type": "display_data"
    },
    {
     "name": "stdout",
     "output_type": "stream",
     "text": [
      "<class 'pandas.core.frame.DataFrame'>\n",
      "RangeIndex: 18068 entries, 0 to 18067\n",
      "Data columns (total 4 columns):\n",
      " #   Column    Non-Null Count  Dtype         \n",
      "---  ------    --------------  -----         \n",
      " 0   user_id   18068 non-null  int64         \n",
      " 1   distance  18068 non-null  float64       \n",
      " 2   duration  18068 non-null  float64       \n",
      " 3   date      18068 non-null  datetime64[ns]\n",
      "dtypes: datetime64[ns](1), float64(2), int64(1)\n",
      "memory usage: 564.8 KB\n"
     ]
    },
    {
     "data": {
      "text/plain": [
       "None"
      ]
     },
     "metadata": {},
     "output_type": "display_data"
    },
    {
     "name": "stdout",
     "output_type": "stream",
     "text": [
      "<class 'pandas.core.frame.DataFrame'>\n",
      "RangeIndex: 2 entries, 0 to 1\n",
      "Data columns (total 4 columns):\n",
      " #   Column             Non-Null Count  Dtype \n",
      "---  ------             --------------  ----- \n",
      " 0   subscription_type  2 non-null      object\n",
      " 1   minute_price       2 non-null      int64 \n",
      " 2   start_ride_price   2 non-null      int64 \n",
      " 3   subscription_fee   2 non-null      int64 \n",
      "dtypes: int64(3), object(1)\n",
      "memory usage: 196.0+ bytes\n"
     ]
    }
   ],
   "source": [
    "display(users.info())\n",
    "display(rides.info())\n",
    "subscriptions.info()"
   ]
  },
  {
   "cell_type": "markdown",
   "id": "4e4b9178",
   "metadata": {},
   "source": [
    "В данных пропусков не наблюдается. Все типы приведены правильно."
   ]
  },
  {
   "cell_type": "markdown",
   "id": "e95ebca7",
   "metadata": {},
   "source": [
    "#### Шаг 2. Предобработка данных"
   ]
  },
  {
   "cell_type": "code",
   "execution_count": 13,
   "id": "084f0565",
   "metadata": {},
   "outputs": [
    {
     "data": {
      "text/plain": [
       "Timedelta('363 days 00:00:00')"
      ]
     },
     "execution_count": 13,
     "metadata": {},
     "output_type": "execute_result"
    }
   ],
   "source": [
    "rides['date'].max() - rides['date'].min()"
   ]
  },
  {
   "cell_type": "markdown",
   "id": "c7c06e80",
   "metadata": {},
   "source": [
    "Данные даны за 1 год. Каждый месяц соостетствует своему в определенному году."
   ]
  },
  {
   "cell_type": "code",
   "execution_count": 14,
   "id": "af6d202c",
   "metadata": {},
   "outputs": [],
   "source": [
    "rides['month'] = rides['date'].dt.month"
   ]
  },
  {
   "cell_type": "code",
   "execution_count": 15,
   "id": "71bf53c7",
   "metadata": {},
   "outputs": [
    {
     "data": {
      "text/html": [
       "<div>\n",
       "<style scoped>\n",
       "    .dataframe tbody tr th:only-of-type {\n",
       "        vertical-align: middle;\n",
       "    }\n",
       "\n",
       "    .dataframe tbody tr th {\n",
       "        vertical-align: top;\n",
       "    }\n",
       "\n",
       "    .dataframe thead th {\n",
       "        text-align: right;\n",
       "    }\n",
       "</style>\n",
       "<table border=\"1\" class=\"dataframe\">\n",
       "  <thead>\n",
       "    <tr style=\"text-align: right;\">\n",
       "      <th></th>\n",
       "      <th>user_id</th>\n",
       "      <th>distance</th>\n",
       "      <th>duration</th>\n",
       "      <th>date</th>\n",
       "      <th>month</th>\n",
       "    </tr>\n",
       "  </thead>\n",
       "  <tbody>\n",
       "    <tr>\n",
       "      <th>0</th>\n",
       "      <td>1</td>\n",
       "      <td>4409.919140</td>\n",
       "      <td>25.599769</td>\n",
       "      <td>2021-01-01</td>\n",
       "      <td>1</td>\n",
       "    </tr>\n",
       "    <tr>\n",
       "      <th>1</th>\n",
       "      <td>1</td>\n",
       "      <td>2617.592153</td>\n",
       "      <td>15.816871</td>\n",
       "      <td>2021-01-18</td>\n",
       "      <td>1</td>\n",
       "    </tr>\n",
       "    <tr>\n",
       "      <th>2</th>\n",
       "      <td>1</td>\n",
       "      <td>754.159807</td>\n",
       "      <td>6.232113</td>\n",
       "      <td>2021-04-20</td>\n",
       "      <td>4</td>\n",
       "    </tr>\n",
       "    <tr>\n",
       "      <th>3</th>\n",
       "      <td>1</td>\n",
       "      <td>2694.783254</td>\n",
       "      <td>18.511000</td>\n",
       "      <td>2021-08-11</td>\n",
       "      <td>8</td>\n",
       "    </tr>\n",
       "    <tr>\n",
       "      <th>4</th>\n",
       "      <td>1</td>\n",
       "      <td>4028.687306</td>\n",
       "      <td>26.265803</td>\n",
       "      <td>2021-08-28</td>\n",
       "      <td>8</td>\n",
       "    </tr>\n",
       "  </tbody>\n",
       "</table>\n",
       "</div>"
      ],
      "text/plain": [
       "   user_id     distance   duration       date  month\n",
       "0        1  4409.919140  25.599769 2021-01-01      1\n",
       "1        1  2617.592153  15.816871 2021-01-18      1\n",
       "2        1   754.159807   6.232113 2021-04-20      4\n",
       "3        1  2694.783254  18.511000 2021-08-11      8\n",
       "4        1  4028.687306  26.265803 2021-08-28      8"
      ]
     },
     "execution_count": 15,
     "metadata": {},
     "output_type": "execute_result"
    }
   ],
   "source": [
    "rides.head()"
   ]
  },
  {
   "cell_type": "markdown",
   "id": "4e6d3305",
   "metadata": {},
   "source": [
    "Исходя из информации о таблицах - пропущенных значений нет. Посмотрим на дубликаты:"
   ]
  },
  {
   "cell_type": "code",
   "execution_count": 16,
   "id": "28737c70",
   "metadata": {},
   "outputs": [
    {
     "data": {
      "text/plain": [
       "31"
      ]
     },
     "execution_count": 16,
     "metadata": {},
     "output_type": "execute_result"
    }
   ],
   "source": [
    "users.duplicated().sum()"
   ]
  },
  {
   "cell_type": "code",
   "execution_count": 17,
   "id": "72289c70",
   "metadata": {},
   "outputs": [
    {
     "data": {
      "text/plain": [
       "0"
      ]
     },
     "execution_count": 17,
     "metadata": {},
     "output_type": "execute_result"
    }
   ],
   "source": [
    "rides.duplicated().sum()"
   ]
  },
  {
   "cell_type": "markdown",
   "id": "743afbfb",
   "metadata": {},
   "source": [
    "Удалим дубликаты в users, т.к. они могут плохо повлиять на анализ данных. В rides нет дубликатов."
   ]
  },
  {
   "cell_type": "code",
   "execution_count": 18,
   "id": "2f5f6de4",
   "metadata": {},
   "outputs": [],
   "source": [
    "users = users.drop_duplicates()"
   ]
  },
  {
   "cell_type": "markdown",
   "id": "212593c7",
   "metadata": {},
   "source": [
    "#### Шаг 3. Исследовательский анализ данных"
   ]
  },
  {
   "cell_type": "markdown",
   "id": "33977339",
   "metadata": {},
   "source": [
    "##### Частота встречаемости городов:"
   ]
  },
  {
   "cell_type": "code",
   "execution_count": 19,
   "id": "53049e0a",
   "metadata": {},
   "outputs": [
    {
     "data": {
      "image/png": "[encoded data removed]",
      "text/plain": [
       "<Figure size 640x480 with 1 Axes>"
      ]
     },
     "metadata": {},
     "output_type": "display_data"
    }
   ],
   "source": [
    "users['city'].value_counts().plot(kind='bar',\n",
    "                                 title = 'Частота встречаемости городов',\n",
    "                                 xlabel = 'Город',\n",
    "                                 ylabel = 'Количество пользователей');"
   ]
  },
  {
   "cell_type": "markdown",
   "id": "8363452d",
   "metadata": {},
   "source": [
    "Самый частовстречающийся город - Пятигорск, реже всего - Москва."
   ]
  },
  {
   "cell_type": "markdown",
   "id": "a65d5e3e",
   "metadata": {},
   "source": [
    "##### Соотношение пользователей с подпиской и без подписки:"
   ]
  },
  {
   "cell_type": "code",
   "execution_count": 20,
   "id": "715681bb",
   "metadata": {},
   "outputs": [
    {
     "data": {
      "image/png": "[encoded data removed]",
      "text/plain": [
       "<Figure size 1000x1000 with 1 Axes>"
      ]
     },
     "metadata": {},
     "output_type": "display_data"
    }
   ],
   "source": [
    "users['subscription_type'].value_counts().plot(kind='pie',\n",
    "                                              autopct='%1.0f%%',\n",
    "                                              figsize=[10,10],\n",
    "                                              ylabel = 'Типы подписок',\n",
    "                                              title = 'Процентное соотношение пользователей с подпиской и без');"
   ]
  },
  {
   "cell_type": "markdown",
   "id": "b282e5a6",
   "metadata": {},
   "source": [
    "46% пользователей с подпиской, остальные 54% без подписки."
   ]
  },
  {
   "cell_type": "markdown",
   "id": "017b395c",
   "metadata": {},
   "source": [
    "##### Возраст пользователей:"
   ]
  },
  {
   "cell_type": "code",
   "execution_count": 21,
   "id": "855157c4",
   "metadata": {},
   "outputs": [
    {
     "data": {
      "image/png": "[encoded data removed]",
      "text/plain": [
       "<Figure size 640x480 with 1 Axes>"
      ]
     },
     "metadata": {},
     "output_type": "display_data"
    }
   ],
   "source": [
    "plt.hist(users['age'], bins = 30)\n",
    "plt.title('Возраст пользователей')\n",
    "plt.xlabel('Возраст')\n",
    "plt.ylabel('Количество пользователей')\n",
    "plt.grid('True')\n",
    "plt.show()"
   ]
  },
  {
   "cell_type": "markdown",
   "id": "26e404ea",
   "metadata": {},
   "source": [
    "Средний возраст пользвателей - от 20 до 30 лет."
   ]
  },
  {
   "cell_type": "markdown",
   "id": "aa5da38c",
   "metadata": {},
   "source": [
    "##### Расстояние, которое пользователь преодолел за одну поездку:"
   ]
  },
  {
   "cell_type": "code",
   "execution_count": 22,
   "id": "99dc0305",
   "metadata": {},
   "outputs": [
    {
     "data": {
      "image/png": "[encoded data removed]",
      "text/plain": [
       "<Figure size 640x480 with 1 Axes>"
      ]
     },
     "metadata": {},
     "output_type": "display_data"
    }
   ],
   "source": [
    "sns.boxplot(x=rides['distance'])\n",
    "plt.title('Расстояние, преодоленное за одну поездку')\n",
    "plt.xlabel('Расстояние, м')\n",
    "plt.xlim(0, 8000);"
   ]
  },
  {
   "cell_type": "markdown",
   "id": "3a057be4",
   "metadata": {},
   "source": [
    "Чаще всего пользователи берут самокат на поездку в 3 км."
   ]
  },
  {
   "cell_type": "markdown",
   "id": "e1bc6800",
   "metadata": {},
   "source": [
    "##### Продолжительность поездок:"
   ]
  },
  {
   "cell_type": "code",
   "execution_count": 23,
   "id": "1e80e78f",
   "metadata": {},
   "outputs": [
    {
     "data": {
      "image/png": "[encoded data removed]",
      "text/plain": [
       "<Figure size 640x480 with 1 Axes>"
      ]
     },
     "metadata": {},
     "output_type": "display_data"
    }
   ],
   "source": [
    "plt.hist(rides['duration'], bins = 30)\n",
    "plt.title('Продолжительность поездок')\n",
    "plt.xlabel('Время, мин')\n",
    "plt.ylabel('Количество пользователей')\n",
    "plt.grid('True')\n",
    "plt.show()"
   ]
  },
  {
   "cell_type": "markdown",
   "id": "3f1f37d0",
   "metadata": {},
   "source": [
    "В среднем пользователи арендуют самокат на 17 минут, виден второй пик, около 1 минуты."
   ]
  },
  {
   "cell_type": "markdown",
   "id": "98af9224",
   "metadata": {},
   "source": [
    "#### Шаг 4. Объединение данных"
   ]
  },
  {
   "cell_type": "markdown",
   "id": "db5ef17e",
   "metadata": {},
   "source": [
    "##### Объединим данные о пользователях, поездках и подписках в один датафрейм:"
   ]
  },
  {
   "cell_type": "code",
   "execution_count": 24,
   "id": "eb2019fb",
   "metadata": {},
   "outputs": [
    {
     "data": {
      "text/html": [
       "<div>\n",
       "<style scoped>\n",
       "    .dataframe tbody tr th:only-of-type {\n",
       "        vertical-align: middle;\n",
       "    }\n",
       "\n",
       "    .dataframe tbody tr th {\n",
       "        vertical-align: top;\n",
       "    }\n",
       "\n",
       "    .dataframe thead th {\n",
       "        text-align: right;\n",
       "    }\n",
       "</style>\n",
       "<table border=\"1\" class=\"dataframe\">\n",
       "  <thead>\n",
       "    <tr style=\"text-align: right;\">\n",
       "      <th></th>\n",
       "      <th>user_id</th>\n",
       "      <th>name</th>\n",
       "      <th>age</th>\n",
       "      <th>city</th>\n",
       "      <th>subscription_type</th>\n",
       "      <th>distance</th>\n",
       "      <th>duration</th>\n",
       "      <th>date</th>\n",
       "      <th>month</th>\n",
       "      <th>minute_price</th>\n",
       "      <th>start_ride_price</th>\n",
       "      <th>subscription_fee</th>\n",
       "    </tr>\n",
       "  </thead>\n",
       "  <tbody>\n",
       "    <tr>\n",
       "      <th>0</th>\n",
       "      <td>1</td>\n",
       "      <td>Кира</td>\n",
       "      <td>22</td>\n",
       "      <td>Тюмень</td>\n",
       "      <td>ultra</td>\n",
       "      <td>4409.919140</td>\n",
       "      <td>25.599769</td>\n",
       "      <td>2021-01-01</td>\n",
       "      <td>1</td>\n",
       "      <td>6</td>\n",
       "      <td>0</td>\n",
       "      <td>199</td>\n",
       "    </tr>\n",
       "    <tr>\n",
       "      <th>1</th>\n",
       "      <td>1</td>\n",
       "      <td>Кира</td>\n",
       "      <td>22</td>\n",
       "      <td>Тюмень</td>\n",
       "      <td>ultra</td>\n",
       "      <td>2617.592153</td>\n",
       "      <td>15.816871</td>\n",
       "      <td>2021-01-18</td>\n",
       "      <td>1</td>\n",
       "      <td>6</td>\n",
       "      <td>0</td>\n",
       "      <td>199</td>\n",
       "    </tr>\n",
       "    <tr>\n",
       "      <th>2</th>\n",
       "      <td>1</td>\n",
       "      <td>Кира</td>\n",
       "      <td>22</td>\n",
       "      <td>Тюмень</td>\n",
       "      <td>ultra</td>\n",
       "      <td>754.159807</td>\n",
       "      <td>6.232113</td>\n",
       "      <td>2021-04-20</td>\n",
       "      <td>4</td>\n",
       "      <td>6</td>\n",
       "      <td>0</td>\n",
       "      <td>199</td>\n",
       "    </tr>\n",
       "    <tr>\n",
       "      <th>3</th>\n",
       "      <td>1</td>\n",
       "      <td>Кира</td>\n",
       "      <td>22</td>\n",
       "      <td>Тюмень</td>\n",
       "      <td>ultra</td>\n",
       "      <td>2694.783254</td>\n",
       "      <td>18.511000</td>\n",
       "      <td>2021-08-11</td>\n",
       "      <td>8</td>\n",
       "      <td>6</td>\n",
       "      <td>0</td>\n",
       "      <td>199</td>\n",
       "    </tr>\n",
       "    <tr>\n",
       "      <th>4</th>\n",
       "      <td>1</td>\n",
       "      <td>Кира</td>\n",
       "      <td>22</td>\n",
       "      <td>Тюмень</td>\n",
       "      <td>ultra</td>\n",
       "      <td>4028.687306</td>\n",
       "      <td>26.265803</td>\n",
       "      <td>2021-08-28</td>\n",
       "      <td>8</td>\n",
       "      <td>6</td>\n",
       "      <td>0</td>\n",
       "      <td>199</td>\n",
       "    </tr>\n",
       "    <tr>\n",
       "      <th>...</th>\n",
       "      <td>...</td>\n",
       "      <td>...</td>\n",
       "      <td>...</td>\n",
       "      <td>...</td>\n",
       "      <td>...</td>\n",
       "      <td>...</td>\n",
       "      <td>...</td>\n",
       "      <td>...</td>\n",
       "      <td>...</td>\n",
       "      <td>...</td>\n",
       "      <td>...</td>\n",
       "      <td>...</td>\n",
       "    </tr>\n",
       "    <tr>\n",
       "      <th>18063</th>\n",
       "      <td>1534</td>\n",
       "      <td>Альберт</td>\n",
       "      <td>25</td>\n",
       "      <td>Краснодар</td>\n",
       "      <td>free</td>\n",
       "      <td>3781.098080</td>\n",
       "      <td>19.822962</td>\n",
       "      <td>2021-11-04</td>\n",
       "      <td>11</td>\n",
       "      <td>8</td>\n",
       "      <td>50</td>\n",
       "      <td>0</td>\n",
       "    </tr>\n",
       "    <tr>\n",
       "      <th>18064</th>\n",
       "      <td>1534</td>\n",
       "      <td>Альберт</td>\n",
       "      <td>25</td>\n",
       "      <td>Краснодар</td>\n",
       "      <td>free</td>\n",
       "      <td>2840.423057</td>\n",
       "      <td>21.409799</td>\n",
       "      <td>2021-11-16</td>\n",
       "      <td>11</td>\n",
       "      <td>8</td>\n",
       "      <td>50</td>\n",
       "      <td>0</td>\n",
       "    </tr>\n",
       "    <tr>\n",
       "      <th>18065</th>\n",
       "      <td>1534</td>\n",
       "      <td>Альберт</td>\n",
       "      <td>25</td>\n",
       "      <td>Краснодар</td>\n",
       "      <td>free</td>\n",
       "      <td>3826.185507</td>\n",
       "      <td>18.435051</td>\n",
       "      <td>2021-11-18</td>\n",
       "      <td>11</td>\n",
       "      <td>8</td>\n",
       "      <td>50</td>\n",
       "      <td>0</td>\n",
       "    </tr>\n",
       "    <tr>\n",
       "      <th>18066</th>\n",
       "      <td>1534</td>\n",
       "      <td>Альберт</td>\n",
       "      <td>25</td>\n",
       "      <td>Краснодар</td>\n",
       "      <td>free</td>\n",
       "      <td>2902.308661</td>\n",
       "      <td>16.674362</td>\n",
       "      <td>2021-11-27</td>\n",
       "      <td>11</td>\n",
       "      <td>8</td>\n",
       "      <td>50</td>\n",
       "      <td>0</td>\n",
       "    </tr>\n",
       "    <tr>\n",
       "      <th>18067</th>\n",
       "      <td>1534</td>\n",
       "      <td>Альберт</td>\n",
       "      <td>25</td>\n",
       "      <td>Краснодар</td>\n",
       "      <td>free</td>\n",
       "      <td>2371.711192</td>\n",
       "      <td>15.893917</td>\n",
       "      <td>2021-12-29</td>\n",
       "      <td>12</td>\n",
       "      <td>8</td>\n",
       "      <td>50</td>\n",
       "      <td>0</td>\n",
       "    </tr>\n",
       "  </tbody>\n",
       "</table>\n",
       "<p>18068 rows × 12 columns</p>\n",
       "</div>"
      ],
      "text/plain": [
       "       user_id     name  age       city subscription_type     distance  \\\n",
       "0            1     Кира   22     Тюмень             ultra  4409.919140   \n",
       "1            1     Кира   22     Тюмень             ultra  2617.592153   \n",
       "2            1     Кира   22     Тюмень             ultra   754.159807   \n",
       "3            1     Кира   22     Тюмень             ultra  2694.783254   \n",
       "4            1     Кира   22     Тюмень             ultra  4028.687306   \n",
       "...        ...      ...  ...        ...               ...          ...   \n",
       "18063     1534  Альберт   25  Краснодар              free  3781.098080   \n",
       "18064     1534  Альберт   25  Краснодар              free  2840.423057   \n",
       "18065     1534  Альберт   25  Краснодар              free  3826.185507   \n",
       "18066     1534  Альберт   25  Краснодар              free  2902.308661   \n",
       "18067     1534  Альберт   25  Краснодар              free  2371.711192   \n",
       "\n",
       "        duration       date  month  minute_price  start_ride_price  \\\n",
       "0      25.599769 2021-01-01      1             6                 0   \n",
       "1      15.816871 2021-01-18      1             6                 0   \n",
       "2       6.232113 2021-04-20      4             6                 0   \n",
       "3      18.511000 2021-08-11      8             6                 0   \n",
       "4      26.265803 2021-08-28      8             6                 0   \n",
       "...          ...        ...    ...           ...               ...   \n",
       "18063  19.822962 2021-11-04     11             8                50   \n",
       "18064  21.409799 2021-11-16     11             8                50   \n",
       "18065  18.435051 2021-11-18     11             8                50   \n",
       "18066  16.674362 2021-11-27     11             8                50   \n",
       "18067  15.893917 2021-12-29     12             8                50   \n",
       "\n",
       "       subscription_fee  \n",
       "0                   199  \n",
       "1                   199  \n",
       "2                   199  \n",
       "3                   199  \n",
       "4                   199  \n",
       "...                 ...  \n",
       "18063                 0  \n",
       "18064                 0  \n",
       "18065                 0  \n",
       "18066                 0  \n",
       "18067                 0  \n",
       "\n",
       "[18068 rows x 12 columns]"
      ]
     },
     "execution_count": 24,
     "metadata": {},
     "output_type": "execute_result"
    }
   ],
   "source": [
    "data = users.merge(rides)\n",
    "data = data.merge(subscriptions)\n",
    "data"
   ]
  },
  {
   "cell_type": "code",
   "execution_count": 25,
   "id": "8abc057a",
   "metadata": {},
   "outputs": [
    {
     "data": {
      "text/html": [
       "<div>\n",
       "<style scoped>\n",
       "    .dataframe tbody tr th:only-of-type {\n",
       "        vertical-align: middle;\n",
       "    }\n",
       "\n",
       "    .dataframe tbody tr th {\n",
       "        vertical-align: top;\n",
       "    }\n",
       "\n",
       "    .dataframe thead th {\n",
       "        text-align: right;\n",
       "    }\n",
       "</style>\n",
       "<table border=\"1\" class=\"dataframe\">\n",
       "  <thead>\n",
       "    <tr style=\"text-align: right;\">\n",
       "      <th></th>\n",
       "      <th>user_id</th>\n",
       "      <th>name</th>\n",
       "      <th>age</th>\n",
       "      <th>city</th>\n",
       "      <th>subscription_type</th>\n",
       "      <th>distance</th>\n",
       "      <th>duration</th>\n",
       "      <th>date</th>\n",
       "      <th>month</th>\n",
       "      <th>minute_price</th>\n",
       "      <th>start_ride_price</th>\n",
       "      <th>subscription_fee</th>\n",
       "    </tr>\n",
       "  </thead>\n",
       "  <tbody>\n",
       "    <tr>\n",
       "      <th>0</th>\n",
       "      <td>1</td>\n",
       "      <td>Кира</td>\n",
       "      <td>22</td>\n",
       "      <td>Тюмень</td>\n",
       "      <td>ultra</td>\n",
       "      <td>4409.919140</td>\n",
       "      <td>25.599769</td>\n",
       "      <td>2021-01-01</td>\n",
       "      <td>1</td>\n",
       "      <td>6</td>\n",
       "      <td>0</td>\n",
       "      <td>199</td>\n",
       "    </tr>\n",
       "    <tr>\n",
       "      <th>1</th>\n",
       "      <td>1</td>\n",
       "      <td>Кира</td>\n",
       "      <td>22</td>\n",
       "      <td>Тюмень</td>\n",
       "      <td>ultra</td>\n",
       "      <td>2617.592153</td>\n",
       "      <td>15.816871</td>\n",
       "      <td>2021-01-18</td>\n",
       "      <td>1</td>\n",
       "      <td>6</td>\n",
       "      <td>0</td>\n",
       "      <td>199</td>\n",
       "    </tr>\n",
       "    <tr>\n",
       "      <th>2</th>\n",
       "      <td>1</td>\n",
       "      <td>Кира</td>\n",
       "      <td>22</td>\n",
       "      <td>Тюмень</td>\n",
       "      <td>ultra</td>\n",
       "      <td>754.159807</td>\n",
       "      <td>6.232113</td>\n",
       "      <td>2021-04-20</td>\n",
       "      <td>4</td>\n",
       "      <td>6</td>\n",
       "      <td>0</td>\n",
       "      <td>199</td>\n",
       "    </tr>\n",
       "    <tr>\n",
       "      <th>3</th>\n",
       "      <td>1</td>\n",
       "      <td>Кира</td>\n",
       "      <td>22</td>\n",
       "      <td>Тюмень</td>\n",
       "      <td>ultra</td>\n",
       "      <td>2694.783254</td>\n",
       "      <td>18.511000</td>\n",
       "      <td>2021-08-11</td>\n",
       "      <td>8</td>\n",
       "      <td>6</td>\n",
       "      <td>0</td>\n",
       "      <td>199</td>\n",
       "    </tr>\n",
       "    <tr>\n",
       "      <th>4</th>\n",
       "      <td>1</td>\n",
       "      <td>Кира</td>\n",
       "      <td>22</td>\n",
       "      <td>Тюмень</td>\n",
       "      <td>ultra</td>\n",
       "      <td>4028.687306</td>\n",
       "      <td>26.265803</td>\n",
       "      <td>2021-08-28</td>\n",
       "      <td>8</td>\n",
       "      <td>6</td>\n",
       "      <td>0</td>\n",
       "      <td>199</td>\n",
       "    </tr>\n",
       "    <tr>\n",
       "      <th>...</th>\n",
       "      <td>...</td>\n",
       "      <td>...</td>\n",
       "      <td>...</td>\n",
       "      <td>...</td>\n",
       "      <td>...</td>\n",
       "      <td>...</td>\n",
       "      <td>...</td>\n",
       "      <td>...</td>\n",
       "      <td>...</td>\n",
       "      <td>...</td>\n",
       "      <td>...</td>\n",
       "      <td>...</td>\n",
       "    </tr>\n",
       "    <tr>\n",
       "      <th>6495</th>\n",
       "      <td>699</td>\n",
       "      <td>Оксана</td>\n",
       "      <td>22</td>\n",
       "      <td>Москва</td>\n",
       "      <td>ultra</td>\n",
       "      <td>3973.046497</td>\n",
       "      <td>24.671163</td>\n",
       "      <td>2021-08-29</td>\n",
       "      <td>8</td>\n",
       "      <td>6</td>\n",
       "      <td>0</td>\n",
       "      <td>199</td>\n",
       "    </tr>\n",
       "    <tr>\n",
       "      <th>6496</th>\n",
       "      <td>699</td>\n",
       "      <td>Оксана</td>\n",
       "      <td>22</td>\n",
       "      <td>Москва</td>\n",
       "      <td>ultra</td>\n",
       "      <td>3288.702563</td>\n",
       "      <td>15.892886</td>\n",
       "      <td>2021-09-12</td>\n",
       "      <td>9</td>\n",
       "      <td>6</td>\n",
       "      <td>0</td>\n",
       "      <td>199</td>\n",
       "    </tr>\n",
       "    <tr>\n",
       "      <th>6497</th>\n",
       "      <td>699</td>\n",
       "      <td>Оксана</td>\n",
       "      <td>22</td>\n",
       "      <td>Москва</td>\n",
       "      <td>ultra</td>\n",
       "      <td>3076.159348</td>\n",
       "      <td>14.389525</td>\n",
       "      <td>2021-09-26</td>\n",
       "      <td>9</td>\n",
       "      <td>6</td>\n",
       "      <td>0</td>\n",
       "      <td>199</td>\n",
       "    </tr>\n",
       "    <tr>\n",
       "      <th>6498</th>\n",
       "      <td>699</td>\n",
       "      <td>Оксана</td>\n",
       "      <td>22</td>\n",
       "      <td>Москва</td>\n",
       "      <td>ultra</td>\n",
       "      <td>4707.845501</td>\n",
       "      <td>15.839579</td>\n",
       "      <td>2021-10-17</td>\n",
       "      <td>10</td>\n",
       "      <td>6</td>\n",
       "      <td>0</td>\n",
       "      <td>199</td>\n",
       "    </tr>\n",
       "    <tr>\n",
       "      <th>6499</th>\n",
       "      <td>699</td>\n",
       "      <td>Оксана</td>\n",
       "      <td>22</td>\n",
       "      <td>Москва</td>\n",
       "      <td>ultra</td>\n",
       "      <td>3202.890770</td>\n",
       "      <td>25.217345</td>\n",
       "      <td>2021-12-03</td>\n",
       "      <td>12</td>\n",
       "      <td>6</td>\n",
       "      <td>0</td>\n",
       "      <td>199</td>\n",
       "    </tr>\n",
       "  </tbody>\n",
       "</table>\n",
       "<p>6500 rows × 12 columns</p>\n",
       "</div>"
      ],
      "text/plain": [
       "      user_id    name  age    city subscription_type     distance   duration  \\\n",
       "0           1    Кира   22  Тюмень             ultra  4409.919140  25.599769   \n",
       "1           1    Кира   22  Тюмень             ultra  2617.592153  15.816871   \n",
       "2           1    Кира   22  Тюмень             ultra   754.159807   6.232113   \n",
       "3           1    Кира   22  Тюмень             ultra  2694.783254  18.511000   \n",
       "4           1    Кира   22  Тюмень             ultra  4028.687306  26.265803   \n",
       "...       ...     ...  ...     ...               ...          ...        ...   \n",
       "6495      699  Оксана   22  Москва             ultra  3973.046497  24.671163   \n",
       "6496      699  Оксана   22  Москва             ultra  3288.702563  15.892886   \n",
       "6497      699  Оксана   22  Москва             ultra  3076.159348  14.389525   \n",
       "6498      699  Оксана   22  Москва             ultra  4707.845501  15.839579   \n",
       "6499      699  Оксана   22  Москва             ultra  3202.890770  25.217345   \n",
       "\n",
       "           date  month  minute_price  start_ride_price  subscription_fee  \n",
       "0    2021-01-01      1             6                 0               199  \n",
       "1    2021-01-18      1             6                 0               199  \n",
       "2    2021-04-20      4             6                 0               199  \n",
       "3    2021-08-11      8             6                 0               199  \n",
       "4    2021-08-28      8             6                 0               199  \n",
       "...         ...    ...           ...               ...               ...  \n",
       "6495 2021-08-29      8             6                 0               199  \n",
       "6496 2021-09-12      9             6                 0               199  \n",
       "6497 2021-09-26      9             6                 0               199  \n",
       "6498 2021-10-17     10             6                 0               199  \n",
       "6499 2021-12-03     12             6                 0               199  \n",
       "\n",
       "[6500 rows x 12 columns]"
      ]
     },
     "execution_count": 25,
     "metadata": {},
     "output_type": "execute_result"
    }
   ],
   "source": [
    "data_ultra = data[data['subscription_type'] == 'ultra']\n",
    "data_ultra"
   ]
  },
  {
   "cell_type": "markdown",
   "id": "09798e3c",
   "metadata": {},
   "source": [
    "##### Создадим два датафрейма с пользователями с подпиской и без:"
   ]
  },
  {
   "cell_type": "code",
   "execution_count": 26,
   "id": "e80b84d0",
   "metadata": {},
   "outputs": [
    {
     "data": {
      "text/html": [
       "<div>\n",
       "<style scoped>\n",
       "    .dataframe tbody tr th:only-of-type {\n",
       "        vertical-align: middle;\n",
       "    }\n",
       "\n",
       "    .dataframe tbody tr th {\n",
       "        vertical-align: top;\n",
       "    }\n",
       "\n",
       "    .dataframe thead th {\n",
       "        text-align: right;\n",
       "    }\n",
       "</style>\n",
       "<table border=\"1\" class=\"dataframe\">\n",
       "  <thead>\n",
       "    <tr style=\"text-align: right;\">\n",
       "      <th></th>\n",
       "      <th>user_id</th>\n",
       "      <th>name</th>\n",
       "      <th>age</th>\n",
       "      <th>city</th>\n",
       "      <th>subscription_type</th>\n",
       "      <th>distance</th>\n",
       "      <th>duration</th>\n",
       "      <th>date</th>\n",
       "      <th>month</th>\n",
       "      <th>minute_price</th>\n",
       "      <th>start_ride_price</th>\n",
       "      <th>subscription_fee</th>\n",
       "    </tr>\n",
       "  </thead>\n",
       "  <tbody>\n",
       "    <tr>\n",
       "      <th>6500</th>\n",
       "      <td>700</td>\n",
       "      <td>Айдар</td>\n",
       "      <td>22</td>\n",
       "      <td>Омск</td>\n",
       "      <td>free</td>\n",
       "      <td>2515.690719</td>\n",
       "      <td>14.944286</td>\n",
       "      <td>2021-01-02</td>\n",
       "      <td>1</td>\n",
       "      <td>8</td>\n",
       "      <td>50</td>\n",
       "      <td>0</td>\n",
       "    </tr>\n",
       "    <tr>\n",
       "      <th>6501</th>\n",
       "      <td>700</td>\n",
       "      <td>Айдар</td>\n",
       "      <td>22</td>\n",
       "      <td>Омск</td>\n",
       "      <td>free</td>\n",
       "      <td>846.932642</td>\n",
       "      <td>16.234663</td>\n",
       "      <td>2021-02-01</td>\n",
       "      <td>2</td>\n",
       "      <td>8</td>\n",
       "      <td>50</td>\n",
       "      <td>0</td>\n",
       "    </tr>\n",
       "    <tr>\n",
       "      <th>6502</th>\n",
       "      <td>700</td>\n",
       "      <td>Айдар</td>\n",
       "      <td>22</td>\n",
       "      <td>Омск</td>\n",
       "      <td>free</td>\n",
       "      <td>4004.434142</td>\n",
       "      <td>20.016628</td>\n",
       "      <td>2021-02-04</td>\n",
       "      <td>2</td>\n",
       "      <td>8</td>\n",
       "      <td>50</td>\n",
       "      <td>0</td>\n",
       "    </tr>\n",
       "    <tr>\n",
       "      <th>6503</th>\n",
       "      <td>700</td>\n",
       "      <td>Айдар</td>\n",
       "      <td>22</td>\n",
       "      <td>Омск</td>\n",
       "      <td>free</td>\n",
       "      <td>1205.911290</td>\n",
       "      <td>9.782872</td>\n",
       "      <td>2021-02-10</td>\n",
       "      <td>2</td>\n",
       "      <td>8</td>\n",
       "      <td>50</td>\n",
       "      <td>0</td>\n",
       "    </tr>\n",
       "    <tr>\n",
       "      <th>6504</th>\n",
       "      <td>700</td>\n",
       "      <td>Айдар</td>\n",
       "      <td>22</td>\n",
       "      <td>Омск</td>\n",
       "      <td>free</td>\n",
       "      <td>3047.379435</td>\n",
       "      <td>17.427673</td>\n",
       "      <td>2021-02-14</td>\n",
       "      <td>2</td>\n",
       "      <td>8</td>\n",
       "      <td>50</td>\n",
       "      <td>0</td>\n",
       "    </tr>\n",
       "    <tr>\n",
       "      <th>...</th>\n",
       "      <td>...</td>\n",
       "      <td>...</td>\n",
       "      <td>...</td>\n",
       "      <td>...</td>\n",
       "      <td>...</td>\n",
       "      <td>...</td>\n",
       "      <td>...</td>\n",
       "      <td>...</td>\n",
       "      <td>...</td>\n",
       "      <td>...</td>\n",
       "      <td>...</td>\n",
       "      <td>...</td>\n",
       "    </tr>\n",
       "    <tr>\n",
       "      <th>18063</th>\n",
       "      <td>1534</td>\n",
       "      <td>Альберт</td>\n",
       "      <td>25</td>\n",
       "      <td>Краснодар</td>\n",
       "      <td>free</td>\n",
       "      <td>3781.098080</td>\n",
       "      <td>19.822962</td>\n",
       "      <td>2021-11-04</td>\n",
       "      <td>11</td>\n",
       "      <td>8</td>\n",
       "      <td>50</td>\n",
       "      <td>0</td>\n",
       "    </tr>\n",
       "    <tr>\n",
       "      <th>18064</th>\n",
       "      <td>1534</td>\n",
       "      <td>Альберт</td>\n",
       "      <td>25</td>\n",
       "      <td>Краснодар</td>\n",
       "      <td>free</td>\n",
       "      <td>2840.423057</td>\n",
       "      <td>21.409799</td>\n",
       "      <td>2021-11-16</td>\n",
       "      <td>11</td>\n",
       "      <td>8</td>\n",
       "      <td>50</td>\n",
       "      <td>0</td>\n",
       "    </tr>\n",
       "    <tr>\n",
       "      <th>18065</th>\n",
       "      <td>1534</td>\n",
       "      <td>Альберт</td>\n",
       "      <td>25</td>\n",
       "      <td>Краснодар</td>\n",
       "      <td>free</td>\n",
       "      <td>3826.185507</td>\n",
       "      <td>18.435051</td>\n",
       "      <td>2021-11-18</td>\n",
       "      <td>11</td>\n",
       "      <td>8</td>\n",
       "      <td>50</td>\n",
       "      <td>0</td>\n",
       "    </tr>\n",
       "    <tr>\n",
       "      <th>18066</th>\n",
       "      <td>1534</td>\n",
       "      <td>Альберт</td>\n",
       "      <td>25</td>\n",
       "      <td>Краснодар</td>\n",
       "      <td>free</td>\n",
       "      <td>2902.308661</td>\n",
       "      <td>16.674362</td>\n",
       "      <td>2021-11-27</td>\n",
       "      <td>11</td>\n",
       "      <td>8</td>\n",
       "      <td>50</td>\n",
       "      <td>0</td>\n",
       "    </tr>\n",
       "    <tr>\n",
       "      <th>18067</th>\n",
       "      <td>1534</td>\n",
       "      <td>Альберт</td>\n",
       "      <td>25</td>\n",
       "      <td>Краснодар</td>\n",
       "      <td>free</td>\n",
       "      <td>2371.711192</td>\n",
       "      <td>15.893917</td>\n",
       "      <td>2021-12-29</td>\n",
       "      <td>12</td>\n",
       "      <td>8</td>\n",
       "      <td>50</td>\n",
       "      <td>0</td>\n",
       "    </tr>\n",
       "  </tbody>\n",
       "</table>\n",
       "<p>11568 rows × 12 columns</p>\n",
       "</div>"
      ],
      "text/plain": [
       "       user_id     name  age       city subscription_type     distance  \\\n",
       "6500       700    Айдар   22       Омск              free  2515.690719   \n",
       "6501       700    Айдар   22       Омск              free   846.932642   \n",
       "6502       700    Айдар   22       Омск              free  4004.434142   \n",
       "6503       700    Айдар   22       Омск              free  1205.911290   \n",
       "6504       700    Айдар   22       Омск              free  3047.379435   \n",
       "...        ...      ...  ...        ...               ...          ...   \n",
       "18063     1534  Альберт   25  Краснодар              free  3781.098080   \n",
       "18064     1534  Альберт   25  Краснодар              free  2840.423057   \n",
       "18065     1534  Альберт   25  Краснодар              free  3826.185507   \n",
       "18066     1534  Альберт   25  Краснодар              free  2902.308661   \n",
       "18067     1534  Альберт   25  Краснодар              free  2371.711192   \n",
       "\n",
       "        duration       date  month  minute_price  start_ride_price  \\\n",
       "6500   14.944286 2021-01-02      1             8                50   \n",
       "6501   16.234663 2021-02-01      2             8                50   \n",
       "6502   20.016628 2021-02-04      2             8                50   \n",
       "6503    9.782872 2021-02-10      2             8                50   \n",
       "6504   17.427673 2021-02-14      2             8                50   \n",
       "...          ...        ...    ...           ...               ...   \n",
       "18063  19.822962 2021-11-04     11             8                50   \n",
       "18064  21.409799 2021-11-16     11             8                50   \n",
       "18065  18.435051 2021-11-18     11             8                50   \n",
       "18066  16.674362 2021-11-27     11             8                50   \n",
       "18067  15.893917 2021-12-29     12             8                50   \n",
       "\n",
       "       subscription_fee  \n",
       "6500                  0  \n",
       "6501                  0  \n",
       "6502                  0  \n",
       "6503                  0  \n",
       "6504                  0  \n",
       "...                 ...  \n",
       "18063                 0  \n",
       "18064                 0  \n",
       "18065                 0  \n",
       "18066                 0  \n",
       "18067                 0  \n",
       "\n",
       "[11568 rows x 12 columns]"
      ]
     },
     "execution_count": 26,
     "metadata": {},
     "output_type": "execute_result"
    }
   ],
   "source": [
    "data_free = data[data['subscription_type'] == 'free']\n",
    "data_free"
   ]
  },
  {
   "cell_type": "markdown",
   "id": "135644b1",
   "metadata": {},
   "source": [
    "##### Визуализируем информацию о растоянии и времени поездок для пользователей обеих категорий:"
   ]
  },
  {
   "cell_type": "code",
   "execution_count": 27,
   "id": "4e42649f",
   "metadata": {},
   "outputs": [
    {
     "data": {
      "image/png": "[encoded data removed]",
      "text/plain": [
       "<Figure size 640x480 with 1 Axes>"
      ]
     },
     "metadata": {},
     "output_type": "display_data"
    },
    {
     "data": {
      "text/plain": [
       "<Figure size 2000x2000 with 0 Axes>"
      ]
     },
     "metadata": {},
     "output_type": "display_data"
    }
   ],
   "source": [
    "plt.hist(data_free['distance'], bins=40, range = (0, 7000))\n",
    "plt.title('Расстояние, бесплатный тариф')\n",
    "plt.xlabel('Расстояние, м')\n",
    "plt.ylabel('Количество поездок')\n",
    "plt.figure(figsize=(20,20))\n",
    "plt.show()"
   ]
  },
  {
   "cell_type": "markdown",
   "id": "ca53ddfb",
   "metadata": {},
   "source": [
    " Видно два пика, первый около 600 м, второй от 2500 до 4000 м."
   ]
  },
  {
   "cell_type": "code",
   "execution_count": 28,
   "id": "3e465573",
   "metadata": {},
   "outputs": [
    {
     "data": {
      "image/png": "[encoded data removed]",
      "text/plain": [
       "<Figure size 640x480 with 1 Axes>"
      ]
     },
     "metadata": {},
     "output_type": "display_data"
    },
    {
     "data": {
      "text/plain": [
       "<Figure size 2000x2000 with 0 Axes>"
      ]
     },
     "metadata": {},
     "output_type": "display_data"
    }
   ],
   "source": [
    "plt.hist(data_free['duration'], bins=40, range = (0, 40))\n",
    "plt.title('Время, бесплатный тариф')\n",
    "plt.xlabel('Время, мин')\n",
    "plt.ylabel('Количество поездок')\n",
    "plt.figure(figsize=(20,20))\n",
    "plt.show()"
   ]
  },
  {
   "cell_type": "markdown",
   "id": "163f7cee",
   "metadata": {},
   "source": [
    "Видно два пика, один 1 мин, второй от 15 до 20 мин."
   ]
  },
  {
   "cell_type": "code",
   "execution_count": 29,
   "id": "15929e3b",
   "metadata": {},
   "outputs": [
    {
     "data": {
      "image/png": "[encoded data removed]",
      "text/plain": [
       "<Figure size 640x480 with 1 Axes>"
      ]
     },
     "metadata": {},
     "output_type": "display_data"
    },
    {
     "data": {
      "text/plain": [
       "<Figure size 2000x2000 with 0 Axes>"
      ]
     },
     "metadata": {},
     "output_type": "display_data"
    }
   ],
   "source": [
    "plt.hist(data_ultra['distance'], bins=40, range = (0, 7000))\n",
    "plt.title('Расстояние, ultra')\n",
    "plt.xlabel('Расстояние, м')\n",
    "plt.ylabel('Количество поездок')\n",
    "plt.figure(figsize=(20,20))\n",
    "plt.show()"
   ]
  },
  {
   "cell_type": "markdown",
   "id": "f9f187a6",
   "metadata": {},
   "source": [
    "Видно два пика, первый 1 км, второй 3 км."
   ]
  },
  {
   "cell_type": "code",
   "execution_count": 30,
   "id": "64ab6d87",
   "metadata": {},
   "outputs": [
    {
     "data": {
      "image/png": "[encoded data removed]",
      "text/plain": [
       "<Figure size 640x480 with 1 Axes>"
      ]
     },
     "metadata": {},
     "output_type": "display_data"
    },
    {
     "data": {
      "text/plain": [
       "<Figure size 2000x2000 with 0 Axes>"
      ]
     },
     "metadata": {},
     "output_type": "display_data"
    }
   ],
   "source": [
    "plt.hist(data_free['duration'], bins=40, range = (0, 40))\n",
    "plt.title('Время, ultra')\n",
    "plt.xlabel('Время, мин')\n",
    "plt.ylabel('Количество поездок')\n",
    "plt.figure(figsize=(20,20))\n",
    "plt.show()"
   ]
  },
  {
   "cell_type": "markdown",
   "id": "8cda39ce",
   "metadata": {},
   "source": [
    "Видно два пика, один 1 мин, второй от 15 до 22 мин."
   ]
  },
  {
   "cell_type": "markdown",
   "id": "6e705045",
   "metadata": {},
   "source": [
    "#### Шаг 5. Подсчёт выручки"
   ]
  },
  {
   "cell_type": "markdown",
   "id": "18131d05",
   "metadata": {},
   "source": [
    "##### Создадим датафрейм с агрегированными данными о поездках на основе датафрейма с объединёнными данными из шага 4:"
   ]
  },
  {
   "cell_type": "code",
   "execution_count": 31,
   "id": "57f169da",
   "metadata": {},
   "outputs": [],
   "source": [
    "data_agr = pd.pivot_table(data,\n",
    "                index = ['month', 'user_id'],\n",
    "                values = ['distance', 'name', 'duration', 'subscription_type'],\n",
    "                aggfunc = {'distance': sum,\n",
    "                          'name': len,\n",
    "                          'duration': sum,\n",
    "                          'subscription_type': min})"
   ]
  },
  {
   "cell_type": "code",
   "execution_count": 32,
   "id": "6f57947f",
   "metadata": {},
   "outputs": [],
   "source": [
    "data_agr = data_agr.rename(columns={'name':'count'})"
   ]
  },
  {
   "cell_type": "code",
   "execution_count": 33,
   "id": "59fd63e2",
   "metadata": {},
   "outputs": [],
   "source": [
    "data_agr['duration'] = np.ceil(data_agr['duration'])"
   ]
  },
  {
   "cell_type": "code",
   "execution_count": 34,
   "id": "aac1de4c",
   "metadata": {},
   "outputs": [
    {
     "data": {
      "text/html": [
       "<div>\n",
       "<style scoped>\n",
       "    .dataframe tbody tr th:only-of-type {\n",
       "        vertical-align: middle;\n",
       "    }\n",
       "\n",
       "    .dataframe tbody tr th {\n",
       "        vertical-align: top;\n",
       "    }\n",
       "\n",
       "    .dataframe thead th {\n",
       "        text-align: right;\n",
       "    }\n",
       "</style>\n",
       "<table border=\"1\" class=\"dataframe\">\n",
       "  <thead>\n",
       "    <tr style=\"text-align: right;\">\n",
       "      <th></th>\n",
       "      <th></th>\n",
       "      <th>distance</th>\n",
       "      <th>duration</th>\n",
       "      <th>count</th>\n",
       "      <th>subscription_type</th>\n",
       "    </tr>\n",
       "    <tr>\n",
       "      <th>month</th>\n",
       "      <th>user_id</th>\n",
       "      <th></th>\n",
       "      <th></th>\n",
       "      <th></th>\n",
       "      <th></th>\n",
       "    </tr>\n",
       "  </thead>\n",
       "  <tbody>\n",
       "    <tr>\n",
       "      <th rowspan=\"10\" valign=\"top\">1</th>\n",
       "      <th>1</th>\n",
       "      <td>7027.511294</td>\n",
       "      <td>42.0</td>\n",
       "      <td>2</td>\n",
       "      <td>ultra</td>\n",
       "    </tr>\n",
       "    <tr>\n",
       "      <th>3</th>\n",
       "      <td>3061.777147</td>\n",
       "      <td>13.0</td>\n",
       "      <td>1</td>\n",
       "      <td>ultra</td>\n",
       "    </tr>\n",
       "    <tr>\n",
       "      <th>5</th>\n",
       "      <td>3914.646990</td>\n",
       "      <td>13.0</td>\n",
       "      <td>1</td>\n",
       "      <td>ultra</td>\n",
       "    </tr>\n",
       "    <tr>\n",
       "      <th>7</th>\n",
       "      <td>6478.080979</td>\n",
       "      <td>28.0</td>\n",
       "      <td>2</td>\n",
       "      <td>ultra</td>\n",
       "    </tr>\n",
       "    <tr>\n",
       "      <th>12</th>\n",
       "      <td>3577.151148</td>\n",
       "      <td>33.0</td>\n",
       "      <td>1</td>\n",
       "      <td>ultra</td>\n",
       "    </tr>\n",
       "    <tr>\n",
       "      <th>13</th>\n",
       "      <td>6687.987446</td>\n",
       "      <td>42.0</td>\n",
       "      <td>2</td>\n",
       "      <td>ultra</td>\n",
       "    </tr>\n",
       "    <tr>\n",
       "      <th>14</th>\n",
       "      <td>7699.643820</td>\n",
       "      <td>34.0</td>\n",
       "      <td>2</td>\n",
       "      <td>ultra</td>\n",
       "    </tr>\n",
       "    <tr>\n",
       "      <th>15</th>\n",
       "      <td>4187.621459</td>\n",
       "      <td>39.0</td>\n",
       "      <td>1</td>\n",
       "      <td>ultra</td>\n",
       "    </tr>\n",
       "    <tr>\n",
       "      <th>20</th>\n",
       "      <td>3516.719208</td>\n",
       "      <td>29.0</td>\n",
       "      <td>1</td>\n",
       "      <td>ultra</td>\n",
       "    </tr>\n",
       "    <tr>\n",
       "      <th>22</th>\n",
       "      <td>3058.692225</td>\n",
       "      <td>13.0</td>\n",
       "      <td>1</td>\n",
       "      <td>ultra</td>\n",
       "    </tr>\n",
       "  </tbody>\n",
       "</table>\n",
       "</div>"
      ],
      "text/plain": [
       "                  distance  duration  count subscription_type\n",
       "month user_id                                                \n",
       "1     1        7027.511294      42.0      2             ultra\n",
       "      3        3061.777147      13.0      1             ultra\n",
       "      5        3914.646990      13.0      1             ultra\n",
       "      7        6478.080979      28.0      2             ultra\n",
       "      12       3577.151148      33.0      1             ultra\n",
       "      13       6687.987446      42.0      2             ultra\n",
       "      14       7699.643820      34.0      2             ultra\n",
       "      15       4187.621459      39.0      1             ultra\n",
       "      20       3516.719208      29.0      1             ultra\n",
       "      22       3058.692225      13.0      1             ultra"
      ]
     },
     "execution_count": 34,
     "metadata": {},
     "output_type": "execute_result"
    }
   ],
   "source": [
    "data_agr.head(10)"
   ]
  },
  {
   "cell_type": "markdown",
   "id": "3ccbb447",
   "metadata": {},
   "source": [
    "#####  В этот же датафрейм добавим столбец с помесячной выручкой, которую принёс каждый пользователь:"
   ]
  },
  {
   "cell_type": "code",
   "execution_count": 35,
   "id": "e9eb3939",
   "metadata": {},
   "outputs": [],
   "source": [
    "def money(row):\n",
    "    if row['subscription_type'] == 'ultra':\n",
    "        return (199 + row['duration'] * 6)\n",
    "    else:\n",
    "        return (50  * row['count'] + 8 * row['duration'])"
   ]
  },
  {
   "cell_type": "code",
   "execution_count": 36,
   "id": "f892b3ee",
   "metadata": {},
   "outputs": [],
   "source": [
    "data_agr['money_per_month'] = data_agr.apply(money, axis=1)"
   ]
  },
  {
   "cell_type": "code",
   "execution_count": 37,
   "id": "be09a3de",
   "metadata": {},
   "outputs": [
    {
     "data": {
      "text/html": [
       "<div>\n",
       "<style scoped>\n",
       "    .dataframe tbody tr th:only-of-type {\n",
       "        vertical-align: middle;\n",
       "    }\n",
       "\n",
       "    .dataframe tbody tr th {\n",
       "        vertical-align: top;\n",
       "    }\n",
       "\n",
       "    .dataframe thead th {\n",
       "        text-align: right;\n",
       "    }\n",
       "</style>\n",
       "<table border=\"1\" class=\"dataframe\">\n",
       "  <thead>\n",
       "    <tr style=\"text-align: right;\">\n",
       "      <th></th>\n",
       "      <th></th>\n",
       "      <th>distance</th>\n",
       "      <th>duration</th>\n",
       "      <th>count</th>\n",
       "      <th>subscription_type</th>\n",
       "      <th>money_per_month</th>\n",
       "    </tr>\n",
       "    <tr>\n",
       "      <th>month</th>\n",
       "      <th>user_id</th>\n",
       "      <th></th>\n",
       "      <th></th>\n",
       "      <th></th>\n",
       "      <th></th>\n",
       "      <th></th>\n",
       "    </tr>\n",
       "  </thead>\n",
       "  <tbody>\n",
       "    <tr>\n",
       "      <th rowspan=\"5\" valign=\"top\">1</th>\n",
       "      <th>1</th>\n",
       "      <td>7027.511294</td>\n",
       "      <td>42.0</td>\n",
       "      <td>2</td>\n",
       "      <td>ultra</td>\n",
       "      <td>451.0</td>\n",
       "    </tr>\n",
       "    <tr>\n",
       "      <th>3</th>\n",
       "      <td>3061.777147</td>\n",
       "      <td>13.0</td>\n",
       "      <td>1</td>\n",
       "      <td>ultra</td>\n",
       "      <td>277.0</td>\n",
       "    </tr>\n",
       "    <tr>\n",
       "      <th>5</th>\n",
       "      <td>3914.646990</td>\n",
       "      <td>13.0</td>\n",
       "      <td>1</td>\n",
       "      <td>ultra</td>\n",
       "      <td>277.0</td>\n",
       "    </tr>\n",
       "    <tr>\n",
       "      <th>7</th>\n",
       "      <td>6478.080979</td>\n",
       "      <td>28.0</td>\n",
       "      <td>2</td>\n",
       "      <td>ultra</td>\n",
       "      <td>367.0</td>\n",
       "    </tr>\n",
       "    <tr>\n",
       "      <th>12</th>\n",
       "      <td>3577.151148</td>\n",
       "      <td>33.0</td>\n",
       "      <td>1</td>\n",
       "      <td>ultra</td>\n",
       "      <td>397.0</td>\n",
       "    </tr>\n",
       "    <tr>\n",
       "      <th>...</th>\n",
       "      <th>...</th>\n",
       "      <td>...</td>\n",
       "      <td>...</td>\n",
       "      <td>...</td>\n",
       "      <td>...</td>\n",
       "      <td>...</td>\n",
       "    </tr>\n",
       "    <tr>\n",
       "      <th rowspan=\"5\" valign=\"top\">12</th>\n",
       "      <th>1525</th>\n",
       "      <td>4597.854350</td>\n",
       "      <td>34.0</td>\n",
       "      <td>1</td>\n",
       "      <td>free</td>\n",
       "      <td>322.0</td>\n",
       "    </tr>\n",
       "    <tr>\n",
       "      <th>1526</th>\n",
       "      <td>3644.121544</td>\n",
       "      <td>23.0</td>\n",
       "      <td>1</td>\n",
       "      <td>free</td>\n",
       "      <td>234.0</td>\n",
       "    </tr>\n",
       "    <tr>\n",
       "      <th>1528</th>\n",
       "      <td>3998.569324</td>\n",
       "      <td>11.0</td>\n",
       "      <td>1</td>\n",
       "      <td>free</td>\n",
       "      <td>138.0</td>\n",
       "    </tr>\n",
       "    <tr>\n",
       "      <th>1532</th>\n",
       "      <td>6111.889853</td>\n",
       "      <td>41.0</td>\n",
       "      <td>2</td>\n",
       "      <td>free</td>\n",
       "      <td>428.0</td>\n",
       "    </tr>\n",
       "    <tr>\n",
       "      <th>1534</th>\n",
       "      <td>2371.711192</td>\n",
       "      <td>16.0</td>\n",
       "      <td>1</td>\n",
       "      <td>free</td>\n",
       "      <td>178.0</td>\n",
       "    </tr>\n",
       "  </tbody>\n",
       "</table>\n",
       "<p>11331 rows × 5 columns</p>\n",
       "</div>"
      ],
      "text/plain": [
       "                  distance  duration  count subscription_type  money_per_month\n",
       "month user_id                                                                 \n",
       "1     1        7027.511294      42.0      2             ultra            451.0\n",
       "      3        3061.777147      13.0      1             ultra            277.0\n",
       "      5        3914.646990      13.0      1             ultra            277.0\n",
       "      7        6478.080979      28.0      2             ultra            367.0\n",
       "      12       3577.151148      33.0      1             ultra            397.0\n",
       "...                    ...       ...    ...               ...              ...\n",
       "12    1525     4597.854350      34.0      1              free            322.0\n",
       "      1526     3644.121544      23.0      1              free            234.0\n",
       "      1528     3998.569324      11.0      1              free            138.0\n",
       "      1532     6111.889853      41.0      2              free            428.0\n",
       "      1534     2371.711192      16.0      1              free            178.0\n",
       "\n",
       "[11331 rows x 5 columns]"
      ]
     },
     "execution_count": 37,
     "metadata": {},
     "output_type": "execute_result"
    }
   ],
   "source": [
    "data_agr"
   ]
  },
  {
   "cell_type": "markdown",
   "id": "41545ac0",
   "metadata": {},
   "source": [
    "#### Шаг 6. Проверка гипотез"
   ]
  },
  {
   "cell_type": "markdown",
   "id": "16bfd07a",
   "metadata": {},
   "source": [
    "##### Важно понять, тратят ли пользователи с подпиской больше времени на поездки? Если да, то пользователи с подпиской могут быть «выгоднее» для компании:"
   ]
  },
  {
   "cell_type": "markdown",
   "id": "ed86abfc",
   "metadata": {},
   "source": [
    "H_0: data_ultra['duration'] = data_free['duration']\n"
   ]
  },
  {
   "cell_type": "markdown",
   "id": "02fd1ed3",
   "metadata": {},
   "source": [
    "H_1: data_ultra['duration'] > data_free['duration']"
   ]
  },
  {
   "cell_type": "code",
   "execution_count": 38,
   "id": "d2371fc9",
   "metadata": {},
   "outputs": [
    {
     "name": "stdout",
     "output_type": "stream",
     "text": [
      "Отвергаем нулевую гипотезу\n"
     ]
    }
   ],
   "source": [
    "ultra = data_ultra['duration']\n",
    "free = data_free['duration']\n",
    "\n",
    "alpha = .05\n",
    "\n",
    "results = st.ttest_ind(ultra, free, alternative='greater')\n",
    "\n",
    "if results.pvalue < alpha:\n",
    "    print('Отвергаем нулевую гипотезу')\n",
    "else:\n",
    "    print('Ну удалость отвергнуть нулевую гипотезу')"
   ]
  },
  {
   "cell_type": "markdown",
   "id": "21c66450",
   "metadata": {},
   "source": [
    "Проверили гипотезу, отвергли гипотезу о том, что время поездки пользователей на тарифе ultra равно времени поездки пользователей на тарифе free."
   ]
  },
  {
   "cell_type": "markdown",
   "id": "e617afb2",
   "metadata": {},
   "source": [
    "##### Расстояние одной поездки в 3130 метров — оптимальное с точки зрения износа самоката. Можно ли сказать, что среднее расстояние, которое проезжают пользователи с подпиской за одну поездку, не превышает 3130 метров? "
   ]
  },
  {
   "cell_type": "markdown",
   "id": "04e46dcd",
   "metadata": {},
   "source": [
    "Проверим гипотезу: пользователи с подпиской проезжают расстояние, не превышающее 3130 метров за одну поездку."
   ]
  },
  {
   "cell_type": "markdown",
   "id": "208fbba4",
   "metadata": {},
   "source": [
    "H_0: data_ultra['distance'] = 3130"
   ]
  },
  {
   "cell_type": "markdown",
   "id": "e727d135",
   "metadata": {},
   "source": [
    "H_1: data_ultra['distance'] < 3130"
   ]
  },
  {
   "cell_type": "code",
   "execution_count": 39,
   "id": "3403429e",
   "metadata": {},
   "outputs": [
    {
     "name": "stdout",
     "output_type": "stream",
     "text": [
      "Не удалось отвергнуть нулевую гипотезу\n"
     ]
    }
   ],
   "source": [
    "ultra_dist = data_ultra['distance']\n",
    "\n",
    "interested_value = 3130.0\n",
    "\n",
    "alpha = .05\n",
    "\n",
    "results = st.ttest_1samp(\n",
    "    ultra_dist, \n",
    "    interested_value,\n",
    "    alternative='less')    \n",
    "\n",
    "if (results.pvalue < alpha):\n",
    "    print('Отвергаем нулевую гипотезу')\n",
    "else:\n",
    "    print('Не удалось отвергнуть нулевую гипотезу')"
   ]
  },
  {
   "cell_type": "markdown",
   "id": "4c830b36",
   "metadata": {},
   "source": [
    "Проверили гипотезу, и мы не можем утверждать, что расстояние, которое проехали пользователи на тарифе ultra не превышает 3130 метров."
   ]
  },
  {
   "cell_type": "markdown",
   "id": "e4c9b12a",
   "metadata": {},
   "source": [
    "##### Проверьте гипотезу о том, будет ли помесячная выручка от пользователей с подпиской по месяцам выше, чем выручка от пользователей без подписки:"
   ]
  },
  {
   "cell_type": "markdown",
   "id": "1de9ab8a",
   "metadata": {},
   "source": [
    "H_0: data_agr.loc[data_agr['subscription_type'] == 'ultra', 'money_per_month'] == data_agr.loc[data_agr['subscription_type'] == 'free', 'money_per_month']"
   ]
  },
  {
   "cell_type": "markdown",
   "id": "f84dc12a",
   "metadata": {},
   "source": [
    "H_1: data_agr.loc[data_agr['subscription_type'] == 'ultra', 'money_per_month'] > data_agr.loc[data_agr['subscription_type'] == 'free', 'money_per_month']"
   ]
  },
  {
   "cell_type": "code",
   "execution_count": 40,
   "id": "4d93d230",
   "metadata": {},
   "outputs": [
    {
     "name": "stdout",
     "output_type": "stream",
     "text": [
      "Отвергаем нулевую гипотезу\n"
     ]
    }
   ],
   "source": [
    "ultra_per_mnth = data_agr.loc[data_agr['subscription_type'] == 'ultra', 'money_per_month'] \n",
    "\n",
    "free_per_mnth = data_agr.loc[data_agr['subscription_type']== 'free', 'money_per_month'] \n",
    "\n",
    "\n",
    "results = st.ttest_ind(ultra_per_mnth, \n",
    "                       free_per_mnth,\n",
    "                       alternative = 'greater')\n",
    "\n",
    "alpha = .05\n",
    "\n",
    "\n",
    "if results.pvalue < alpha:\n",
    "    print('Отвергаем нулевую гипотезу')\n",
    "else:\n",
    "    print('Не удалось отвергнуть нулевую гипотезу')"
   ]
  },
  {
   "cell_type": "markdown",
   "id": "f07e64f9",
   "metadata": {},
   "source": [
    "Проверили гипотезу, соответственно, мы можем утверждать, что выручка с пользователей на подписке ultra превышает выручку с пользователей на подписке free."
   ]
  },
  {
   "cell_type": "markdown",
   "id": "a89718d9",
   "metadata": {},
   "source": [
    "##### Представьте такую ситуацию: техническая команда сервиса обновила сервера, с которыми взаимодействует мобильное приложение. Она надеется, что из-за этого количество обращений в техподдержку значимо снизилось. Некоторый файл содержит для каждого пользователя данные о количестве обращений до обновления и после него. Какой тест вам понадобился бы для проверки этой гипотезы?"
   ]
  },
  {
   "cell_type": "markdown",
   "id": "1d26524b",
   "metadata": {},
   "source": [
    "Будем использовать гипотезу о равенстве средних для зависимых (парных) выборок.\n",
    "\n",
    "Гипотезы будут сформулированы так:\n",
    "- H0 : μ1 = μ2\n",
    "- H1 : μ1 != μ2"
   ]
  },
  {
   "cell_type": "markdown",
   "id": "ead68308",
   "metadata": {},
   "source": [
    "где μ1 и μ2 - средние значения количество обращений в техподдержку до и после изменения.\n",
    "\n",
    "Метод, который нужно использовать при сравнении: scipy.stats.ttest_rel()"
   ]
  },
  {
   "cell_type": "markdown",
   "id": "ac82eea6",
   "metadata": {},
   "source": [
    "## Общий вывод:\n",
    "Загрузили 3 датафрейма с информацией о пользователях, поездках и подписках.\n",
    "Создали новый столбец с номером месяца, проверили наличие пропущенных значений, дубликатов в датафреймах, обработали.\n",
    "Провели исследовательский анализ данных:\n",
    "- Самый частовстречающийся город - Пятигорск, реже всего - Москва.\n",
    "- 45.5% пользователей с подпиской, остальные 55.5% без подписки.\n",
    "- Чаще всего пользователи берут самокат на поездку в 3 км, но есть и второй пик = ~1км.\n",
    "- В среднем пользователи арендуют самокат на 17 минут, виден второй пик, около 1 минуты."
   ]
  },
  {
   "cell_type": "markdown",
   "id": "4233db3e",
   "metadata": {},
   "source": [
    "Объединили данные о пользователях, поездках и подписках в один датафрейм и создали еще два с информацией о пользователях с подпиской и без отдельно.\n",
    "Создали датафрейм с агрегированными данными о поездках: суммарное расстояние, количество поездок и суммарное время для каждого пользователя за каждый месяц. В этот же датайрейм добавили столбец с помесячной выручкой.\n",
    "Проверили гипотезы:\n",
    "\n",
    "- Пользователи с подпиской тратят больше времени на поездки, чем пользователи на бесплатном тарифе-Отвергли нулевую гипотезу\n",
    "- Пользователи с подпиской проезжают расстояние, не превышающее 3130 метров за одну поездку-Не удалось отвергнуть нулевую гипотезу\n",
    "- Помесячная выручка от пользователей с подпиской выше, чем выручка от пользователей без подписки-Отвергли нулевую гипотезу"
   ]
  }
 ],
 "metadata": {
  "ExecuteTimeLog": [
   {
    "duration": 43,
    "start_time": "2023-08-26T10:44:18.265Z"
   },
   {
    "duration": 418,
    "start_time": "2023-08-26T10:44:24.126Z"
   },
   {
    "duration": 3,
    "start_time": "2023-08-26T10:44:28.771Z"
   },
   {
    "duration": 187,
    "start_time": "2023-08-26T10:44:28.775Z"
   },
   {
    "duration": 0,
    "start_time": "2023-08-26T10:45:06.954Z"
   },
   {
    "duration": 2,
    "start_time": "2023-08-26T10:45:09.963Z"
   },
   {
    "duration": 1896,
    "start_time": "2023-08-26T10:45:09.967Z"
   },
   {
    "duration": 75,
    "start_time": "2023-08-26T10:46:14.450Z"
   },
   {
    "duration": 110,
    "start_time": "2023-08-26T10:46:54.589Z"
   },
   {
    "duration": 101,
    "start_time": "2023-08-26T10:46:59.778Z"
   },
   {
    "duration": 6,
    "start_time": "2023-08-26T10:47:13.293Z"
   },
   {
    "duration": 6,
    "start_time": "2023-08-26T10:47:23.484Z"
   },
   {
    "duration": 7,
    "start_time": "2023-08-26T10:47:33.961Z"
   },
   {
    "duration": 5,
    "start_time": "2023-08-26T10:47:39.611Z"
   },
   {
    "duration": 7,
    "start_time": "2023-08-26T10:47:49.923Z"
   },
   {
    "duration": 5,
    "start_time": "2023-08-26T10:47:52.938Z"
   },
   {
    "duration": 3420,
    "start_time": "2023-08-26T10:50:10.324Z"
   },
   {
    "duration": 7,
    "start_time": "2023-08-26T10:50:23.614Z"
   },
   {
    "duration": 13,
    "start_time": "2023-08-26T10:50:33.424Z"
   },
   {
    "duration": 8,
    "start_time": "2023-08-26T10:50:38.010Z"
   },
   {
    "duration": 10,
    "start_time": "2023-08-26T10:51:08.663Z"
   },
   {
    "duration": 14,
    "start_time": "2023-08-26T10:51:23.623Z"
   },
   {
    "duration": 16,
    "start_time": "2023-08-26T10:51:27.939Z"
   },
   {
    "duration": 21,
    "start_time": "2023-08-26T10:51:42.569Z"
   },
   {
    "duration": 5,
    "start_time": "2023-08-26T10:52:58.405Z"
   },
   {
    "duration": 5,
    "start_time": "2023-08-26T10:53:03.982Z"
   },
   {
    "duration": 10,
    "start_time": "2023-08-26T10:53:11.115Z"
   },
   {
    "duration": 2,
    "start_time": "2023-08-26T10:54:42.494Z"
   },
   {
    "duration": 69,
    "start_time": "2023-08-26T10:54:42.498Z"
   },
   {
    "duration": 5,
    "start_time": "2023-08-26T10:54:42.569Z"
   },
   {
    "duration": 14,
    "start_time": "2023-08-26T10:54:42.576Z"
   },
   {
    "duration": 15,
    "start_time": "2023-08-26T10:54:42.591Z"
   },
   {
    "duration": 9,
    "start_time": "2023-08-26T10:54:42.607Z"
   },
   {
    "duration": 8,
    "start_time": "2023-08-26T10:54:42.617Z"
   },
   {
    "duration": 22,
    "start_time": "2023-08-26T10:54:42.626Z"
   },
   {
    "duration": 4,
    "start_time": "2023-08-26T10:54:42.649Z"
   },
   {
    "duration": 12,
    "start_time": "2023-08-26T10:54:42.654Z"
   },
   {
    "duration": 10,
    "start_time": "2023-08-26T10:56:37.942Z"
   },
   {
    "duration": 8,
    "start_time": "2023-08-26T10:56:41.319Z"
   },
   {
    "duration": 8,
    "start_time": "2023-08-26T10:56:50.669Z"
   },
   {
    "duration": 7,
    "start_time": "2023-08-26T10:56:59.045Z"
   },
   {
    "duration": 6,
    "start_time": "2023-08-26T10:57:03.100Z"
   },
   {
    "duration": 7,
    "start_time": "2023-08-26T10:57:19.114Z"
   },
   {
    "duration": 8,
    "start_time": "2023-08-26T10:57:23.814Z"
   },
   {
    "duration": 13,
    "start_time": "2023-08-26T10:57:45.904Z"
   },
   {
    "duration": 5,
    "start_time": "2023-08-26T10:57:52.098Z"
   },
   {
    "duration": 6,
    "start_time": "2023-08-26T10:58:01.100Z"
   },
   {
    "duration": 709,
    "start_time": "2023-08-26T11:02:27.606Z"
   },
   {
    "duration": 774,
    "start_time": "2023-08-26T11:03:56.515Z"
   },
   {
    "duration": 717,
    "start_time": "2023-08-26T11:05:05.357Z"
   },
   {
    "duration": 12,
    "start_time": "2023-08-26T11:11:40.153Z"
   },
   {
    "duration": 17,
    "start_time": "2023-08-26T11:11:55.444Z"
   },
   {
    "duration": 5,
    "start_time": "2023-08-26T11:12:05.339Z"
   },
   {
    "duration": 6,
    "start_time": "2023-08-26T11:12:17.703Z"
   },
   {
    "duration": 6,
    "start_time": "2023-08-26T11:12:41.297Z"
   },
   {
    "duration": 4,
    "start_time": "2023-08-26T11:12:50.105Z"
   },
   {
    "duration": 119,
    "start_time": "2023-08-26T11:16:33.187Z"
   },
   {
    "duration": 807,
    "start_time": "2023-08-26T11:16:54.588Z"
   },
   {
    "duration": 137,
    "start_time": "2023-08-26T11:17:28.038Z"
   },
   {
    "duration": 216,
    "start_time": "2023-08-26T11:17:31.964Z"
   },
   {
    "duration": 157,
    "start_time": "2023-08-26T11:17:38.652Z"
   },
   {
    "duration": 124,
    "start_time": "2023-08-26T11:17:47.620Z"
   },
   {
    "duration": 121,
    "start_time": "2023-08-26T11:17:54.905Z"
   },
   {
    "duration": 188,
    "start_time": "2023-08-26T11:18:00.239Z"
   },
   {
    "duration": 3,
    "start_time": "2023-08-26T11:19:09.749Z"
   },
   {
    "duration": 601,
    "start_time": "2023-08-26T11:20:52.322Z"
   },
   {
    "duration": 134,
    "start_time": "2023-08-26T11:22:41.719Z"
   },
   {
    "duration": 117,
    "start_time": "2023-08-26T11:25:56.949Z"
   },
   {
    "duration": 560,
    "start_time": "2023-08-26T11:26:19.493Z"
   },
   {
    "duration": 51,
    "start_time": "2023-08-26T13:11:38.881Z"
   },
   {
    "duration": 421,
    "start_time": "2023-08-26T13:12:35.415Z"
   },
   {
    "duration": 200,
    "start_time": "2023-08-26T13:12:35.838Z"
   },
   {
    "duration": 6,
    "start_time": "2023-08-26T13:12:36.040Z"
   },
   {
    "duration": 5,
    "start_time": "2023-08-26T13:12:36.048Z"
   },
   {
    "duration": 8,
    "start_time": "2023-08-26T13:12:36.055Z"
   },
   {
    "duration": 17,
    "start_time": "2023-08-26T13:12:36.064Z"
   },
   {
    "duration": 13,
    "start_time": "2023-08-26T13:12:36.082Z"
   },
   {
    "duration": 27,
    "start_time": "2023-08-26T13:12:36.096Z"
   },
   {
    "duration": 4,
    "start_time": "2023-08-26T13:12:36.125Z"
   },
   {
    "duration": 9,
    "start_time": "2023-08-26T13:12:36.133Z"
   },
   {
    "duration": 5,
    "start_time": "2023-08-26T13:12:36.143Z"
   },
   {
    "duration": 8,
    "start_time": "2023-08-26T13:12:36.149Z"
   },
   {
    "duration": 15,
    "start_time": "2023-08-26T13:12:36.158Z"
   },
   {
    "duration": 542,
    "start_time": "2023-08-26T13:12:36.175Z"
   },
   {
    "duration": 9,
    "start_time": "2023-08-26T13:12:36.718Z"
   },
   {
    "duration": 12,
    "start_time": "2023-08-26T13:12:36.728Z"
   },
   {
    "duration": 7,
    "start_time": "2023-08-26T13:12:36.742Z"
   },
   {
    "duration": 6,
    "start_time": "2023-08-26T13:12:36.750Z"
   },
   {
    "duration": 154,
    "start_time": "2023-08-26T13:12:36.758Z"
   },
   {
    "duration": 593,
    "start_time": "2023-08-26T13:12:36.914Z"
   },
   {
    "duration": 569,
    "start_time": "2023-08-26T13:12:37.509Z"
   },
   {
    "duration": 129,
    "start_time": "2023-08-26T13:12:38.079Z"
   },
   {
    "duration": 162,
    "start_time": "2023-08-26T13:12:38.210Z"
   },
   {
    "duration": 633,
    "start_time": "2023-08-26T13:12:38.374Z"
   },
   {
    "duration": 17,
    "start_time": "2023-08-26T13:12:39.009Z"
   },
   {
    "duration": 19,
    "start_time": "2023-08-26T13:13:18.075Z"
   },
   {
    "duration": 14,
    "start_time": "2023-08-26T13:13:20.781Z"
   },
   {
    "duration": 28,
    "start_time": "2023-08-26T13:13:28.156Z"
   },
   {
    "duration": 4995,
    "start_time": "2023-08-26T13:14:30.230Z"
   },
   {
    "duration": 19,
    "start_time": "2023-08-26T13:14:41.261Z"
   },
   {
    "duration": 6279,
    "start_time": "2023-08-26T13:14:59.146Z"
   },
   {
    "duration": 20,
    "start_time": "2023-08-26T13:16:51.330Z"
   },
   {
    "duration": 405,
    "start_time": "2023-08-26T13:18:42.966Z"
   },
   {
    "duration": 426,
    "start_time": "2023-08-26T13:18:56.727Z"
   },
   {
    "duration": 263,
    "start_time": "2023-08-26T13:19:12.725Z"
   },
   {
    "duration": 219,
    "start_time": "2023-08-26T13:19:21.126Z"
   },
   {
    "duration": 13,
    "start_time": "2023-08-26T13:25:36.202Z"
   },
   {
    "duration": 3,
    "start_time": "2023-08-26T13:25:40.149Z"
   },
   {
    "duration": 4,
    "start_time": "2023-08-26T13:25:44.522Z"
   },
   {
    "duration": 12,
    "start_time": "2023-08-26T13:26:40.863Z"
   },
   {
    "duration": 11,
    "start_time": "2023-08-26T13:26:52.919Z"
   },
   {
    "duration": 9,
    "start_time": "2023-08-26T13:31:33.130Z"
   },
   {
    "duration": 15,
    "start_time": "2023-08-26T13:35:32.355Z"
   },
   {
    "duration": 10,
    "start_time": "2023-08-26T13:35:44.680Z"
   },
   {
    "duration": 83,
    "start_time": "2023-08-26T13:36:00.714Z"
   },
   {
    "duration": 14,
    "start_time": "2023-08-26T13:36:06.488Z"
   },
   {
    "duration": 13,
    "start_time": "2023-08-26T13:36:59.345Z"
   },
   {
    "duration": 9,
    "start_time": "2023-08-26T13:47:57.606Z"
   },
   {
    "duration": 136,
    "start_time": "2023-08-26T13:48:22.328Z"
   },
   {
    "duration": 3,
    "start_time": "2023-08-26T13:48:24.661Z"
   },
   {
    "duration": 66,
    "start_time": "2023-08-26T13:48:24.712Z"
   },
   {
    "duration": 5,
    "start_time": "2023-08-26T13:48:24.780Z"
   },
   {
    "duration": 13,
    "start_time": "2023-08-26T13:48:24.787Z"
   },
   {
    "duration": 11,
    "start_time": "2023-08-26T13:48:24.801Z"
   },
   {
    "duration": 11,
    "start_time": "2023-08-26T13:48:24.814Z"
   },
   {
    "duration": 24,
    "start_time": "2023-08-26T13:48:24.826Z"
   },
   {
    "duration": 40,
    "start_time": "2023-08-26T13:48:24.851Z"
   },
   {
    "duration": 5,
    "start_time": "2023-08-26T13:48:24.893Z"
   },
   {
    "duration": 29,
    "start_time": "2023-08-26T13:48:24.900Z"
   },
   {
    "duration": 12,
    "start_time": "2023-08-26T13:48:24.931Z"
   },
   {
    "duration": 9,
    "start_time": "2023-08-26T13:48:24.945Z"
   },
   {
    "duration": 18,
    "start_time": "2023-08-26T13:48:24.956Z"
   },
   {
    "duration": 142,
    "start_time": "2023-08-26T13:48:24.975Z"
   },
   {
    "duration": 5,
    "start_time": "2023-08-26T13:48:25.123Z"
   },
   {
    "duration": 7,
    "start_time": "2023-08-26T13:48:25.129Z"
   },
   {
    "duration": 7,
    "start_time": "2023-08-26T13:48:25.138Z"
   },
   {
    "duration": 8,
    "start_time": "2023-08-26T13:48:25.146Z"
   },
   {
    "duration": 151,
    "start_time": "2023-08-26T13:48:25.155Z"
   },
   {
    "duration": 131,
    "start_time": "2023-08-26T13:48:25.307Z"
   },
   {
    "duration": 586,
    "start_time": "2023-08-26T13:48:25.440Z"
   },
   {
    "duration": 133,
    "start_time": "2023-08-26T13:48:26.028Z"
   },
   {
    "duration": 133,
    "start_time": "2023-08-26T13:48:26.162Z"
   },
   {
    "duration": 583,
    "start_time": "2023-08-26T13:48:26.297Z"
   },
   {
    "duration": 29,
    "start_time": "2023-08-26T13:48:26.882Z"
   },
   {
    "duration": 26,
    "start_time": "2023-08-26T13:48:26.913Z"
   },
   {
    "duration": 16,
    "start_time": "2023-08-26T13:48:26.941Z"
   },
   {
    "duration": 517,
    "start_time": "2023-08-26T13:48:26.958Z"
   },
   {
    "duration": 385,
    "start_time": "2023-08-26T13:48:27.476Z"
   },
   {
    "duration": 209,
    "start_time": "2023-08-26T13:48:27.863Z"
   },
   {
    "duration": 217,
    "start_time": "2023-08-26T13:48:28.074Z"
   },
   {
    "duration": 84,
    "start_time": "2023-08-26T13:48:28.293Z"
   },
   {
    "duration": 14,
    "start_time": "2023-08-26T13:48:28.378Z"
   },
   {
    "duration": 17,
    "start_time": "2023-08-26T13:48:28.394Z"
   },
   {
    "duration": 10,
    "start_time": "2023-08-26T13:49:22.272Z"
   },
   {
    "duration": 15,
    "start_time": "2023-08-26T13:51:05.812Z"
   },
   {
    "duration": 10,
    "start_time": "2023-08-26T13:51:12.076Z"
   },
   {
    "duration": 783,
    "start_time": "2023-08-26T13:51:45.258Z"
   },
   {
    "duration": 3,
    "start_time": "2023-08-26T13:51:48.258Z"
   },
   {
    "duration": 110,
    "start_time": "2023-08-26T13:51:48.263Z"
   },
   {
    "duration": 5,
    "start_time": "2023-08-26T13:51:48.375Z"
   },
   {
    "duration": 8,
    "start_time": "2023-08-26T13:51:48.381Z"
   },
   {
    "duration": 10,
    "start_time": "2023-08-26T13:51:48.391Z"
   },
   {
    "duration": 8,
    "start_time": "2023-08-26T13:51:48.402Z"
   },
   {
    "duration": 21,
    "start_time": "2023-08-26T13:51:48.411Z"
   },
   {
    "duration": 44,
    "start_time": "2023-08-26T13:51:48.434Z"
   },
   {
    "duration": 4,
    "start_time": "2023-08-26T13:51:48.480Z"
   },
   {
    "duration": 11,
    "start_time": "2023-08-26T13:51:48.486Z"
   },
   {
    "duration": 5,
    "start_time": "2023-08-26T13:51:48.499Z"
   },
   {
    "duration": 9,
    "start_time": "2023-08-26T13:51:48.506Z"
   },
   {
    "duration": 11,
    "start_time": "2023-08-26T13:51:48.517Z"
   },
   {
    "duration": 126,
    "start_time": "2023-08-26T13:51:48.530Z"
   },
   {
    "duration": 5,
    "start_time": "2023-08-26T13:51:48.658Z"
   },
   {
    "duration": 20,
    "start_time": "2023-08-26T13:51:48.664Z"
   },
   {
    "duration": 9,
    "start_time": "2023-08-26T13:51:48.686Z"
   },
   {
    "duration": 10,
    "start_time": "2023-08-26T13:51:48.697Z"
   },
   {
    "duration": 131,
    "start_time": "2023-08-26T13:51:48.709Z"
   },
   {
    "duration": 140,
    "start_time": "2023-08-26T13:51:48.842Z"
   },
   {
    "duration": 604,
    "start_time": "2023-08-26T13:51:48.984Z"
   },
   {
    "duration": 126,
    "start_time": "2023-08-26T13:51:49.590Z"
   },
   {
    "duration": 128,
    "start_time": "2023-08-26T13:51:49.724Z"
   },
   {
    "duration": 552,
    "start_time": "2023-08-26T13:51:49.854Z"
   },
   {
    "duration": 38,
    "start_time": "2023-08-26T13:51:50.408Z"
   },
   {
    "duration": 21,
    "start_time": "2023-08-26T13:51:50.448Z"
   },
   {
    "duration": 18,
    "start_time": "2023-08-26T13:51:50.472Z"
   },
   {
    "duration": 483,
    "start_time": "2023-08-26T13:51:50.492Z"
   },
   {
    "duration": 465,
    "start_time": "2023-08-26T13:51:50.979Z"
   },
   {
    "duration": 244,
    "start_time": "2023-08-26T13:51:51.446Z"
   },
   {
    "duration": 225,
    "start_time": "2023-08-26T13:51:51.691Z"
   },
   {
    "duration": 845,
    "start_time": "2023-08-26T13:51:51.924Z"
   },
   {
    "duration": 15,
    "start_time": "2023-08-26T13:51:52.771Z"
   },
   {
    "duration": 14,
    "start_time": "2023-08-26T13:51:52.788Z"
   },
   {
    "duration": 23,
    "start_time": "2023-08-26T13:51:52.805Z"
   },
   {
    "duration": 3,
    "start_time": "2023-08-26T13:54:42.078Z"
   },
   {
    "duration": 67,
    "start_time": "2023-08-26T13:54:42.082Z"
   },
   {
    "duration": 6,
    "start_time": "2023-08-26T13:54:42.150Z"
   },
   {
    "duration": 7,
    "start_time": "2023-08-26T13:54:42.158Z"
   },
   {
    "duration": 6,
    "start_time": "2023-08-26T13:54:42.166Z"
   },
   {
    "duration": 8,
    "start_time": "2023-08-26T13:54:42.174Z"
   },
   {
    "duration": 8,
    "start_time": "2023-08-26T13:54:42.183Z"
   },
   {
    "duration": 44,
    "start_time": "2023-08-26T13:54:42.192Z"
   },
   {
    "duration": 5,
    "start_time": "2023-08-26T13:54:42.238Z"
   },
   {
    "duration": 116,
    "start_time": "2023-08-26T13:54:42.244Z"
   },
   {
    "duration": 31,
    "start_time": "2023-08-26T13:54:42.362Z"
   },
   {
    "duration": 27,
    "start_time": "2023-08-26T13:54:42.395Z"
   },
   {
    "duration": 12,
    "start_time": "2023-08-26T13:54:42.424Z"
   },
   {
    "duration": 131,
    "start_time": "2023-08-26T13:54:42.438Z"
   },
   {
    "duration": 5,
    "start_time": "2023-08-26T13:54:42.571Z"
   },
   {
    "duration": 5,
    "start_time": "2023-08-26T13:54:42.577Z"
   },
   {
    "duration": 5,
    "start_time": "2023-08-26T13:54:42.584Z"
   },
   {
    "duration": 5,
    "start_time": "2023-08-26T13:54:42.590Z"
   },
   {
    "duration": 150,
    "start_time": "2023-08-26T13:54:42.596Z"
   },
   {
    "duration": 134,
    "start_time": "2023-08-26T13:54:42.748Z"
   },
   {
    "duration": 585,
    "start_time": "2023-08-26T13:54:42.884Z"
   },
   {
    "duration": 134,
    "start_time": "2023-08-26T13:54:43.470Z"
   },
   {
    "duration": 125,
    "start_time": "2023-08-26T13:54:43.606Z"
   },
   {
    "duration": 540,
    "start_time": "2023-08-26T13:54:43.734Z"
   },
   {
    "duration": 30,
    "start_time": "2023-08-26T13:54:44.275Z"
   },
   {
    "duration": 33,
    "start_time": "2023-08-26T13:54:44.306Z"
   },
   {
    "duration": 18,
    "start_time": "2023-08-26T13:54:44.341Z"
   },
   {
    "duration": 509,
    "start_time": "2023-08-26T13:54:44.360Z"
   },
   {
    "duration": 386,
    "start_time": "2023-08-26T13:54:44.871Z"
   },
   {
    "duration": 212,
    "start_time": "2023-08-26T13:54:45.258Z"
   },
   {
    "duration": 220,
    "start_time": "2023-08-26T13:54:45.472Z"
   },
   {
    "duration": 881,
    "start_time": "2023-08-26T13:54:45.694Z"
   },
   {
    "duration": 3,
    "start_time": "2023-08-26T13:54:46.577Z"
   },
   {
    "duration": 5,
    "start_time": "2023-08-26T13:54:46.581Z"
   },
   {
    "duration": 11,
    "start_time": "2023-08-26T13:54:46.587Z"
   },
   {
    "duration": 3,
    "start_time": "2023-08-26T13:54:46.599Z"
   },
   {
    "duration": 3092,
    "start_time": "2023-08-26T13:54:46.604Z"
   },
   {
    "duration": 4,
    "start_time": "2023-08-26T13:55:34.130Z"
   },
   {
    "duration": 3745,
    "start_time": "2023-08-26T13:55:37.647Z"
   },
   {
    "duration": 3,
    "start_time": "2023-08-26T13:56:29.421Z"
   },
   {
    "duration": 4407,
    "start_time": "2023-08-26T13:56:29.606Z"
   },
   {
    "duration": 112,
    "start_time": "2023-08-26T13:56:59.365Z"
   },
   {
    "duration": 17,
    "start_time": "2023-08-26T13:57:11.067Z"
   },
   {
    "duration": 364,
    "start_time": "2023-08-27T09:06:23.315Z"
   },
   {
    "duration": 45,
    "start_time": "2023-08-27T09:06:44.628Z"
   },
   {
    "duration": 1397,
    "start_time": "2023-08-27T09:06:53.635Z"
   },
   {
    "duration": 208,
    "start_time": "2023-08-27T09:06:55.034Z"
   },
   {
    "duration": 8,
    "start_time": "2023-08-27T09:06:55.244Z"
   },
   {
    "duration": 5,
    "start_time": "2023-08-27T09:06:55.254Z"
   },
   {
    "duration": 8,
    "start_time": "2023-08-27T09:06:55.261Z"
   },
   {
    "duration": 9,
    "start_time": "2023-08-27T09:06:55.270Z"
   },
   {
    "duration": 13,
    "start_time": "2023-08-27T09:06:55.280Z"
   },
   {
    "duration": 48,
    "start_time": "2023-08-27T09:06:55.294Z"
   },
   {
    "duration": 7,
    "start_time": "2023-08-27T09:06:55.343Z"
   },
   {
    "duration": 11,
    "start_time": "2023-08-27T09:06:55.352Z"
   },
   {
    "duration": 14,
    "start_time": "2023-08-27T09:06:55.364Z"
   },
   {
    "duration": 17,
    "start_time": "2023-08-27T09:06:55.380Z"
   },
   {
    "duration": 23,
    "start_time": "2023-08-27T09:06:55.398Z"
   },
   {
    "duration": 156,
    "start_time": "2023-08-27T09:06:55.422Z"
   },
   {
    "duration": 5,
    "start_time": "2023-08-27T09:06:55.580Z"
   },
   {
    "duration": 12,
    "start_time": "2023-08-27T09:06:55.586Z"
   },
   {
    "duration": 33,
    "start_time": "2023-08-27T09:06:55.599Z"
   },
   {
    "duration": 10,
    "start_time": "2023-08-27T09:06:55.633Z"
   },
   {
    "duration": 136,
    "start_time": "2023-08-27T09:06:55.644Z"
   },
   {
    "duration": 141,
    "start_time": "2023-08-27T09:06:55.781Z"
   },
   {
    "duration": 647,
    "start_time": "2023-08-27T09:06:55.924Z"
   },
   {
    "duration": 131,
    "start_time": "2023-08-27T09:06:56.573Z"
   },
   {
    "duration": 135,
    "start_time": "2023-08-27T09:06:56.706Z"
   },
   {
    "duration": 582,
    "start_time": "2023-08-27T09:06:56.842Z"
   },
   {
    "duration": 38,
    "start_time": "2023-08-27T09:06:57.426Z"
   },
   {
    "duration": 22,
    "start_time": "2023-08-27T09:06:57.465Z"
   },
   {
    "duration": 19,
    "start_time": "2023-08-27T09:06:57.489Z"
   },
   {
    "duration": 539,
    "start_time": "2023-08-27T09:06:57.511Z"
   },
   {
    "duration": 434,
    "start_time": "2023-08-27T09:06:58.052Z"
   },
   {
    "duration": 241,
    "start_time": "2023-08-27T09:06:58.488Z"
   },
   {
    "duration": 223,
    "start_time": "2023-08-27T09:06:58.731Z"
   },
   {
    "duration": 962,
    "start_time": "2023-08-27T09:06:58.955Z"
   },
   {
    "duration": 4,
    "start_time": "2023-08-27T09:06:59.918Z"
   },
   {
    "duration": 23,
    "start_time": "2023-08-27T09:06:59.923Z"
   },
   {
    "duration": 32,
    "start_time": "2023-08-27T09:06:59.950Z"
   },
   {
    "duration": 9,
    "start_time": "2023-08-27T09:06:59.983Z"
   },
   {
    "duration": 117,
    "start_time": "2023-08-27T09:06:59.994Z"
   },
   {
    "duration": 17,
    "start_time": "2023-08-27T09:07:00.112Z"
   },
   {
    "duration": 78,
    "start_time": "2023-08-27T09:07:00.131Z"
   },
   {
    "duration": 6,
    "start_time": "2023-08-27T09:07:09.548Z"
   },
   {
    "duration": 95,
    "start_time": "2023-08-27T09:08:27.132Z"
   },
   {
    "duration": 3,
    "start_time": "2023-08-27T09:09:37.313Z"
   },
   {
    "duration": 234,
    "start_time": "2023-08-27T09:10:38.293Z"
   },
   {
    "duration": 4,
    "start_time": "2023-08-27T09:10:43.064Z"
   },
   {
    "duration": 8,
    "start_time": "2023-08-27T09:15:21.003Z"
   },
   {
    "duration": 97,
    "start_time": "2023-08-27T09:26:43.377Z"
   },
   {
    "duration": 1168,
    "start_time": "2023-08-27T12:38:50.360Z"
   },
   {
    "duration": 66,
    "start_time": "2023-08-27T12:38:51.530Z"
   },
   {
    "duration": 6,
    "start_time": "2023-08-27T12:38:51.598Z"
   },
   {
    "duration": 16,
    "start_time": "2023-08-27T12:38:51.606Z"
   },
   {
    "duration": 15,
    "start_time": "2023-08-27T12:38:51.624Z"
   },
   {
    "duration": 10,
    "start_time": "2023-08-27T12:38:51.641Z"
   },
   {
    "duration": 24,
    "start_time": "2023-08-27T12:38:51.653Z"
   },
   {
    "duration": 28,
    "start_time": "2023-08-27T12:38:51.679Z"
   },
   {
    "duration": 7,
    "start_time": "2023-08-27T12:38:51.708Z"
   },
   {
    "duration": 17,
    "start_time": "2023-08-27T12:38:51.716Z"
   },
   {
    "duration": 16,
    "start_time": "2023-08-27T12:38:51.735Z"
   },
   {
    "duration": 22,
    "start_time": "2023-08-27T12:38:51.753Z"
   },
   {
    "duration": 23,
    "start_time": "2023-08-27T12:38:51.777Z"
   },
   {
    "duration": 137,
    "start_time": "2023-08-27T12:38:51.803Z"
   },
   {
    "duration": 4,
    "start_time": "2023-08-27T12:38:51.942Z"
   },
   {
    "duration": 33,
    "start_time": "2023-08-27T12:38:51.948Z"
   },
   {
    "duration": 17,
    "start_time": "2023-08-27T12:38:51.983Z"
   },
   {
    "duration": 25,
    "start_time": "2023-08-27T12:38:52.001Z"
   },
   {
    "duration": 146,
    "start_time": "2023-08-27T12:38:52.027Z"
   },
   {
    "duration": 126,
    "start_time": "2023-08-27T12:38:52.175Z"
   },
   {
    "duration": 608,
    "start_time": "2023-08-27T12:38:52.303Z"
   },
   {
    "duration": 129,
    "start_time": "2023-08-27T12:38:52.913Z"
   },
   {
    "duration": 131,
    "start_time": "2023-08-27T12:38:53.043Z"
   },
   {
    "duration": 517,
    "start_time": "2023-08-27T12:38:53.176Z"
   },
   {
    "duration": 28,
    "start_time": "2023-08-27T12:38:53.694Z"
   },
   {
    "duration": 11,
    "start_time": "2023-08-27T12:38:53.724Z"
   },
   {
    "duration": 20,
    "start_time": "2023-08-27T12:38:53.736Z"
   },
   {
    "duration": 22,
    "start_time": "2023-08-27T12:38:53.758Z"
   },
   {
    "duration": 506,
    "start_time": "2023-08-27T12:38:53.782Z"
   },
   {
    "duration": 435,
    "start_time": "2023-08-27T12:38:54.290Z"
   },
   {
    "duration": 218,
    "start_time": "2023-08-27T12:38:54.726Z"
   },
   {
    "duration": 307,
    "start_time": "2023-08-27T12:38:54.945Z"
   },
   {
    "duration": 1021,
    "start_time": "2023-08-27T12:38:55.254Z"
   },
   {
    "duration": 4,
    "start_time": "2023-08-27T12:38:56.276Z"
   },
   {
    "duration": 6,
    "start_time": "2023-08-27T12:38:56.281Z"
   },
   {
    "duration": 13,
    "start_time": "2023-08-27T12:38:56.288Z"
   },
   {
    "duration": 3,
    "start_time": "2023-08-27T12:38:56.303Z"
   },
   {
    "duration": 134,
    "start_time": "2023-08-27T12:38:56.307Z"
   },
   {
    "duration": 16,
    "start_time": "2023-08-27T12:38:56.443Z"
   },
   {
    "duration": 4,
    "start_time": "2023-08-27T12:38:56.461Z"
   },
   {
    "duration": 10,
    "start_time": "2023-08-27T12:38:56.467Z"
   },
   {
    "duration": 9,
    "start_time": "2023-08-27T12:38:56.478Z"
   },
   {
    "duration": 4,
    "start_time": "2023-08-27T12:39:12.331Z"
   },
   {
    "duration": 5,
    "start_time": "2023-08-27T12:57:20.597Z"
   },
   {
    "duration": 7,
    "start_time": "2023-08-27T12:58:22.332Z"
   },
   {
    "duration": 9,
    "start_time": "2023-08-27T12:59:00.067Z"
   },
   {
    "duration": 5,
    "start_time": "2023-08-27T12:59:08.677Z"
   },
   {
    "duration": 6,
    "start_time": "2023-08-27T12:59:21.053Z"
   },
   {
    "duration": 5,
    "start_time": "2023-08-27T12:59:21.203Z"
   },
   {
    "duration": 5,
    "start_time": "2023-08-27T12:59:29.650Z"
   },
   {
    "duration": 3,
    "start_time": "2023-08-27T12:59:29.814Z"
   },
   {
    "duration": 12,
    "start_time": "2023-08-27T12:59:38.056Z"
   },
   {
    "duration": 3,
    "start_time": "2023-08-27T12:59:38.191Z"
   },
   {
    "duration": 48,
    "start_time": "2023-08-27T13:37:14.356Z"
   },
   {
    "duration": 1476,
    "start_time": "2023-08-27T13:37:37.498Z"
   },
   {
    "duration": 286,
    "start_time": "2023-08-27T13:37:38.976Z"
   },
   {
    "duration": 12,
    "start_time": "2023-08-27T13:37:39.264Z"
   },
   {
    "duration": 8,
    "start_time": "2023-08-27T13:37:39.278Z"
   },
   {
    "duration": 16,
    "start_time": "2023-08-27T13:37:39.287Z"
   },
   {
    "duration": 18,
    "start_time": "2023-08-27T13:37:39.304Z"
   },
   {
    "duration": 78,
    "start_time": "2023-08-27T13:37:39.324Z"
   },
   {
    "duration": 35,
    "start_time": "2023-08-27T13:37:39.404Z"
   },
   {
    "duration": 9,
    "start_time": "2023-08-27T13:37:39.441Z"
   },
   {
    "duration": 35,
    "start_time": "2023-08-27T13:37:39.452Z"
   },
   {
    "duration": 21,
    "start_time": "2023-08-27T13:37:39.489Z"
   },
   {
    "duration": 13,
    "start_time": "2023-08-27T13:37:39.512Z"
   },
   {
    "duration": 20,
    "start_time": "2023-08-27T13:37:39.527Z"
   },
   {
    "duration": 149,
    "start_time": "2023-08-27T13:37:39.549Z"
   },
   {
    "duration": 6,
    "start_time": "2023-08-27T13:37:39.700Z"
   },
   {
    "duration": 11,
    "start_time": "2023-08-27T13:37:39.708Z"
   },
   {
    "duration": 12,
    "start_time": "2023-08-27T13:37:39.721Z"
   },
   {
    "duration": 6,
    "start_time": "2023-08-27T13:37:39.735Z"
   },
   {
    "duration": 155,
    "start_time": "2023-08-27T13:37:39.742Z"
   },
   {
    "duration": 150,
    "start_time": "2023-08-27T13:37:39.899Z"
   },
   {
    "duration": 591,
    "start_time": "2023-08-27T13:37:40.051Z"
   },
   {
    "duration": 152,
    "start_time": "2023-08-27T13:37:40.644Z"
   },
   {
    "duration": 151,
    "start_time": "2023-08-27T13:37:40.798Z"
   },
   {
    "duration": 582,
    "start_time": "2023-08-27T13:37:40.950Z"
   },
   {
    "duration": 37,
    "start_time": "2023-08-27T13:37:41.534Z"
   },
   {
    "duration": 20,
    "start_time": "2023-08-27T13:37:41.573Z"
   },
   {
    "duration": 18,
    "start_time": "2023-08-27T13:37:41.596Z"
   },
   {
    "duration": 629,
    "start_time": "2023-08-27T13:37:41.618Z"
   },
   {
    "duration": 472,
    "start_time": "2023-08-27T13:37:42.249Z"
   },
   {
    "duration": 228,
    "start_time": "2023-08-27T13:37:42.723Z"
   },
   {
    "duration": 251,
    "start_time": "2023-08-27T13:37:42.953Z"
   },
   {
    "duration": 893,
    "start_time": "2023-08-27T13:37:43.206Z"
   },
   {
    "duration": 5,
    "start_time": "2023-08-27T13:37:44.101Z"
   },
   {
    "duration": 15,
    "start_time": "2023-08-27T13:37:44.108Z"
   },
   {
    "duration": 19,
    "start_time": "2023-08-27T13:37:44.125Z"
   },
   {
    "duration": 7,
    "start_time": "2023-08-27T13:37:44.146Z"
   },
   {
    "duration": 126,
    "start_time": "2023-08-27T13:37:44.155Z"
   },
   {
    "duration": 18,
    "start_time": "2023-08-27T13:37:44.283Z"
   },
   {
    "duration": 30,
    "start_time": "2023-08-27T13:37:44.303Z"
   },
   {
    "duration": 48,
    "start_time": "2023-08-27T13:37:44.334Z"
   },
   {
    "duration": 35,
    "start_time": "2023-08-27T13:37:44.384Z"
   },
   {
    "duration": 27,
    "start_time": "2023-08-27T13:38:25.873Z"
   },
   {
    "duration": 6,
    "start_time": "2023-08-27T13:42:40.767Z"
   },
   {
    "duration": 5,
    "start_time": "2023-08-27T13:42:57.953Z"
   },
   {
    "duration": 99,
    "start_time": "2023-08-27T13:47:27.588Z"
   },
   {
    "duration": 134,
    "start_time": "2023-08-27T13:47:53.742Z"
   },
   {
    "duration": 93,
    "start_time": "2023-08-27T13:49:15.817Z"
   },
   {
    "duration": 128,
    "start_time": "2023-08-27T13:49:21.818Z"
   },
   {
    "duration": 133,
    "start_time": "2023-08-27T13:50:10.441Z"
   },
   {
    "duration": 145,
    "start_time": "2023-08-27T13:50:40.753Z"
   },
   {
    "duration": 427,
    "start_time": "2023-08-27T13:51:51.501Z"
   },
   {
    "duration": 12,
    "start_time": "2023-08-27T13:53:04.705Z"
   },
   {
    "duration": 17,
    "start_time": "2023-08-27T13:53:10.434Z"
   },
   {
    "duration": 71,
    "start_time": "2023-08-27T13:54:04.489Z"
   },
   {
    "duration": 87,
    "start_time": "2023-08-27T13:54:38.282Z"
   },
   {
    "duration": 80,
    "start_time": "2023-08-27T13:54:44.958Z"
   },
   {
    "duration": 162,
    "start_time": "2023-08-27T13:54:59.960Z"
   },
   {
    "duration": 87,
    "start_time": "2023-08-27T13:55:33.813Z"
   },
   {
    "duration": 11,
    "start_time": "2023-08-27T13:55:49.204Z"
   },
   {
    "duration": 156,
    "start_time": "2023-08-27T13:56:30.178Z"
   },
   {
    "duration": 236,
    "start_time": "2023-08-27T13:56:46.599Z"
   },
   {
    "duration": 145,
    "start_time": "2023-08-27T13:56:53.973Z"
   },
   {
    "duration": 134,
    "start_time": "2023-08-27T13:57:08.244Z"
   },
   {
    "duration": 109,
    "start_time": "2023-08-27T13:57:15.410Z"
   },
   {
    "duration": 106,
    "start_time": "2023-08-27T13:57:57.344Z"
   },
   {
    "duration": 140,
    "start_time": "2023-08-27T13:58:57.970Z"
   },
   {
    "duration": 132,
    "start_time": "2023-08-27T13:59:37.017Z"
   },
   {
    "duration": 138,
    "start_time": "2023-08-27T14:00:24.075Z"
   },
   {
    "duration": 141,
    "start_time": "2023-08-27T14:00:27.944Z"
   },
   {
    "duration": 142,
    "start_time": "2023-08-27T14:00:58.180Z"
   },
   {
    "duration": 134,
    "start_time": "2023-08-27T14:01:37.209Z"
   },
   {
    "duration": 4,
    "start_time": "2023-08-27T14:02:12.629Z"
   },
   {
    "duration": 70,
    "start_time": "2023-08-27T14:02:12.637Z"
   },
   {
    "duration": 9,
    "start_time": "2023-08-27T14:02:12.709Z"
   },
   {
    "duration": 11,
    "start_time": "2023-08-27T14:02:12.719Z"
   },
   {
    "duration": 7,
    "start_time": "2023-08-27T14:02:12.732Z"
   },
   {
    "duration": 8,
    "start_time": "2023-08-27T14:02:12.741Z"
   },
   {
    "duration": 20,
    "start_time": "2023-08-27T14:02:12.751Z"
   },
   {
    "duration": 35,
    "start_time": "2023-08-27T14:02:12.773Z"
   },
   {
    "duration": 4,
    "start_time": "2023-08-27T14:02:12.810Z"
   },
   {
    "duration": 6,
    "start_time": "2023-08-27T14:02:12.816Z"
   },
   {
    "duration": 9,
    "start_time": "2023-08-27T14:02:12.824Z"
   },
   {
    "duration": 44,
    "start_time": "2023-08-27T14:02:12.835Z"
   },
   {
    "duration": 9,
    "start_time": "2023-08-27T14:02:12.880Z"
   },
   {
    "duration": 17,
    "start_time": "2023-08-27T14:02:12.890Z"
   },
   {
    "duration": 171,
    "start_time": "2023-08-27T14:02:12.908Z"
   },
   {
    "duration": 129,
    "start_time": "2023-08-27T14:02:13.081Z"
   },
   {
    "duration": 155,
    "start_time": "2023-08-27T14:02:13.212Z"
   },
   {
    "duration": 153,
    "start_time": "2023-08-27T14:02:13.369Z"
   },
   {
    "duration": 636,
    "start_time": "2023-08-27T14:02:13.524Z"
   },
   {
    "duration": 257,
    "start_time": "2023-08-27T14:02:14.166Z"
   },
   {
    "duration": 152,
    "start_time": "2023-08-27T14:02:14.425Z"
   },
   {
    "duration": 595,
    "start_time": "2023-08-27T14:02:14.579Z"
   },
   {
    "duration": 33,
    "start_time": "2023-08-27T14:02:15.177Z"
   },
   {
    "duration": 22,
    "start_time": "2023-08-27T14:02:15.213Z"
   },
   {
    "duration": 49,
    "start_time": "2023-08-27T14:02:15.237Z"
   },
   {
    "duration": 469,
    "start_time": "2023-08-27T14:02:15.289Z"
   },
   {
    "duration": 479,
    "start_time": "2023-08-27T14:02:15.760Z"
   },
   {
    "duration": 246,
    "start_time": "2023-08-27T14:02:16.241Z"
   },
   {
    "duration": 255,
    "start_time": "2023-08-27T14:02:16.491Z"
   },
   {
    "duration": 858,
    "start_time": "2023-08-27T14:02:16.748Z"
   },
   {
    "duration": 3,
    "start_time": "2023-08-27T14:02:17.608Z"
   },
   {
    "duration": 10,
    "start_time": "2023-08-27T14:02:17.613Z"
   },
   {
    "duration": 21,
    "start_time": "2023-08-27T14:02:17.624Z"
   },
   {
    "duration": 6,
    "start_time": "2023-08-27T14:02:17.647Z"
   },
   {
    "duration": 134,
    "start_time": "2023-08-27T14:02:17.654Z"
   },
   {
    "duration": 21,
    "start_time": "2023-08-27T14:02:17.790Z"
   },
   {
    "duration": 6,
    "start_time": "2023-08-27T14:02:17.813Z"
   },
   {
    "duration": 18,
    "start_time": "2023-08-27T14:02:17.821Z"
   },
   {
    "duration": 28,
    "start_time": "2023-08-27T14:02:17.841Z"
   },
   {
    "duration": 144,
    "start_time": "2023-08-27T14:03:55.327Z"
   },
   {
    "duration": 145,
    "start_time": "2023-08-27T14:04:06.317Z"
   },
   {
    "duration": 153,
    "start_time": "2023-08-27T14:06:00.339Z"
   },
   {
    "duration": 131,
    "start_time": "2023-08-27T14:06:11.930Z"
   },
   {
    "duration": 135,
    "start_time": "2023-08-27T14:06:33.648Z"
   },
   {
    "duration": 153,
    "start_time": "2023-08-27T14:06:38.959Z"
   },
   {
    "duration": 252,
    "start_time": "2023-08-27T14:09:38.086Z"
   },
   {
    "duration": 132,
    "start_time": "2023-08-27T14:11:19.403Z"
   },
   {
    "duration": 133,
    "start_time": "2023-08-27T14:11:54.224Z"
   },
   {
    "duration": 132,
    "start_time": "2023-08-27T14:13:08.503Z"
   },
   {
    "duration": 134,
    "start_time": "2023-08-27T14:13:17.410Z"
   },
   {
    "duration": 27,
    "start_time": "2023-08-27T14:14:52.807Z"
   },
   {
    "duration": 15,
    "start_time": "2023-08-27T14:14:56.792Z"
   },
   {
    "duration": 16,
    "start_time": "2023-08-27T14:15:04.461Z"
   },
   {
    "duration": 15,
    "start_time": "2023-08-27T14:15:09.685Z"
   },
   {
    "duration": 381,
    "start_time": "2023-08-27T14:15:12.566Z"
   },
   {
    "duration": 76,
    "start_time": "2023-08-27T14:15:31.532Z"
   },
   {
    "duration": 49,
    "start_time": "2023-08-27T14:15:34.836Z"
   },
   {
    "duration": 127,
    "start_time": "2023-08-27T14:16:54.771Z"
   },
   {
    "duration": 123,
    "start_time": "2023-08-27T14:16:57.521Z"
   },
   {
    "duration": 291,
    "start_time": "2023-08-27T14:17:20.194Z"
   },
   {
    "duration": 145,
    "start_time": "2023-08-27T14:18:09.693Z"
   },
   {
    "duration": 136,
    "start_time": "2023-08-27T14:18:13.617Z"
   },
   {
    "duration": 146,
    "start_time": "2023-08-27T14:18:35.799Z"
   },
   {
    "duration": 143,
    "start_time": "2023-08-27T14:20:04.080Z"
   },
   {
    "duration": 159,
    "start_time": "2023-08-27T14:21:27.780Z"
   },
   {
    "duration": 154,
    "start_time": "2023-08-27T14:21:31.654Z"
   },
   {
    "duration": 161,
    "start_time": "2023-08-27T14:21:54.859Z"
   },
   {
    "duration": 156,
    "start_time": "2023-08-27T14:22:03.262Z"
   },
   {
    "duration": 99,
    "start_time": "2023-08-27T14:22:36.912Z"
   },
   {
    "duration": 150,
    "start_time": "2023-08-27T14:22:39.963Z"
   },
   {
    "duration": 164,
    "start_time": "2023-08-27T14:22:44.739Z"
   },
   {
    "duration": 184,
    "start_time": "2023-08-27T14:22:49.361Z"
   },
   {
    "duration": 188,
    "start_time": "2023-08-27T14:23:15.709Z"
   },
   {
    "duration": 170,
    "start_time": "2023-08-27T14:23:20.184Z"
   },
   {
    "duration": 36,
    "start_time": "2023-08-27T14:24:08.045Z"
   },
   {
    "duration": 40,
    "start_time": "2023-08-27T14:24:18.458Z"
   },
   {
    "duration": 27,
    "start_time": "2023-08-27T14:26:55.073Z"
   },
   {
    "duration": 47,
    "start_time": "2023-08-27T14:27:24.045Z"
   },
   {
    "duration": 45,
    "start_time": "2023-08-27T14:28:09.382Z"
   },
   {
    "duration": 44,
    "start_time": "2023-08-27T14:28:13.638Z"
   },
   {
    "duration": 43,
    "start_time": "2023-08-27T14:28:20.897Z"
   },
   {
    "duration": 17,
    "start_time": "2023-08-27T14:28:44.100Z"
   },
   {
    "duration": 50,
    "start_time": "2023-08-27T14:28:50.845Z"
   },
   {
    "duration": 47,
    "start_time": "2023-08-27T14:28:59.043Z"
   },
   {
    "duration": 47,
    "start_time": "2023-08-27T14:29:45.234Z"
   },
   {
    "duration": 51,
    "start_time": "2023-08-27T14:30:49.138Z"
   },
   {
    "duration": 3,
    "start_time": "2023-08-27T14:31:40.749Z"
   },
   {
    "duration": 65,
    "start_time": "2023-08-27T14:31:40.757Z"
   },
   {
    "duration": 9,
    "start_time": "2023-08-27T14:31:40.824Z"
   },
   {
    "duration": 24,
    "start_time": "2023-08-27T14:31:40.836Z"
   },
   {
    "duration": 15,
    "start_time": "2023-08-27T14:31:40.863Z"
   },
   {
    "duration": 17,
    "start_time": "2023-08-27T14:31:40.880Z"
   },
   {
    "duration": 11,
    "start_time": "2023-08-27T14:31:40.898Z"
   },
   {
    "duration": 28,
    "start_time": "2023-08-27T14:31:40.910Z"
   },
   {
    "duration": 5,
    "start_time": "2023-08-27T14:31:40.939Z"
   },
   {
    "duration": 5,
    "start_time": "2023-08-27T14:31:40.967Z"
   },
   {
    "duration": 10,
    "start_time": "2023-08-27T14:31:40.974Z"
   },
   {
    "duration": 9,
    "start_time": "2023-08-27T14:31:40.986Z"
   },
   {
    "duration": 18,
    "start_time": "2023-08-27T14:31:40.996Z"
   },
   {
    "duration": 12,
    "start_time": "2023-08-27T14:31:41.016Z"
   },
   {
    "duration": 177,
    "start_time": "2023-08-27T14:31:41.030Z"
   },
   {
    "duration": 308,
    "start_time": "2023-08-27T14:31:41.209Z"
   },
   {
    "duration": 170,
    "start_time": "2023-08-27T14:31:41.518Z"
   },
   {
    "duration": 12,
    "start_time": "2023-08-27T14:31:41.689Z"
   },
   {
    "duration": 0,
    "start_time": "2023-08-27T14:31:41.703Z"
   },
   {
    "duration": 0,
    "start_time": "2023-08-27T14:31:41.704Z"
   },
   {
    "duration": 0,
    "start_time": "2023-08-27T14:31:41.706Z"
   },
   {
    "duration": 0,
    "start_time": "2023-08-27T14:31:41.707Z"
   },
   {
    "duration": 0,
    "start_time": "2023-08-27T14:31:41.708Z"
   },
   {
    "duration": 0,
    "start_time": "2023-08-27T14:31:41.709Z"
   },
   {
    "duration": 0,
    "start_time": "2023-08-27T14:31:41.710Z"
   },
   {
    "duration": 0,
    "start_time": "2023-08-27T14:31:41.712Z"
   },
   {
    "duration": 0,
    "start_time": "2023-08-27T14:31:41.713Z"
   },
   {
    "duration": 0,
    "start_time": "2023-08-27T14:31:41.714Z"
   },
   {
    "duration": 0,
    "start_time": "2023-08-27T14:31:41.715Z"
   },
   {
    "duration": 0,
    "start_time": "2023-08-27T14:31:41.716Z"
   },
   {
    "duration": 0,
    "start_time": "2023-08-27T14:31:41.717Z"
   },
   {
    "duration": 0,
    "start_time": "2023-08-27T14:31:41.718Z"
   },
   {
    "duration": 0,
    "start_time": "2023-08-27T14:31:41.719Z"
   },
   {
    "duration": 0,
    "start_time": "2023-08-27T14:31:41.720Z"
   },
   {
    "duration": 0,
    "start_time": "2023-08-27T14:31:41.721Z"
   },
   {
    "duration": 0,
    "start_time": "2023-08-27T14:31:41.722Z"
   },
   {
    "duration": 13,
    "start_time": "2023-08-27T14:32:18.913Z"
   },
   {
    "duration": 13,
    "start_time": "2023-08-27T14:32:23.325Z"
   },
   {
    "duration": 14,
    "start_time": "2023-08-27T14:32:46.629Z"
   },
   {
    "duration": 12,
    "start_time": "2023-08-27T14:32:55.342Z"
   },
   {
    "duration": 14,
    "start_time": "2023-08-27T14:33:39.473Z"
   },
   {
    "duration": 26,
    "start_time": "2023-08-27T14:33:55.509Z"
   },
   {
    "duration": 14,
    "start_time": "2023-08-27T14:34:34.880Z"
   },
   {
    "duration": 11,
    "start_time": "2023-08-27T14:35:37.822Z"
   },
   {
    "duration": 12,
    "start_time": "2023-08-27T14:35:43.949Z"
   },
   {
    "duration": 13,
    "start_time": "2023-08-27T14:36:52.380Z"
   },
   {
    "duration": 3,
    "start_time": "2023-08-27T14:37:12.587Z"
   },
   {
    "duration": 80,
    "start_time": "2023-08-27T14:37:12.594Z"
   },
   {
    "duration": 9,
    "start_time": "2023-08-27T14:37:12.676Z"
   },
   {
    "duration": 11,
    "start_time": "2023-08-27T14:37:12.687Z"
   },
   {
    "duration": 18,
    "start_time": "2023-08-27T14:37:12.700Z"
   },
   {
    "duration": 10,
    "start_time": "2023-08-27T14:37:12.719Z"
   },
   {
    "duration": 8,
    "start_time": "2023-08-27T14:37:12.731Z"
   },
   {
    "duration": 50,
    "start_time": "2023-08-27T14:37:12.740Z"
   },
   {
    "duration": 6,
    "start_time": "2023-08-27T14:37:12.792Z"
   },
   {
    "duration": 10,
    "start_time": "2023-08-27T14:37:12.800Z"
   },
   {
    "duration": 21,
    "start_time": "2023-08-27T14:37:12.813Z"
   },
   {
    "duration": 6,
    "start_time": "2023-08-27T14:37:12.836Z"
   },
   {
    "duration": 9,
    "start_time": "2023-08-27T14:37:12.866Z"
   },
   {
    "duration": 23,
    "start_time": "2023-08-27T14:37:12.877Z"
   },
   {
    "duration": 147,
    "start_time": "2023-08-27T14:37:12.902Z"
   },
   {
    "duration": 124,
    "start_time": "2023-08-27T14:37:13.051Z"
   },
   {
    "duration": 184,
    "start_time": "2023-08-27T14:37:13.177Z"
   },
   {
    "duration": 119,
    "start_time": "2023-08-27T14:37:13.363Z"
   },
   {
    "duration": 184,
    "start_time": "2023-08-27T14:37:13.483Z"
   },
   {
    "duration": 54,
    "start_time": "2023-08-27T14:37:13.669Z"
   },
   {
    "duration": 43,
    "start_time": "2023-08-27T14:37:13.725Z"
   },
   {
    "duration": 22,
    "start_time": "2023-08-27T14:37:13.770Z"
   },
   {
    "duration": 445,
    "start_time": "2023-08-27T14:37:13.794Z"
   },
   {
    "duration": 480,
    "start_time": "2023-08-27T14:37:14.241Z"
   },
   {
    "duration": 246,
    "start_time": "2023-08-27T14:37:14.723Z"
   },
   {
    "duration": 248,
    "start_time": "2023-08-27T14:37:14.970Z"
   },
   {
    "duration": 852,
    "start_time": "2023-08-27T14:37:15.220Z"
   },
   {
    "duration": 4,
    "start_time": "2023-08-27T14:37:16.074Z"
   },
   {
    "duration": 19,
    "start_time": "2023-08-27T14:37:16.081Z"
   },
   {
    "duration": 40,
    "start_time": "2023-08-27T14:37:16.102Z"
   },
   {
    "duration": 18,
    "start_time": "2023-08-27T14:37:16.144Z"
   },
   {
    "duration": 136,
    "start_time": "2023-08-27T14:37:16.164Z"
   },
   {
    "duration": 20,
    "start_time": "2023-08-27T14:37:16.301Z"
   },
   {
    "duration": 18,
    "start_time": "2023-08-27T14:37:16.323Z"
   },
   {
    "duration": 18,
    "start_time": "2023-08-27T14:37:16.343Z"
   },
   {
    "duration": 11,
    "start_time": "2023-08-27T14:37:16.363Z"
   },
   {
    "duration": 14,
    "start_time": "2023-08-27T14:38:02.378Z"
   },
   {
    "duration": 114,
    "start_time": "2023-08-27T14:38:26.455Z"
   },
   {
    "duration": 113,
    "start_time": "2023-08-27T14:38:29.820Z"
   },
   {
    "duration": 5,
    "start_time": "2023-08-27T14:39:33.960Z"
   },
   {
    "duration": 3,
    "start_time": "2023-08-27T14:39:38.180Z"
   },
   {
    "duration": 64,
    "start_time": "2023-08-27T14:39:38.187Z"
   },
   {
    "duration": 9,
    "start_time": "2023-08-27T14:39:38.254Z"
   },
   {
    "duration": 17,
    "start_time": "2023-08-27T14:39:38.265Z"
   },
   {
    "duration": 14,
    "start_time": "2023-08-27T14:39:38.283Z"
   },
   {
    "duration": 10,
    "start_time": "2023-08-27T14:39:38.298Z"
   },
   {
    "duration": 11,
    "start_time": "2023-08-27T14:39:38.310Z"
   },
   {
    "duration": 44,
    "start_time": "2023-08-27T14:39:38.322Z"
   },
   {
    "duration": 4,
    "start_time": "2023-08-27T14:39:38.368Z"
   },
   {
    "duration": 17,
    "start_time": "2023-08-27T14:39:38.373Z"
   },
   {
    "duration": 10,
    "start_time": "2023-08-27T14:39:38.393Z"
   },
   {
    "duration": 9,
    "start_time": "2023-08-27T14:39:38.404Z"
   },
   {
    "duration": 16,
    "start_time": "2023-08-27T14:39:38.415Z"
   },
   {
    "duration": 5,
    "start_time": "2023-08-27T14:39:38.432Z"
   },
   {
    "duration": 140,
    "start_time": "2023-08-27T14:39:38.439Z"
   },
   {
    "duration": 111,
    "start_time": "2023-08-27T14:39:38.581Z"
   },
   {
    "duration": 176,
    "start_time": "2023-08-27T14:39:38.693Z"
   },
   {
    "duration": 265,
    "start_time": "2023-08-27T14:39:38.871Z"
   },
   {
    "duration": 203,
    "start_time": "2023-08-27T14:39:39.138Z"
   },
   {
    "duration": 64,
    "start_time": "2023-08-27T14:39:39.343Z"
   },
   {
    "duration": 19,
    "start_time": "2023-08-27T14:39:39.409Z"
   },
   {
    "duration": 70,
    "start_time": "2023-08-27T14:39:39.429Z"
   },
   {
    "duration": 511,
    "start_time": "2023-08-27T14:39:39.500Z"
   },
   {
    "duration": 399,
    "start_time": "2023-08-27T14:39:40.012Z"
   },
   {
    "duration": 219,
    "start_time": "2023-08-27T14:39:40.412Z"
   },
   {
    "duration": 229,
    "start_time": "2023-08-27T14:39:40.633Z"
   },
   {
    "duration": 800,
    "start_time": "2023-08-27T14:39:40.867Z"
   },
   {
    "duration": 3,
    "start_time": "2023-08-27T14:39:41.669Z"
   },
   {
    "duration": 20,
    "start_time": "2023-08-27T14:39:41.675Z"
   },
   {
    "duration": 13,
    "start_time": "2023-08-27T14:39:41.697Z"
   },
   {
    "duration": 11,
    "start_time": "2023-08-27T14:39:41.711Z"
   },
   {
    "duration": 120,
    "start_time": "2023-08-27T14:39:41.724Z"
   },
   {
    "duration": 22,
    "start_time": "2023-08-27T14:39:41.846Z"
   },
   {
    "duration": 7,
    "start_time": "2023-08-27T14:39:41.869Z"
   },
   {
    "duration": 23,
    "start_time": "2023-08-27T14:39:41.877Z"
   },
   {
    "duration": 12,
    "start_time": "2023-08-27T14:39:41.901Z"
   },
   {
    "duration": 18,
    "start_time": "2023-08-27T14:40:08.790Z"
   },
   {
    "duration": 31,
    "start_time": "2023-08-27T14:40:11.548Z"
   },
   {
    "duration": 4,
    "start_time": "2023-08-27T14:40:23.134Z"
   },
   {
    "duration": 78,
    "start_time": "2023-08-27T14:40:23.140Z"
   },
   {
    "duration": 11,
    "start_time": "2023-08-27T14:40:23.220Z"
   },
   {
    "duration": 10,
    "start_time": "2023-08-27T14:40:23.233Z"
   },
   {
    "duration": 14,
    "start_time": "2023-08-27T14:40:23.245Z"
   },
   {
    "duration": 27,
    "start_time": "2023-08-27T14:40:23.261Z"
   },
   {
    "duration": 10,
    "start_time": "2023-08-27T14:40:23.289Z"
   },
   {
    "duration": 32,
    "start_time": "2023-08-27T14:40:23.301Z"
   },
   {
    "duration": 5,
    "start_time": "2023-08-27T14:40:23.335Z"
   },
   {
    "duration": 9,
    "start_time": "2023-08-27T14:40:23.341Z"
   },
   {
    "duration": 15,
    "start_time": "2023-08-27T14:40:23.353Z"
   },
   {
    "duration": 11,
    "start_time": "2023-08-27T14:40:23.369Z"
   },
   {
    "duration": 10,
    "start_time": "2023-08-27T14:40:23.381Z"
   },
   {
    "duration": 5,
    "start_time": "2023-08-27T14:40:23.392Z"
   },
   {
    "duration": 152,
    "start_time": "2023-08-27T14:40:23.399Z"
   },
   {
    "duration": 123,
    "start_time": "2023-08-27T14:40:23.552Z"
   },
   {
    "duration": 175,
    "start_time": "2023-08-27T14:40:23.676Z"
   },
   {
    "duration": 133,
    "start_time": "2023-08-27T14:40:23.853Z"
   },
   {
    "duration": 190,
    "start_time": "2023-08-27T14:40:23.988Z"
   },
   {
    "duration": 32,
    "start_time": "2023-08-27T14:40:24.179Z"
   },
   {
    "duration": 20,
    "start_time": "2023-08-27T14:40:24.213Z"
   },
   {
    "duration": 44,
    "start_time": "2023-08-27T14:40:24.235Z"
   },
   {
    "duration": 444,
    "start_time": "2023-08-27T14:40:24.281Z"
   },
   {
    "duration": 490,
    "start_time": "2023-08-27T14:40:24.727Z"
   },
   {
    "duration": 225,
    "start_time": "2023-08-27T14:40:25.219Z"
   },
   {
    "duration": 225,
    "start_time": "2023-08-27T14:40:25.446Z"
   },
   {
    "duration": 823,
    "start_time": "2023-08-27T14:40:25.672Z"
   },
   {
    "duration": 4,
    "start_time": "2023-08-27T14:40:26.496Z"
   },
   {
    "duration": 20,
    "start_time": "2023-08-27T14:40:26.503Z"
   },
   {
    "duration": 18,
    "start_time": "2023-08-27T14:40:26.525Z"
   },
   {
    "duration": 10,
    "start_time": "2023-08-27T14:40:26.545Z"
   },
   {
    "duration": 293,
    "start_time": "2023-08-27T14:40:26.556Z"
   },
   {
    "duration": 27,
    "start_time": "2023-08-27T14:40:26.850Z"
   },
   {
    "duration": 5,
    "start_time": "2023-08-27T14:40:26.878Z"
   },
   {
    "duration": 6,
    "start_time": "2023-08-27T14:40:26.885Z"
   },
   {
    "duration": 15,
    "start_time": "2023-08-27T14:40:26.892Z"
   },
   {
    "duration": 476,
    "start_time": "2023-08-27T14:42:06.960Z"
   },
   {
    "duration": 479,
    "start_time": "2023-08-27T14:42:13.928Z"
   },
   {
    "duration": 448,
    "start_time": "2023-08-27T14:42:38.980Z"
   },
   {
    "duration": 95,
    "start_time": "2023-08-27T14:43:41.406Z"
   },
   {
    "duration": 177,
    "start_time": "2023-08-27T14:44:39.749Z"
   },
   {
    "duration": 156,
    "start_time": "2023-08-27T14:45:36.649Z"
   },
   {
    "duration": 199,
    "start_time": "2023-08-27T14:45:52.576Z"
   },
   {
    "duration": 189,
    "start_time": "2023-08-27T14:46:26.541Z"
   },
   {
    "duration": 183,
    "start_time": "2023-08-27T14:46:34.504Z"
   },
   {
    "duration": 177,
    "start_time": "2023-08-27T14:46:48.632Z"
   },
   {
    "duration": 1149,
    "start_time": "2023-08-27T16:47:19.064Z"
   },
   {
    "duration": 68,
    "start_time": "2023-08-27T16:47:20.215Z"
   },
   {
    "duration": 11,
    "start_time": "2023-08-27T16:47:20.284Z"
   },
   {
    "duration": 21,
    "start_time": "2023-08-27T16:47:20.296Z"
   },
   {
    "duration": 8,
    "start_time": "2023-08-27T16:47:20.319Z"
   },
   {
    "duration": 8,
    "start_time": "2023-08-27T16:47:20.328Z"
   },
   {
    "duration": 20,
    "start_time": "2023-08-27T16:47:20.338Z"
   },
   {
    "duration": 27,
    "start_time": "2023-08-27T16:47:20.359Z"
   },
   {
    "duration": 4,
    "start_time": "2023-08-27T16:47:20.388Z"
   },
   {
    "duration": 9,
    "start_time": "2023-08-27T16:47:20.393Z"
   },
   {
    "duration": 8,
    "start_time": "2023-08-27T16:47:20.404Z"
   },
   {
    "duration": 13,
    "start_time": "2023-08-27T16:47:20.413Z"
   },
   {
    "duration": 7,
    "start_time": "2023-08-27T16:47:20.428Z"
   },
   {
    "duration": 5,
    "start_time": "2023-08-27T16:47:20.451Z"
   },
   {
    "duration": 144,
    "start_time": "2023-08-27T16:47:20.457Z"
   },
   {
    "duration": 116,
    "start_time": "2023-08-27T16:47:20.602Z"
   },
   {
    "duration": 142,
    "start_time": "2023-08-27T16:47:20.720Z"
   },
   {
    "duration": 100,
    "start_time": "2023-08-27T16:47:20.864Z"
   },
   {
    "duration": 163,
    "start_time": "2023-08-27T16:47:20.965Z"
   },
   {
    "duration": 39,
    "start_time": "2023-08-27T16:47:21.129Z"
   },
   {
    "duration": 17,
    "start_time": "2023-08-27T16:47:21.169Z"
   },
   {
    "duration": 16,
    "start_time": "2023-08-27T16:47:21.188Z"
   },
   {
    "duration": 178,
    "start_time": "2023-08-27T16:47:21.206Z"
   },
   {
    "duration": 167,
    "start_time": "2023-08-27T16:47:21.385Z"
   },
   {
    "duration": 229,
    "start_time": "2023-08-27T16:47:21.553Z"
   },
   {
    "duration": 168,
    "start_time": "2023-08-27T16:47:21.784Z"
   },
   {
    "duration": 749,
    "start_time": "2023-08-27T16:47:21.954Z"
   },
   {
    "duration": 3,
    "start_time": "2023-08-27T16:47:22.705Z"
   },
   {
    "duration": 8,
    "start_time": "2023-08-27T16:47:22.709Z"
   },
   {
    "duration": 16,
    "start_time": "2023-08-27T16:47:22.718Z"
   },
   {
    "duration": 16,
    "start_time": "2023-08-27T16:47:22.736Z"
   },
   {
    "duration": 109,
    "start_time": "2023-08-27T16:47:22.753Z"
   },
   {
    "duration": 15,
    "start_time": "2023-08-27T16:47:22.864Z"
   },
   {
    "duration": 4,
    "start_time": "2023-08-27T16:47:22.881Z"
   },
   {
    "duration": 9,
    "start_time": "2023-08-27T16:47:22.887Z"
   },
   {
    "duration": 17,
    "start_time": "2023-08-27T16:47:22.897Z"
   }
  ],
  "kernelspec": {
   "display_name": "Python 3 (ipykernel)",
   "language": "python",
   "name": "python3"
  },
  "language_info": {
   "codemirror_mode": {
    "name": "ipython",
    "version": 3
   },
   "file_extension": ".py",
   "mimetype": "text/x-python",
   "name": "python",
   "nbconvert_exporter": "python",
   "pygments_lexer": "ipython3",
   "version": "3.11.4"
  },
  "toc": {
   "base_numbering": 1,
   "nav_menu": {},
   "number_sections": true,
   "sideBar": true,
   "skip_h1_title": true,
   "title_cell": "Table of Contents",
   "title_sidebar": "Contents",
   "toc_cell": false,
   "toc_position": {},
   "toc_section_display": true,
   "toc_window_display": true
  }
 },
 "nbformat": 4,
 "nbformat_minor": 5
}
