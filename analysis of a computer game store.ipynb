{
 "cells": [
  {
   "cell_type": "markdown",
   "metadata": {},
   "source": [
    "#  Анализ интернет-магазина компьютерных игр «Стримчик»\n",
    "Вы работаете в интернет-магазине «Стримчик», который продаёт по всему миру компьютерные игры. Из открытых источников доступны исторические данные о продажах игр, оценки пользователей и экспертов, жанры и платформы (например, Xbox или PlayStation). Вам нужно выявить определяющие успешность игры закономерности. Это позволит сделать ставку на потенциально популярный продукт и спланировать рекламные кампании.\n",
    "Перед вами данные до 2016 года. Представим, что сейчас декабрь 2016 г., и вы планируете кампанию на 2017-й. Нужно отработать принцип работы с данными. Неважно, прогнозируете ли вы продажи на 2017 год по данным 2016-го или же 2027-й — по данным 2026 года.\n",
    "В наборе данных попадается аббревиатура ESRB (Entertainment Software Rating Board) — это ассоциация, определяющая возрастной рейтинг компьютерных игр. ESRB оценивает игровой контент и присваивает ему подходящую возрастную категорию, например, «Для взрослых», «Для детей младшего возраста» или «Для подростков»."
   ]
  },
  {
   "cell_type": "markdown",
   "metadata": {},
   "source": [
    "  - Описание данных\n",
    "     - Name — название игры\n",
    "     - Platform — платформа\n",
    "     - Year_of_Release — год выпуска\n",
    "     - Genre — жанр игры\n",
    "     - NA_sales — продажи в Северной Америке (миллионы проданных копий)\n",
    "     - EU_sales — продажи в Европе (миллионы проданных копий)\n",
    "     - JP_sales — продажи в Японии (миллионы проданных копий)\n",
    "     - Other_sales — продажи в других странах (миллионы проданных копий)\n",
    "     - Critic_Score — оценка критиков (максимум 100)\n",
    "     - User_Score — оценка пользователей (максимум 10)\n",
    "     - Rating — рейтинг от организации ESRB (англ. Entertainment Software Rating Board). Эта ассоциация определяет рейтинг компьютерных игр и присваивает им подходящую возрастную категорию."
   ]
  },
  {
   "cell_type": "code",
   "execution_count": 1,
   "metadata": {},
   "outputs": [],
   "source": [
    "import pandas as pd\n",
    "import matplotlib.pyplot as plt\n",
    "import seaborn as sns\n",
    "import numpy as np\n",
    "from scipy import stats as st"
   ]
  },
  {
   "cell_type": "markdown",
   "metadata": {},
   "source": [
    "##### Общая информация"
   ]
  },
  {
   "cell_type": "code",
   "execution_count": 2,
   "metadata": {},
   "outputs": [
    {
     "data": {
      "text/html": [
       "<div>\n",
       "<style scoped>\n",
       "    .dataframe tbody tr th:only-of-type {\n",
       "        vertical-align: middle;\n",
       "    }\n",
       "\n",
       "    .dataframe tbody tr th {\n",
       "        vertical-align: top;\n",
       "    }\n",
       "\n",
       "    .dataframe thead th {\n",
       "        text-align: right;\n",
       "    }\n",
       "</style>\n",
       "<table border=\"1\" class=\"dataframe\">\n",
       "  <thead>\n",
       "    <tr style=\"text-align: right;\">\n",
       "      <th></th>\n",
       "      <th>Name</th>\n",
       "      <th>Platform</th>\n",
       "      <th>Year_of_Release</th>\n",
       "      <th>Genre</th>\n",
       "      <th>NA_sales</th>\n",
       "      <th>EU_sales</th>\n",
       "      <th>JP_sales</th>\n",
       "      <th>Other_sales</th>\n",
       "      <th>Critic_Score</th>\n",
       "      <th>User_Score</th>\n",
       "      <th>Rating</th>\n",
       "    </tr>\n",
       "  </thead>\n",
       "  <tbody>\n",
       "    <tr>\n",
       "      <th>0</th>\n",
       "      <td>Wii Sports</td>\n",
       "      <td>Wii</td>\n",
       "      <td>2006.0</td>\n",
       "      <td>Sports</td>\n",
       "      <td>41.36</td>\n",
       "      <td>28.96</td>\n",
       "      <td>3.77</td>\n",
       "      <td>8.45</td>\n",
       "      <td>76.0</td>\n",
       "      <td>8</td>\n",
       "      <td>E</td>\n",
       "    </tr>\n",
       "    <tr>\n",
       "      <th>1</th>\n",
       "      <td>Super Mario Bros.</td>\n",
       "      <td>NES</td>\n",
       "      <td>1985.0</td>\n",
       "      <td>Platform</td>\n",
       "      <td>29.08</td>\n",
       "      <td>3.58</td>\n",
       "      <td>6.81</td>\n",
       "      <td>0.77</td>\n",
       "      <td>NaN</td>\n",
       "      <td>NaN</td>\n",
       "      <td>NaN</td>\n",
       "    </tr>\n",
       "    <tr>\n",
       "      <th>2</th>\n",
       "      <td>Mario Kart Wii</td>\n",
       "      <td>Wii</td>\n",
       "      <td>2008.0</td>\n",
       "      <td>Racing</td>\n",
       "      <td>15.68</td>\n",
       "      <td>12.76</td>\n",
       "      <td>3.79</td>\n",
       "      <td>3.29</td>\n",
       "      <td>82.0</td>\n",
       "      <td>8.3</td>\n",
       "      <td>E</td>\n",
       "    </tr>\n",
       "    <tr>\n",
       "      <th>3</th>\n",
       "      <td>Wii Sports Resort</td>\n",
       "      <td>Wii</td>\n",
       "      <td>2009.0</td>\n",
       "      <td>Sports</td>\n",
       "      <td>15.61</td>\n",
       "      <td>10.93</td>\n",
       "      <td>3.28</td>\n",
       "      <td>2.95</td>\n",
       "      <td>80.0</td>\n",
       "      <td>8</td>\n",
       "      <td>E</td>\n",
       "    </tr>\n",
       "    <tr>\n",
       "      <th>4</th>\n",
       "      <td>Pokemon Red/Pokemon Blue</td>\n",
       "      <td>GB</td>\n",
       "      <td>1996.0</td>\n",
       "      <td>Role-Playing</td>\n",
       "      <td>11.27</td>\n",
       "      <td>8.89</td>\n",
       "      <td>10.22</td>\n",
       "      <td>1.00</td>\n",
       "      <td>NaN</td>\n",
       "      <td>NaN</td>\n",
       "      <td>NaN</td>\n",
       "    </tr>\n",
       "    <tr>\n",
       "      <th>...</th>\n",
       "      <td>...</td>\n",
       "      <td>...</td>\n",
       "      <td>...</td>\n",
       "      <td>...</td>\n",
       "      <td>...</td>\n",
       "      <td>...</td>\n",
       "      <td>...</td>\n",
       "      <td>...</td>\n",
       "      <td>...</td>\n",
       "      <td>...</td>\n",
       "      <td>...</td>\n",
       "    </tr>\n",
       "    <tr>\n",
       "      <th>16710</th>\n",
       "      <td>Samurai Warriors: Sanada Maru</td>\n",
       "      <td>PS3</td>\n",
       "      <td>2016.0</td>\n",
       "      <td>Action</td>\n",
       "      <td>0.00</td>\n",
       "      <td>0.00</td>\n",
       "      <td>0.01</td>\n",
       "      <td>0.00</td>\n",
       "      <td>NaN</td>\n",
       "      <td>NaN</td>\n",
       "      <td>NaN</td>\n",
       "    </tr>\n",
       "    <tr>\n",
       "      <th>16711</th>\n",
       "      <td>LMA Manager 2007</td>\n",
       "      <td>X360</td>\n",
       "      <td>2006.0</td>\n",
       "      <td>Sports</td>\n",
       "      <td>0.00</td>\n",
       "      <td>0.01</td>\n",
       "      <td>0.00</td>\n",
       "      <td>0.00</td>\n",
       "      <td>NaN</td>\n",
       "      <td>NaN</td>\n",
       "      <td>NaN</td>\n",
       "    </tr>\n",
       "    <tr>\n",
       "      <th>16712</th>\n",
       "      <td>Haitaka no Psychedelica</td>\n",
       "      <td>PSV</td>\n",
       "      <td>2016.0</td>\n",
       "      <td>Adventure</td>\n",
       "      <td>0.00</td>\n",
       "      <td>0.00</td>\n",
       "      <td>0.01</td>\n",
       "      <td>0.00</td>\n",
       "      <td>NaN</td>\n",
       "      <td>NaN</td>\n",
       "      <td>NaN</td>\n",
       "    </tr>\n",
       "    <tr>\n",
       "      <th>16713</th>\n",
       "      <td>Spirits &amp; Spells</td>\n",
       "      <td>GBA</td>\n",
       "      <td>2003.0</td>\n",
       "      <td>Platform</td>\n",
       "      <td>0.01</td>\n",
       "      <td>0.00</td>\n",
       "      <td>0.00</td>\n",
       "      <td>0.00</td>\n",
       "      <td>NaN</td>\n",
       "      <td>NaN</td>\n",
       "      <td>NaN</td>\n",
       "    </tr>\n",
       "    <tr>\n",
       "      <th>16714</th>\n",
       "      <td>Winning Post 8 2016</td>\n",
       "      <td>PSV</td>\n",
       "      <td>2016.0</td>\n",
       "      <td>Simulation</td>\n",
       "      <td>0.00</td>\n",
       "      <td>0.00</td>\n",
       "      <td>0.01</td>\n",
       "      <td>0.00</td>\n",
       "      <td>NaN</td>\n",
       "      <td>NaN</td>\n",
       "      <td>NaN</td>\n",
       "    </tr>\n",
       "  </tbody>\n",
       "</table>\n",
       "<p>16715 rows × 11 columns</p>\n",
       "</div>"
      ],
      "text/plain": [
       "                                Name Platform  Year_of_Release         Genre  \\\n",
       "0                         Wii Sports      Wii           2006.0        Sports   \n",
       "1                  Super Mario Bros.      NES           1985.0      Platform   \n",
       "2                     Mario Kart Wii      Wii           2008.0        Racing   \n",
       "3                  Wii Sports Resort      Wii           2009.0        Sports   \n",
       "4           Pokemon Red/Pokemon Blue       GB           1996.0  Role-Playing   \n",
       "...                              ...      ...              ...           ...   \n",
       "16710  Samurai Warriors: Sanada Maru      PS3           2016.0        Action   \n",
       "16711               LMA Manager 2007     X360           2006.0        Sports   \n",
       "16712        Haitaka no Psychedelica      PSV           2016.0     Adventure   \n",
       "16713               Spirits & Spells      GBA           2003.0      Platform   \n",
       "16714            Winning Post 8 2016      PSV           2016.0    Simulation   \n",
       "\n",
       "       NA_sales  EU_sales  JP_sales  Other_sales  Critic_Score User_Score  \\\n",
       "0         41.36     28.96      3.77         8.45          76.0          8   \n",
       "1         29.08      3.58      6.81         0.77           NaN        NaN   \n",
       "2         15.68     12.76      3.79         3.29          82.0        8.3   \n",
       "3         15.61     10.93      3.28         2.95          80.0          8   \n",
       "4         11.27      8.89     10.22         1.00           NaN        NaN   \n",
       "...         ...       ...       ...          ...           ...        ...   \n",
       "16710      0.00      0.00      0.01         0.00           NaN        NaN   \n",
       "16711      0.00      0.01      0.00         0.00           NaN        NaN   \n",
       "16712      0.00      0.00      0.01         0.00           NaN        NaN   \n",
       "16713      0.01      0.00      0.00         0.00           NaN        NaN   \n",
       "16714      0.00      0.00      0.01         0.00           NaN        NaN   \n",
       "\n",
       "      Rating  \n",
       "0          E  \n",
       "1        NaN  \n",
       "2          E  \n",
       "3          E  \n",
       "4        NaN  \n",
       "...      ...  \n",
       "16710    NaN  \n",
       "16711    NaN  \n",
       "16712    NaN  \n",
       "16713    NaN  \n",
       "16714    NaN  \n",
       "\n",
       "[16715 rows x 11 columns]"
      ]
     },
     "execution_count": 2,
     "metadata": {},
     "output_type": "execute_result"
    }
   ],
   "source": [
    "data = pd.read_csv('games.csv')\n",
    "data"
   ]
  },
  {
   "cell_type": "markdown",
   "metadata": {},
   "source": [
    "##### Подготовка данных"
   ]
  },
  {
   "cell_type": "markdown",
   "metadata": {},
   "source": [
    "Заменим названия столбцов:"
   ]
  },
  {
   "cell_type": "code",
   "execution_count": 3,
   "metadata": {},
   "outputs": [
    {
     "data": {
      "text/html": [
       "<div>\n",
       "<style scoped>\n",
       "    .dataframe tbody tr th:only-of-type {\n",
       "        vertical-align: middle;\n",
       "    }\n",
       "\n",
       "    .dataframe tbody tr th {\n",
       "        vertical-align: top;\n",
       "    }\n",
       "\n",
       "    .dataframe thead th {\n",
       "        text-align: right;\n",
       "    }\n",
       "</style>\n",
       "<table border=\"1\" class=\"dataframe\">\n",
       "  <thead>\n",
       "    <tr style=\"text-align: right;\">\n",
       "      <th></th>\n",
       "      <th>name</th>\n",
       "      <th>platform</th>\n",
       "      <th>year_of_release</th>\n",
       "      <th>genre</th>\n",
       "      <th>na_sales</th>\n",
       "      <th>eu_sales</th>\n",
       "      <th>jp_sales</th>\n",
       "      <th>other_sales</th>\n",
       "      <th>critic_score</th>\n",
       "      <th>user_score</th>\n",
       "      <th>rating</th>\n",
       "    </tr>\n",
       "  </thead>\n",
       "  <tbody>\n",
       "    <tr>\n",
       "      <th>0</th>\n",
       "      <td>Wii Sports</td>\n",
       "      <td>Wii</td>\n",
       "      <td>2006.0</td>\n",
       "      <td>Sports</td>\n",
       "      <td>41.36</td>\n",
       "      <td>28.96</td>\n",
       "      <td>3.77</td>\n",
       "      <td>8.45</td>\n",
       "      <td>76.0</td>\n",
       "      <td>8</td>\n",
       "      <td>E</td>\n",
       "    </tr>\n",
       "    <tr>\n",
       "      <th>1</th>\n",
       "      <td>Super Mario Bros.</td>\n",
       "      <td>NES</td>\n",
       "      <td>1985.0</td>\n",
       "      <td>Platform</td>\n",
       "      <td>29.08</td>\n",
       "      <td>3.58</td>\n",
       "      <td>6.81</td>\n",
       "      <td>0.77</td>\n",
       "      <td>NaN</td>\n",
       "      <td>NaN</td>\n",
       "      <td>NaN</td>\n",
       "    </tr>\n",
       "    <tr>\n",
       "      <th>2</th>\n",
       "      <td>Mario Kart Wii</td>\n",
       "      <td>Wii</td>\n",
       "      <td>2008.0</td>\n",
       "      <td>Racing</td>\n",
       "      <td>15.68</td>\n",
       "      <td>12.76</td>\n",
       "      <td>3.79</td>\n",
       "      <td>3.29</td>\n",
       "      <td>82.0</td>\n",
       "      <td>8.3</td>\n",
       "      <td>E</td>\n",
       "    </tr>\n",
       "    <tr>\n",
       "      <th>3</th>\n",
       "      <td>Wii Sports Resort</td>\n",
       "      <td>Wii</td>\n",
       "      <td>2009.0</td>\n",
       "      <td>Sports</td>\n",
       "      <td>15.61</td>\n",
       "      <td>10.93</td>\n",
       "      <td>3.28</td>\n",
       "      <td>2.95</td>\n",
       "      <td>80.0</td>\n",
       "      <td>8</td>\n",
       "      <td>E</td>\n",
       "    </tr>\n",
       "    <tr>\n",
       "      <th>4</th>\n",
       "      <td>Pokemon Red/Pokemon Blue</td>\n",
       "      <td>GB</td>\n",
       "      <td>1996.0</td>\n",
       "      <td>Role-Playing</td>\n",
       "      <td>11.27</td>\n",
       "      <td>8.89</td>\n",
       "      <td>10.22</td>\n",
       "      <td>1.00</td>\n",
       "      <td>NaN</td>\n",
       "      <td>NaN</td>\n",
       "      <td>NaN</td>\n",
       "    </tr>\n",
       "    <tr>\n",
       "      <th>...</th>\n",
       "      <td>...</td>\n",
       "      <td>...</td>\n",
       "      <td>...</td>\n",
       "      <td>...</td>\n",
       "      <td>...</td>\n",
       "      <td>...</td>\n",
       "      <td>...</td>\n",
       "      <td>...</td>\n",
       "      <td>...</td>\n",
       "      <td>...</td>\n",
       "      <td>...</td>\n",
       "    </tr>\n",
       "    <tr>\n",
       "      <th>16710</th>\n",
       "      <td>Samurai Warriors: Sanada Maru</td>\n",
       "      <td>PS3</td>\n",
       "      <td>2016.0</td>\n",
       "      <td>Action</td>\n",
       "      <td>0.00</td>\n",
       "      <td>0.00</td>\n",
       "      <td>0.01</td>\n",
       "      <td>0.00</td>\n",
       "      <td>NaN</td>\n",
       "      <td>NaN</td>\n",
       "      <td>NaN</td>\n",
       "    </tr>\n",
       "    <tr>\n",
       "      <th>16711</th>\n",
       "      <td>LMA Manager 2007</td>\n",
       "      <td>X360</td>\n",
       "      <td>2006.0</td>\n",
       "      <td>Sports</td>\n",
       "      <td>0.00</td>\n",
       "      <td>0.01</td>\n",
       "      <td>0.00</td>\n",
       "      <td>0.00</td>\n",
       "      <td>NaN</td>\n",
       "      <td>NaN</td>\n",
       "      <td>NaN</td>\n",
       "    </tr>\n",
       "    <tr>\n",
       "      <th>16712</th>\n",
       "      <td>Haitaka no Psychedelica</td>\n",
       "      <td>PSV</td>\n",
       "      <td>2016.0</td>\n",
       "      <td>Adventure</td>\n",
       "      <td>0.00</td>\n",
       "      <td>0.00</td>\n",
       "      <td>0.01</td>\n",
       "      <td>0.00</td>\n",
       "      <td>NaN</td>\n",
       "      <td>NaN</td>\n",
       "      <td>NaN</td>\n",
       "    </tr>\n",
       "    <tr>\n",
       "      <th>16713</th>\n",
       "      <td>Spirits &amp; Spells</td>\n",
       "      <td>GBA</td>\n",
       "      <td>2003.0</td>\n",
       "      <td>Platform</td>\n",
       "      <td>0.01</td>\n",
       "      <td>0.00</td>\n",
       "      <td>0.00</td>\n",
       "      <td>0.00</td>\n",
       "      <td>NaN</td>\n",
       "      <td>NaN</td>\n",
       "      <td>NaN</td>\n",
       "    </tr>\n",
       "    <tr>\n",
       "      <th>16714</th>\n",
       "      <td>Winning Post 8 2016</td>\n",
       "      <td>PSV</td>\n",
       "      <td>2016.0</td>\n",
       "      <td>Simulation</td>\n",
       "      <td>0.00</td>\n",
       "      <td>0.00</td>\n",
       "      <td>0.01</td>\n",
       "      <td>0.00</td>\n",
       "      <td>NaN</td>\n",
       "      <td>NaN</td>\n",
       "      <td>NaN</td>\n",
       "    </tr>\n",
       "  </tbody>\n",
       "</table>\n",
       "<p>16715 rows × 11 columns</p>\n",
       "</div>"
      ],
      "text/plain": [
       "                                name platform  year_of_release         genre  \\\n",
       "0                         Wii Sports      Wii           2006.0        Sports   \n",
       "1                  Super Mario Bros.      NES           1985.0      Platform   \n",
       "2                     Mario Kart Wii      Wii           2008.0        Racing   \n",
       "3                  Wii Sports Resort      Wii           2009.0        Sports   \n",
       "4           Pokemon Red/Pokemon Blue       GB           1996.0  Role-Playing   \n",
       "...                              ...      ...              ...           ...   \n",
       "16710  Samurai Warriors: Sanada Maru      PS3           2016.0        Action   \n",
       "16711               LMA Manager 2007     X360           2006.0        Sports   \n",
       "16712        Haitaka no Psychedelica      PSV           2016.0     Adventure   \n",
       "16713               Spirits & Spells      GBA           2003.0      Platform   \n",
       "16714            Winning Post 8 2016      PSV           2016.0    Simulation   \n",
       "\n",
       "       na_sales  eu_sales  jp_sales  other_sales  critic_score user_score  \\\n",
       "0         41.36     28.96      3.77         8.45          76.0          8   \n",
       "1         29.08      3.58      6.81         0.77           NaN        NaN   \n",
       "2         15.68     12.76      3.79         3.29          82.0        8.3   \n",
       "3         15.61     10.93      3.28         2.95          80.0          8   \n",
       "4         11.27      8.89     10.22         1.00           NaN        NaN   \n",
       "...         ...       ...       ...          ...           ...        ...   \n",
       "16710      0.00      0.00      0.01         0.00           NaN        NaN   \n",
       "16711      0.00      0.01      0.00         0.00           NaN        NaN   \n",
       "16712      0.00      0.00      0.01         0.00           NaN        NaN   \n",
       "16713      0.01      0.00      0.00         0.00           NaN        NaN   \n",
       "16714      0.00      0.00      0.01         0.00           NaN        NaN   \n",
       "\n",
       "      rating  \n",
       "0          E  \n",
       "1        NaN  \n",
       "2          E  \n",
       "3          E  \n",
       "4        NaN  \n",
       "...      ...  \n",
       "16710    NaN  \n",
       "16711    NaN  \n",
       "16712    NaN  \n",
       "16713    NaN  \n",
       "16714    NaN  \n",
       "\n",
       "[16715 rows x 11 columns]"
      ]
     },
     "execution_count": 3,
     "metadata": {},
     "output_type": "execute_result"
    }
   ],
   "source": [
    "data = data.rename(columns={\n",
    "    'Name':'name',\n",
    "    'Platform': 'platform',\n",
    "    'Year_of_Release': 'year_of_release',\n",
    "    'Genre': 'genre',\n",
    "    'NA_sales': 'na_sales',\n",
    "    'EU_sales': 'eu_sales',\n",
    "    'JP_sales': 'jp_sales',\n",
    "    'Other_sales': 'other_sales',\n",
    "    'Critic_Score': 'critic_score',\n",
    "    'User_Score': 'user_score',\n",
    "    'Rating': 'rating'\n",
    "})\n",
    "data"
   ]
  },
  {
   "cell_type": "markdown",
   "metadata": {},
   "source": [
    "Посмотрим на типы данных:"
   ]
  },
  {
   "cell_type": "code",
   "execution_count": 4,
   "metadata": {},
   "outputs": [
    {
     "name": "stdout",
     "output_type": "stream",
     "text": [
      "<class 'pandas.core.frame.DataFrame'>\n",
      "RangeIndex: 16715 entries, 0 to 16714\n",
      "Data columns (total 11 columns):\n",
      " #   Column           Non-Null Count  Dtype  \n",
      "---  ------           --------------  -----  \n",
      " 0   name             16713 non-null  object \n",
      " 1   platform         16715 non-null  object \n",
      " 2   year_of_release  16446 non-null  float64\n",
      " 3   genre            16713 non-null  object \n",
      " 4   na_sales         16715 non-null  float64\n",
      " 5   eu_sales         16715 non-null  float64\n",
      " 6   jp_sales         16715 non-null  float64\n",
      " 7   other_sales      16715 non-null  float64\n",
      " 8   critic_score     8137 non-null   float64\n",
      " 9   user_score       10014 non-null  object \n",
      " 10  rating           9949 non-null   object \n",
      "dtypes: float64(6), object(5)\n",
      "memory usage: 1.4+ MB\n"
     ]
    }
   ],
   "source": [
    "data.info()"
   ]
  },
  {
   "cell_type": "code",
   "execution_count": 5,
   "metadata": {},
   "outputs": [],
   "source": [
    "data['year_of_release'] = data['year_of_release'].astype('int', errors='ignore')\n",
    "data['critic_score'] = data['critic_score'].astype('int', errors='ignore')\n"
   ]
  },
  {
   "cell_type": "markdown",
   "metadata": {},
   "source": [
    "Заменили столбцы год релиза и оценка критиков на int. user_score на float."
   ]
  },
  {
   "cell_type": "markdown",
   "metadata": {},
   "source": [
    "В name, genre, year_of_release удалим пропуски, их не так много. Crititc_score и user_score оставим как есть, т.к. в них большая часть пропусков."
   ]
  },
  {
   "cell_type": "code",
   "execution_count": 6,
   "metadata": {},
   "outputs": [
    {
     "name": "stdout",
     "output_type": "stream",
     "text": [
      "<class 'pandas.core.frame.DataFrame'>\n",
      "Int64Index: 16444 entries, 0 to 16714\n",
      "Data columns (total 11 columns):\n",
      " #   Column           Non-Null Count  Dtype  \n",
      "---  ------           --------------  -----  \n",
      " 0   name             16444 non-null  object \n",
      " 1   platform         16444 non-null  object \n",
      " 2   year_of_release  16444 non-null  float64\n",
      " 3   genre            16444 non-null  object \n",
      " 4   na_sales         16444 non-null  float64\n",
      " 5   eu_sales         16444 non-null  float64\n",
      " 6   jp_sales         16444 non-null  float64\n",
      " 7   other_sales      16444 non-null  float64\n",
      " 8   critic_score     7983 non-null   float64\n",
      " 9   user_score       9839 non-null   object \n",
      " 10  rating           9768 non-null   object \n",
      "dtypes: float64(6), object(5)\n",
      "memory usage: 1.5+ MB\n"
     ]
    }
   ],
   "source": [
    "data = data.dropna(subset=['name','year_of_release'])\n",
    "data.info()"
   ]
  },
  {
   "cell_type": "markdown",
   "metadata": {},
   "source": [
    "TBD — это аббревиатура, которая обозначает «To Be Determined» (англ. «будет определено»). Это выражение используется в различных областях и означает, что некоторые детали еще не известны или не определены."
   ]
  },
  {
   "cell_type": "code",
   "execution_count": 7,
   "metadata": {},
   "outputs": [
    {
     "data": {
      "text/plain": [
       "NaN    6605\n",
       "tbd    2376\n",
       "7.8     322\n",
       "8       285\n",
       "8.2     276\n",
       "       ... \n",
       "1.9       2\n",
       "9.6       2\n",
       "0.9       2\n",
       "0         1\n",
       "9.7       1\n",
       "Name: user_score, Length: 97, dtype: int64"
      ]
     },
     "execution_count": 7,
     "metadata": {},
     "output_type": "execute_result"
    }
   ],
   "source": [
    "data['user_score'].value_counts(dropna=False)"
   ]
  },
  {
   "cell_type": "markdown",
   "metadata": {},
   "source": [
    "Значения tbd можно заменить на None, т.к. смысловой нагрузки они не несут."
   ]
  },
  {
   "cell_type": "code",
   "execution_count": 8,
   "metadata": {
    "scrolled": false
   },
   "outputs": [
    {
     "name": "stderr",
     "output_type": "stream",
     "text": [
      "C:\\Users\\Владислав\\AppData\\Local\\Temp\\ipykernel_28972\\1650899317.py:2: SettingWithCopyWarning: \n",
      "A value is trying to be set on a copy of a slice from a DataFrame\n",
      "\n",
      "See the caveats in the documentation: https://pandas.pydata.org/pandas-docs/stable/user_guide/indexing.html#returning-a-view-versus-a-copy\n",
      "  data['user_score'].loc[data['user_score'] == 'tbd'] = None\n",
      "C:\\Users\\Владислав\\AppData\\Local\\Temp\\ipykernel_28972\\1650899317.py:5: SettingWithCopyWarning: \n",
      "A value is trying to be set on a copy of a slice from a DataFrame.\n",
      "Try using .loc[row_indexer,col_indexer] = value instead\n",
      "\n",
      "See the caveats in the documentation: https://pandas.pydata.org/pandas-docs/stable/user_guide/indexing.html#returning-a-view-versus-a-copy\n",
      "  data['user_score'] = data['user_score'].astype('float')\n"
     ]
    }
   ],
   "source": [
    "def change_tbd(data):\n",
    "    data['user_score'].loc[data['user_score'] == 'tbd'] = None\n",
    "change_tbd(data)\n",
    "data['user_score'].value_counts(dropna=False)\n",
    "data['user_score'] = data['user_score'].astype('float')"
   ]
  },
  {
   "cell_type": "code",
   "execution_count": 9,
   "metadata": {},
   "outputs": [
    {
     "data": {
      "text/plain": [
       "NaN     6676\n",
       "E       3921\n",
       "T       2905\n",
       "M       1536\n",
       "E10+    1393\n",
       "EC         8\n",
       "K-A        3\n",
       "AO         1\n",
       "RP         1\n",
       "Name: rating, dtype: int64"
      ]
     },
     "execution_count": 9,
     "metadata": {},
     "output_type": "execute_result"
    }
   ],
   "source": [
    "data['rating'].value_counts(dropna = False)"
   ]
  },
  {
   "cell_type": "code",
   "execution_count": 10,
   "metadata": {},
   "outputs": [
    {
     "name": "stderr",
     "output_type": "stream",
     "text": [
      "C:\\Users\\Владислав\\AppData\\Local\\Temp\\ipykernel_28972\\3828904670.py:1: SettingWithCopyWarning: \n",
      "A value is trying to be set on a copy of a slice from a DataFrame.\n",
      "Try using .loc[row_indexer,col_indexer] = value instead\n",
      "\n",
      "See the caveats in the documentation: https://pandas.pydata.org/pandas-docs/stable/user_guide/indexing.html#returning-a-view-versus-a-copy\n",
      "  data['rating'] = data['rating'].fillna('unknown')\n"
     ]
    },
    {
     "data": {
      "text/plain": [
       "unknown    6676\n",
       "E          3921\n",
       "T          2905\n",
       "M          1536\n",
       "E10+       1393\n",
       "EC            8\n",
       "K-A           3\n",
       "AO            1\n",
       "RP            1\n",
       "Name: rating, dtype: int64"
      ]
     },
     "execution_count": 10,
     "metadata": {},
     "output_type": "execute_result"
    }
   ],
   "source": [
    "data['rating'] = data['rating'].fillna('unknown')\n",
    "data['rating'].value_counts(dropna = False)"
   ]
  },
  {
   "cell_type": "markdown",
   "metadata": {},
   "source": [
    "В столбце Rating много пропусков и они не случайны, скорее всего эти игры не получили оценок, поскольку могли быть выпущены до того как появилась система ESRB или в этом регионе необязательно, чтобы играм был присвоен рейтинг системой ESRB, может таких игр больше всего в каком-то определенном регионе или просто еще не успели их оценить. Их стоит заменить особым значением, например \"unknown\", чтобы при составлении портрета пользователя не потерять эти данные."
   ]
  },
  {
   "cell_type": "code",
   "execution_count": 11,
   "metadata": {
    "scrolled": false
   },
   "outputs": [
    {
     "name": "stderr",
     "output_type": "stream",
     "text": [
      "C:\\Users\\Владислав\\AppData\\Local\\Temp\\ipykernel_28972\\206105484.py:1: SettingWithCopyWarning: \n",
      "A value is trying to be set on a copy of a slice from a DataFrame.\n",
      "Try using .loc[row_indexer,col_indexer] = value instead\n",
      "\n",
      "See the caveats in the documentation: https://pandas.pydata.org/pandas-docs/stable/user_guide/indexing.html#returning-a-view-versus-a-copy\n",
      "  data['sales'] = data[['na_sales','eu_sales','jp_sales', 'other_sales']].sum(axis = 1)\n"
     ]
    }
   ],
   "source": [
    "data['sales'] = data[['na_sales','eu_sales','jp_sales', 'other_sales']].sum(axis = 1)"
   ]
  },
  {
   "cell_type": "code",
   "execution_count": 12,
   "metadata": {},
   "outputs": [
    {
     "data": {
      "text/html": [
       "<div>\n",
       "<style scoped>\n",
       "    .dataframe tbody tr th:only-of-type {\n",
       "        vertical-align: middle;\n",
       "    }\n",
       "\n",
       "    .dataframe tbody tr th {\n",
       "        vertical-align: top;\n",
       "    }\n",
       "\n",
       "    .dataframe thead th {\n",
       "        text-align: right;\n",
       "    }\n",
       "</style>\n",
       "<table border=\"1\" class=\"dataframe\">\n",
       "  <thead>\n",
       "    <tr style=\"text-align: right;\">\n",
       "      <th></th>\n",
       "      <th>name</th>\n",
       "      <th>platform</th>\n",
       "      <th>year_of_release</th>\n",
       "      <th>genre</th>\n",
       "      <th>na_sales</th>\n",
       "      <th>eu_sales</th>\n",
       "      <th>jp_sales</th>\n",
       "      <th>other_sales</th>\n",
       "      <th>critic_score</th>\n",
       "      <th>user_score</th>\n",
       "      <th>rating</th>\n",
       "      <th>sales</th>\n",
       "    </tr>\n",
       "  </thead>\n",
       "  <tbody>\n",
       "    <tr>\n",
       "      <th>0</th>\n",
       "      <td>Wii Sports</td>\n",
       "      <td>Wii</td>\n",
       "      <td>2006.0</td>\n",
       "      <td>Sports</td>\n",
       "      <td>41.36</td>\n",
       "      <td>28.96</td>\n",
       "      <td>3.77</td>\n",
       "      <td>8.45</td>\n",
       "      <td>76.0</td>\n",
       "      <td>8.0</td>\n",
       "      <td>E</td>\n",
       "      <td>82.54</td>\n",
       "    </tr>\n",
       "    <tr>\n",
       "      <th>1</th>\n",
       "      <td>Super Mario Bros.</td>\n",
       "      <td>NES</td>\n",
       "      <td>1985.0</td>\n",
       "      <td>Platform</td>\n",
       "      <td>29.08</td>\n",
       "      <td>3.58</td>\n",
       "      <td>6.81</td>\n",
       "      <td>0.77</td>\n",
       "      <td>NaN</td>\n",
       "      <td>NaN</td>\n",
       "      <td>unknown</td>\n",
       "      <td>40.24</td>\n",
       "    </tr>\n",
       "    <tr>\n",
       "      <th>2</th>\n",
       "      <td>Mario Kart Wii</td>\n",
       "      <td>Wii</td>\n",
       "      <td>2008.0</td>\n",
       "      <td>Racing</td>\n",
       "      <td>15.68</td>\n",
       "      <td>12.76</td>\n",
       "      <td>3.79</td>\n",
       "      <td>3.29</td>\n",
       "      <td>82.0</td>\n",
       "      <td>8.3</td>\n",
       "      <td>E</td>\n",
       "      <td>35.52</td>\n",
       "    </tr>\n",
       "    <tr>\n",
       "      <th>3</th>\n",
       "      <td>Wii Sports Resort</td>\n",
       "      <td>Wii</td>\n",
       "      <td>2009.0</td>\n",
       "      <td>Sports</td>\n",
       "      <td>15.61</td>\n",
       "      <td>10.93</td>\n",
       "      <td>3.28</td>\n",
       "      <td>2.95</td>\n",
       "      <td>80.0</td>\n",
       "      <td>8.0</td>\n",
       "      <td>E</td>\n",
       "      <td>32.77</td>\n",
       "    </tr>\n",
       "    <tr>\n",
       "      <th>4</th>\n",
       "      <td>Pokemon Red/Pokemon Blue</td>\n",
       "      <td>GB</td>\n",
       "      <td>1996.0</td>\n",
       "      <td>Role-Playing</td>\n",
       "      <td>11.27</td>\n",
       "      <td>8.89</td>\n",
       "      <td>10.22</td>\n",
       "      <td>1.00</td>\n",
       "      <td>NaN</td>\n",
       "      <td>NaN</td>\n",
       "      <td>unknown</td>\n",
       "      <td>31.38</td>\n",
       "    </tr>\n",
       "    <tr>\n",
       "      <th>...</th>\n",
       "      <td>...</td>\n",
       "      <td>...</td>\n",
       "      <td>...</td>\n",
       "      <td>...</td>\n",
       "      <td>...</td>\n",
       "      <td>...</td>\n",
       "      <td>...</td>\n",
       "      <td>...</td>\n",
       "      <td>...</td>\n",
       "      <td>...</td>\n",
       "      <td>...</td>\n",
       "      <td>...</td>\n",
       "    </tr>\n",
       "    <tr>\n",
       "      <th>16710</th>\n",
       "      <td>Samurai Warriors: Sanada Maru</td>\n",
       "      <td>PS3</td>\n",
       "      <td>2016.0</td>\n",
       "      <td>Action</td>\n",
       "      <td>0.00</td>\n",
       "      <td>0.00</td>\n",
       "      <td>0.01</td>\n",
       "      <td>0.00</td>\n",
       "      <td>NaN</td>\n",
       "      <td>NaN</td>\n",
       "      <td>unknown</td>\n",
       "      <td>0.01</td>\n",
       "    </tr>\n",
       "    <tr>\n",
       "      <th>16711</th>\n",
       "      <td>LMA Manager 2007</td>\n",
       "      <td>X360</td>\n",
       "      <td>2006.0</td>\n",
       "      <td>Sports</td>\n",
       "      <td>0.00</td>\n",
       "      <td>0.01</td>\n",
       "      <td>0.00</td>\n",
       "      <td>0.00</td>\n",
       "      <td>NaN</td>\n",
       "      <td>NaN</td>\n",
       "      <td>unknown</td>\n",
       "      <td>0.01</td>\n",
       "    </tr>\n",
       "    <tr>\n",
       "      <th>16712</th>\n",
       "      <td>Haitaka no Psychedelica</td>\n",
       "      <td>PSV</td>\n",
       "      <td>2016.0</td>\n",
       "      <td>Adventure</td>\n",
       "      <td>0.00</td>\n",
       "      <td>0.00</td>\n",
       "      <td>0.01</td>\n",
       "      <td>0.00</td>\n",
       "      <td>NaN</td>\n",
       "      <td>NaN</td>\n",
       "      <td>unknown</td>\n",
       "      <td>0.01</td>\n",
       "    </tr>\n",
       "    <tr>\n",
       "      <th>16713</th>\n",
       "      <td>Spirits &amp; Spells</td>\n",
       "      <td>GBA</td>\n",
       "      <td>2003.0</td>\n",
       "      <td>Platform</td>\n",
       "      <td>0.01</td>\n",
       "      <td>0.00</td>\n",
       "      <td>0.00</td>\n",
       "      <td>0.00</td>\n",
       "      <td>NaN</td>\n",
       "      <td>NaN</td>\n",
       "      <td>unknown</td>\n",
       "      <td>0.01</td>\n",
       "    </tr>\n",
       "    <tr>\n",
       "      <th>16714</th>\n",
       "      <td>Winning Post 8 2016</td>\n",
       "      <td>PSV</td>\n",
       "      <td>2016.0</td>\n",
       "      <td>Simulation</td>\n",
       "      <td>0.00</td>\n",
       "      <td>0.00</td>\n",
       "      <td>0.01</td>\n",
       "      <td>0.00</td>\n",
       "      <td>NaN</td>\n",
       "      <td>NaN</td>\n",
       "      <td>unknown</td>\n",
       "      <td>0.01</td>\n",
       "    </tr>\n",
       "  </tbody>\n",
       "</table>\n",
       "<p>16444 rows × 12 columns</p>\n",
       "</div>"
      ],
      "text/plain": [
       "                                name platform  year_of_release         genre  \\\n",
       "0                         Wii Sports      Wii           2006.0        Sports   \n",
       "1                  Super Mario Bros.      NES           1985.0      Platform   \n",
       "2                     Mario Kart Wii      Wii           2008.0        Racing   \n",
       "3                  Wii Sports Resort      Wii           2009.0        Sports   \n",
       "4           Pokemon Red/Pokemon Blue       GB           1996.0  Role-Playing   \n",
       "...                              ...      ...              ...           ...   \n",
       "16710  Samurai Warriors: Sanada Maru      PS3           2016.0        Action   \n",
       "16711               LMA Manager 2007     X360           2006.0        Sports   \n",
       "16712        Haitaka no Psychedelica      PSV           2016.0     Adventure   \n",
       "16713               Spirits & Spells      GBA           2003.0      Platform   \n",
       "16714            Winning Post 8 2016      PSV           2016.0    Simulation   \n",
       "\n",
       "       na_sales  eu_sales  jp_sales  other_sales  critic_score  user_score  \\\n",
       "0         41.36     28.96      3.77         8.45          76.0         8.0   \n",
       "1         29.08      3.58      6.81         0.77           NaN         NaN   \n",
       "2         15.68     12.76      3.79         3.29          82.0         8.3   \n",
       "3         15.61     10.93      3.28         2.95          80.0         8.0   \n",
       "4         11.27      8.89     10.22         1.00           NaN         NaN   \n",
       "...         ...       ...       ...          ...           ...         ...   \n",
       "16710      0.00      0.00      0.01         0.00           NaN         NaN   \n",
       "16711      0.00      0.01      0.00         0.00           NaN         NaN   \n",
       "16712      0.00      0.00      0.01         0.00           NaN         NaN   \n",
       "16713      0.01      0.00      0.00         0.00           NaN         NaN   \n",
       "16714      0.00      0.00      0.01         0.00           NaN         NaN   \n",
       "\n",
       "        rating  sales  \n",
       "0            E  82.54  \n",
       "1      unknown  40.24  \n",
       "2            E  35.52  \n",
       "3            E  32.77  \n",
       "4      unknown  31.38  \n",
       "...        ...    ...  \n",
       "16710  unknown   0.01  \n",
       "16711  unknown   0.01  \n",
       "16712  unknown   0.01  \n",
       "16713  unknown   0.01  \n",
       "16714  unknown   0.01  \n",
       "\n",
       "[16444 rows x 12 columns]"
      ]
     },
     "execution_count": 12,
     "metadata": {},
     "output_type": "execute_result"
    }
   ],
   "source": [
    "data"
   ]
  },
  {
   "cell_type": "markdown",
   "metadata": {},
   "source": [
    "Заменили пропуски в местах, где это имееть место быть. Заменили типы данных на корректные. Добавили столбец sales."
   ]
  },
  {
   "cell_type": "markdown",
   "metadata": {},
   "source": [
    "##### Исследовательский анализ данных"
   ]
  },
  {
   "cell_type": "markdown",
   "metadata": {},
   "source": [
    "###### Посмотрите, сколько игр выпускалось в разные годы. Важны ли данные за все периоды?"
   ]
  },
  {
   "cell_type": "code",
   "execution_count": 13,
   "metadata": {},
   "outputs": [
    {
     "data": {
      "image/png": "[encoded data removed]",
      "text/plain": [
       "<Figure size 640x480 with 1 Axes>"
      ]
     },
     "metadata": {},
     "output_type": "display_data"
    }
   ],
   "source": [
    "data.groupby('year_of_release')['name'].count().plot(title = 'Количество игр в разные годы',\n",
    "                                                     xlabel = 'Год релиза',\n",
    "                                                     ylabel = 'Количество игр',\n",
    "                                                     grid = True);"
   ]
  },
  {
   "cell_type": "code",
   "execution_count": 14,
   "metadata": {},
   "outputs": [
    {
     "data": {
      "text/plain": [
       "year_of_release\n",
       "1980.0       9\n",
       "1984.0      14\n",
       "1985.0      14\n",
       "1988.0      15\n",
       "1990.0      16\n",
       "1987.0      16\n",
       "1989.0      17\n",
       "1983.0      17\n",
       "1986.0      21\n",
       "1982.0      36\n",
       "1991.0      41\n",
       "1992.0      43\n",
       "1981.0      46\n",
       "1993.0      60\n",
       "1994.0     121\n",
       "1995.0     219\n",
       "1996.0     263\n",
       "1997.0     289\n",
       "1999.0     338\n",
       "2000.0     350\n",
       "1998.0     379\n",
       "2001.0     482\n",
       "2016.0     502\n",
       "2013.0     544\n",
       "2014.0     581\n",
       "2015.0     606\n",
       "2012.0     653\n",
       "2004.0     762\n",
       "2003.0     775\n",
       "2002.0     829\n",
       "2005.0     939\n",
       "2006.0    1006\n",
       "2011.0    1136\n",
       "2007.0    1197\n",
       "2010.0    1255\n",
       "2009.0    1426\n",
       "2008.0    1427\n",
       "Name: name, dtype: int64"
      ]
     },
     "execution_count": 14,
     "metadata": {},
     "output_type": "execute_result"
    }
   ],
   "source": [
    "data.groupby('year_of_release')['name'].count().sort_values(ascending=True)"
   ]
  },
  {
   "cell_type": "markdown",
   "metadata": {},
   "source": [
    "Пик выпуска игра приходится на 2007-2008 год. До 1993 года выпускалось < 60 игр ежегодно. Слишком мало данных для анализа."
   ]
  },
  {
   "cell_type": "markdown",
   "metadata": {},
   "source": [
    "###### Посмотрите, как менялись продажи по платформам. Выберите платформы с наибольшими суммарными продажами и постройте распределение по годам. За какой характерный срок появляются новые и исчезают старые платформы?"
   ]
  },
  {
   "cell_type": "code",
   "execution_count": 15,
   "metadata": {},
   "outputs": [
    {
     "data": {
      "text/plain": [
       "array(['Wii', 'NES', 'GB', 'DS', 'X360', 'PS3', 'PS2', 'SNES', 'GBA',\n",
       "       'PS4', '3DS', 'N64', 'PS', 'XB', 'PC', '2600', 'PSP', 'XOne',\n",
       "       'WiiU', 'GC', 'GEN', 'DC', 'PSV', 'SAT', 'SCD', 'WS', 'NG', 'TG16',\n",
       "       '3DO', 'GG', 'PCFX'], dtype=object)"
      ]
     },
     "execution_count": 15,
     "metadata": {},
     "output_type": "execute_result"
    }
   ],
   "source": [
    "data['platform'].unique()"
   ]
  },
  {
   "cell_type": "code",
   "execution_count": 16,
   "metadata": {},
   "outputs": [
    {
     "data": {
      "text/plain": [
       "['PS2', 'X360', 'PS3', 'Wii', 'DS']"
      ]
     },
     "execution_count": 16,
     "metadata": {},
     "output_type": "execute_result"
    }
   ],
   "source": [
    "data_platforms = data.groupby('platform')['sales'].sum().sort_values(ascending=False).head(5)\n",
    "list = []\n",
    "for i, j in data_platforms.items():\n",
    "    list.append(i)\n",
    "list"
   ]
  },
  {
   "cell_type": "code",
   "execution_count": 17,
   "metadata": {},
   "outputs": [
    {
     "data": {
      "image/png": "[encoded data removed]",
      "text/plain": [
       "<Figure size 2000x2000 with 1 Axes>"
      ]
     },
     "metadata": {},
     "output_type": "display_data"
    }
   ],
   "source": [
    "for x in list:\n",
    "    data_extra = data[data['platform'] == x]\n",
    "    data_extra = data_extra.rename(columns = {'sales': f'{x}'})\n",
    "    (\n",
    "    data_extra.groupby('year_of_release')[f'{x}']\n",
    "            .sum()\n",
    "            .plot(title = 'Количество продаж в разные годы',\n",
    "                  xlabel = 'Год',\n",
    "                  ylabel = 'Количество продаж',\n",
    "                  grid = True,\n",
    "                  figsize = (20, 20),\n",
    "                  legend = f'{x}',\n",
    "                  fontsize = 30)\n",
    "    );"
   ]
  },
  {
   "cell_type": "markdown",
   "metadata": {},
   "source": [
    "В среднем плафторма держится на рынке 10 лет."
   ]
  },
  {
   "cell_type": "markdown",
   "metadata": {},
   "source": [
    "###### Возьмите данные за соответствующий актуальный период. Актуальный период определите самостоятельно в результате исследования предыдущих вопросов. Основной фактор — эти данные помогут построить прогноз на 2017 год."
   ]
  },
  {
   "cell_type": "markdown",
   "metadata": {},
   "source": [
    "Необходимо захватить те платформы, которые сейчас находятся на этапе роста или зрелости, именно они и будут актуальны в 2017 году. Период следует взять 3-4 года."
   ]
  },
  {
   "cell_type": "code",
   "execution_count": 18,
   "metadata": {},
   "outputs": [],
   "source": [
    "good_data = data.query('year_of_release > 2012')\n"
   ]
  },
  {
   "cell_type": "markdown",
   "metadata": {},
   "source": [
    "###### Какие платформы лидируют по продажам, растут или падают? Выберите несколько потенциально прибыльных платформ."
   ]
  },
  {
   "cell_type": "code",
   "execution_count": 19,
   "metadata": {},
   "outputs": [
    {
     "data": {
      "image/png": "[encoded data removed]",
      "text/plain": [
       "<Figure size 2000x2000 with 1 Axes>"
      ]
     },
     "metadata": {},
     "output_type": "display_data"
    }
   ],
   "source": [
    "for x in good_data['platform'].unique():\n",
    "    extra_data = good_data[good_data['platform'] == x]\n",
    "    extra_data = extra_data.rename(columns = {'sales': f'{x}'})\n",
    "    (\n",
    "    extra_data\n",
    "              .groupby('year_of_release')[f'{x}']\n",
    "              .sum()\n",
    "              .plot( title = 'Количество продаж в разные годы',\n",
    "                     xlabel = 'Год',\n",
    "                     ylabel = 'Количество продаж',\n",
    "                     grid = True,\n",
    "                     figsize = (20, 20),\n",
    "                     legend = 1,\n",
    "                     fontsize = 30,\n",
    "                     xticks = [2013, 2014, 2015, 2016])\n",
    "    )"
   ]
  },
  {
   "cell_type": "markdown",
   "metadata": {},
   "source": [
    "Лидеры продаж - PS4, XOne, 3DS, однако, у первых двух прибыль с 2013 растёт. У 3DS с 2011 года прибыль падает."
   ]
  },
  {
   "cell_type": "markdown",
   "metadata": {},
   "source": [
    "###### Постройте график «ящик с усами» по глобальным продажам игр в разбивке по платформам."
   ]
  },
  {
   "cell_type": "markdown",
   "metadata": {},
   "source": [
    "Возьмем лидеров продаж: PS4, XOne, 3DS."
   ]
  },
  {
   "cell_type": "code",
   "execution_count": 20,
   "metadata": {},
   "outputs": [
    {
     "data": {
      "image/png": "[encoded data removed]",
      "text/plain": [
       "<Figure size 2000x500 with 1 Axes>"
      ]
     },
     "metadata": {},
     "output_type": "display_data"
    }
   ],
   "source": [
    "platforms = ['PS4', 'XOne','3DS']\n",
    "df_platforms = good_data[good_data['platform'].isin(platforms)]\n",
    "\n",
    "plt.figure(figsize=(20, 5))\n",
    "plt.xlim(-0.1, 2)\n",
    "plt.title('Ящик с усами для каждой популярнорй плаформы.', fontsize=20)\n",
    "sns.boxplot(x='sales', y='platform', data=df_platforms, orient='h')\n",
    "plt.ylabel('Продажи')\n",
    "plt.xlabel('Платформа')\n",
    "plt.grid(True);"
   ]
  },
  {
   "cell_type": "markdown",
   "metadata": {},
   "source": [
    "Есть множество выбросов. Медиана у лидеров находится дальше остальных. Разброс больше, так как значений продаж больше, средняя/медианная прибыль больше. Размах усов для ящиков ограничен минимуом и максимумом, и он шире чем у двух других консолей. Это значит, что в диапазон попадает большое количество значений(нормальных). Обьянятется тем, что платформы имеют большое число продаж. Выбросы и аномалии находятся за приделами усов."
   ]
  },
  {
   "cell_type": "markdown",
   "metadata": {},
   "source": [
    "###### Посмотрите, как влияют на продажи внутри одной популярной платформы отзывы пользователей и критиков. Постройте диаграмму рассеяния и посчитайте корреляцию между отзывами и продажами."
   ]
  },
  {
   "cell_type": "markdown",
   "metadata": {},
   "source": [
    "Возьмем самую популярную платформу на 2016 год - PS4."
   ]
  },
  {
   "cell_type": "code",
   "execution_count": 21,
   "metadata": {
    "scrolled": true
   },
   "outputs": [
    {
     "data": {
      "text/html": [
       "<div>\n",
       "<style scoped>\n",
       "    .dataframe tbody tr th:only-of-type {\n",
       "        vertical-align: middle;\n",
       "    }\n",
       "\n",
       "    .dataframe tbody tr th {\n",
       "        vertical-align: top;\n",
       "    }\n",
       "\n",
       "    .dataframe thead th {\n",
       "        text-align: right;\n",
       "    }\n",
       "</style>\n",
       "<table border=\"1\" class=\"dataframe\">\n",
       "  <thead>\n",
       "    <tr style=\"text-align: right;\">\n",
       "      <th></th>\n",
       "      <th>name</th>\n",
       "      <th>platform</th>\n",
       "      <th>year_of_release</th>\n",
       "      <th>genre</th>\n",
       "      <th>na_sales</th>\n",
       "      <th>eu_sales</th>\n",
       "      <th>jp_sales</th>\n",
       "      <th>other_sales</th>\n",
       "      <th>critic_score</th>\n",
       "      <th>user_score</th>\n",
       "      <th>rating</th>\n",
       "      <th>sales</th>\n",
       "    </tr>\n",
       "  </thead>\n",
       "  <tbody>\n",
       "    <tr>\n",
       "      <th>31</th>\n",
       "      <td>Call of Duty: Black Ops 3</td>\n",
       "      <td>PS4</td>\n",
       "      <td>2015.0</td>\n",
       "      <td>Shooter</td>\n",
       "      <td>6.03</td>\n",
       "      <td>5.86</td>\n",
       "      <td>0.36</td>\n",
       "      <td>2.38</td>\n",
       "      <td>NaN</td>\n",
       "      <td>NaN</td>\n",
       "      <td>unknown</td>\n",
       "      <td>14.63</td>\n",
       "    </tr>\n",
       "    <tr>\n",
       "      <th>42</th>\n",
       "      <td>Grand Theft Auto V</td>\n",
       "      <td>PS4</td>\n",
       "      <td>2014.0</td>\n",
       "      <td>Action</td>\n",
       "      <td>3.96</td>\n",
       "      <td>6.31</td>\n",
       "      <td>0.38</td>\n",
       "      <td>1.97</td>\n",
       "      <td>97.0</td>\n",
       "      <td>8.3</td>\n",
       "      <td>M</td>\n",
       "      <td>12.62</td>\n",
       "    </tr>\n",
       "    <tr>\n",
       "      <th>77</th>\n",
       "      <td>FIFA 16</td>\n",
       "      <td>PS4</td>\n",
       "      <td>2015.0</td>\n",
       "      <td>Sports</td>\n",
       "      <td>1.12</td>\n",
       "      <td>6.12</td>\n",
       "      <td>0.06</td>\n",
       "      <td>1.28</td>\n",
       "      <td>82.0</td>\n",
       "      <td>4.3</td>\n",
       "      <td>E</td>\n",
       "      <td>8.58</td>\n",
       "    </tr>\n",
       "    <tr>\n",
       "      <th>87</th>\n",
       "      <td>Star Wars Battlefront (2015)</td>\n",
       "      <td>PS4</td>\n",
       "      <td>2015.0</td>\n",
       "      <td>Shooter</td>\n",
       "      <td>2.99</td>\n",
       "      <td>3.49</td>\n",
       "      <td>0.22</td>\n",
       "      <td>1.28</td>\n",
       "      <td>NaN</td>\n",
       "      <td>NaN</td>\n",
       "      <td>unknown</td>\n",
       "      <td>7.98</td>\n",
       "    </tr>\n",
       "    <tr>\n",
       "      <th>92</th>\n",
       "      <td>Call of Duty: Advanced Warfare</td>\n",
       "      <td>PS4</td>\n",
       "      <td>2014.0</td>\n",
       "      <td>Shooter</td>\n",
       "      <td>2.81</td>\n",
       "      <td>3.48</td>\n",
       "      <td>0.14</td>\n",
       "      <td>1.23</td>\n",
       "      <td>83.0</td>\n",
       "      <td>5.7</td>\n",
       "      <td>M</td>\n",
       "      <td>7.66</td>\n",
       "    </tr>\n",
       "    <tr>\n",
       "      <th>...</th>\n",
       "      <td>...</td>\n",
       "      <td>...</td>\n",
       "      <td>...</td>\n",
       "      <td>...</td>\n",
       "      <td>...</td>\n",
       "      <td>...</td>\n",
       "      <td>...</td>\n",
       "      <td>...</td>\n",
       "      <td>...</td>\n",
       "      <td>...</td>\n",
       "      <td>...</td>\n",
       "      <td>...</td>\n",
       "    </tr>\n",
       "    <tr>\n",
       "      <th>16500</th>\n",
       "      <td>Root Letter</td>\n",
       "      <td>PS4</td>\n",
       "      <td>2016.0</td>\n",
       "      <td>Adventure</td>\n",
       "      <td>0.00</td>\n",
       "      <td>0.00</td>\n",
       "      <td>0.01</td>\n",
       "      <td>0.00</td>\n",
       "      <td>69.0</td>\n",
       "      <td>7.5</td>\n",
       "      <td>unknown</td>\n",
       "      <td>0.01</td>\n",
       "    </tr>\n",
       "    <tr>\n",
       "      <th>16503</th>\n",
       "      <td>Shin Hayarigami 2</td>\n",
       "      <td>PS4</td>\n",
       "      <td>2016.0</td>\n",
       "      <td>Adventure</td>\n",
       "      <td>0.00</td>\n",
       "      <td>0.00</td>\n",
       "      <td>0.01</td>\n",
       "      <td>0.00</td>\n",
       "      <td>NaN</td>\n",
       "      <td>NaN</td>\n",
       "      <td>unknown</td>\n",
       "      <td>0.01</td>\n",
       "    </tr>\n",
       "    <tr>\n",
       "      <th>16526</th>\n",
       "      <td>Dungeons 2</td>\n",
       "      <td>PS4</td>\n",
       "      <td>2016.0</td>\n",
       "      <td>Role-Playing</td>\n",
       "      <td>0.01</td>\n",
       "      <td>0.00</td>\n",
       "      <td>0.00</td>\n",
       "      <td>0.00</td>\n",
       "      <td>61.0</td>\n",
       "      <td>7.9</td>\n",
       "      <td>T</td>\n",
       "      <td>0.01</td>\n",
       "    </tr>\n",
       "    <tr>\n",
       "      <th>16530</th>\n",
       "      <td>Carmageddon: Max Damage</td>\n",
       "      <td>PS4</td>\n",
       "      <td>2016.0</td>\n",
       "      <td>Action</td>\n",
       "      <td>0.01</td>\n",
       "      <td>0.00</td>\n",
       "      <td>0.00</td>\n",
       "      <td>0.00</td>\n",
       "      <td>51.0</td>\n",
       "      <td>5.5</td>\n",
       "      <td>M</td>\n",
       "      <td>0.01</td>\n",
       "    </tr>\n",
       "    <tr>\n",
       "      <th>16585</th>\n",
       "      <td>Farming 2017 - The Simulation</td>\n",
       "      <td>PS4</td>\n",
       "      <td>2016.0</td>\n",
       "      <td>Simulation</td>\n",
       "      <td>0.00</td>\n",
       "      <td>0.01</td>\n",
       "      <td>0.00</td>\n",
       "      <td>0.00</td>\n",
       "      <td>NaN</td>\n",
       "      <td>NaN</td>\n",
       "      <td>unknown</td>\n",
       "      <td>0.01</td>\n",
       "    </tr>\n",
       "  </tbody>\n",
       "</table>\n",
       "<p>392 rows × 12 columns</p>\n",
       "</div>"
      ],
      "text/plain": [
       "                                 name platform  year_of_release         genre  \\\n",
       "31          Call of Duty: Black Ops 3      PS4           2015.0       Shooter   \n",
       "42                 Grand Theft Auto V      PS4           2014.0        Action   \n",
       "77                            FIFA 16      PS4           2015.0        Sports   \n",
       "87       Star Wars Battlefront (2015)      PS4           2015.0       Shooter   \n",
       "92     Call of Duty: Advanced Warfare      PS4           2014.0       Shooter   \n",
       "...                               ...      ...              ...           ...   \n",
       "16500                     Root Letter      PS4           2016.0     Adventure   \n",
       "16503               Shin Hayarigami 2      PS4           2016.0     Adventure   \n",
       "16526                      Dungeons 2      PS4           2016.0  Role-Playing   \n",
       "16530         Carmageddon: Max Damage      PS4           2016.0        Action   \n",
       "16585   Farming 2017 - The Simulation      PS4           2016.0    Simulation   \n",
       "\n",
       "       na_sales  eu_sales  jp_sales  other_sales  critic_score  user_score  \\\n",
       "31         6.03      5.86      0.36         2.38           NaN         NaN   \n",
       "42         3.96      6.31      0.38         1.97          97.0         8.3   \n",
       "77         1.12      6.12      0.06         1.28          82.0         4.3   \n",
       "87         2.99      3.49      0.22         1.28           NaN         NaN   \n",
       "92         2.81      3.48      0.14         1.23          83.0         5.7   \n",
       "...         ...       ...       ...          ...           ...         ...   \n",
       "16500      0.00      0.00      0.01         0.00          69.0         7.5   \n",
       "16503      0.00      0.00      0.01         0.00           NaN         NaN   \n",
       "16526      0.01      0.00      0.00         0.00          61.0         7.9   \n",
       "16530      0.01      0.00      0.00         0.00          51.0         5.5   \n",
       "16585      0.00      0.01      0.00         0.00           NaN         NaN   \n",
       "\n",
       "        rating  sales  \n",
       "31     unknown  14.63  \n",
       "42           M  12.62  \n",
       "77           E   8.58  \n",
       "87     unknown   7.98  \n",
       "92           M   7.66  \n",
       "...        ...    ...  \n",
       "16500  unknown   0.01  \n",
       "16503  unknown   0.01  \n",
       "16526        T   0.01  \n",
       "16530        M   0.01  \n",
       "16585  unknown   0.01  \n",
       "\n",
       "[392 rows x 12 columns]"
      ]
     },
     "execution_count": 21,
     "metadata": {},
     "output_type": "execute_result"
    }
   ],
   "source": [
    "data_ps4 = good_data[good_data['platform'] == 'PS4']\n",
    "data_ps4"
   ]
  },
  {
   "cell_type": "code",
   "execution_count": 22,
   "metadata": {},
   "outputs": [
    {
     "data": {
      "image/png": "[encoded data removed]",
      "text/plain": [
       "<Figure size 2000x2000 with 1 Axes>"
      ]
     },
     "metadata": {},
     "output_type": "display_data"
    }
   ],
   "source": [
    "data_ps4.plot.scatter(x='user_score',\n",
    "                     y='sales',\n",
    "                     figsize=[20, 20],\n",
    "                     title ='Оценки пользователей и продажи',\n",
    "                     xlabel='Оценки пользователей',\n",
    "                     ylabel='Продажи',\n",
    "                     fontsize = 30);"
   ]
  },
  {
   "cell_type": "code",
   "execution_count": 23,
   "metadata": {},
   "outputs": [
    {
     "data": {
      "image/png": "[encoded data removed]",
      "text/plain": [
       "<Figure size 2000x2000 with 1 Axes>"
      ]
     },
     "metadata": {},
     "output_type": "display_data"
    }
   ],
   "source": [
    "data_ps4.plot.scatter(x='critic_score', \n",
    "                     y='sales', \n",
    "                     figsize=[20, 20],\n",
    "                     title ='Оценки критиков и продажи',\n",
    "                     xlabel='Оценки критиков',\n",
    "                     ylabel='Продажи',\n",
    "                     fontsize = 30);"
   ]
  },
  {
   "cell_type": "code",
   "execution_count": 24,
   "metadata": {},
   "outputs": [
    {
     "name": "stderr",
     "output_type": "stream",
     "text": [
      "C:\\Users\\Владислав\\AppData\\Local\\Temp\\ipykernel_28972\\2423265828.py:1: FutureWarning: The default value of numeric_only in DataFrame.corr is deprecated. In a future version, it will default to False. Select only valid columns or specify the value of numeric_only to silence this warning.\n",
      "  data_ps4.corr()\n"
     ]
    },
    {
     "data": {
      "text/html": [
       "<div>\n",
       "<style scoped>\n",
       "    .dataframe tbody tr th:only-of-type {\n",
       "        vertical-align: middle;\n",
       "    }\n",
       "\n",
       "    .dataframe tbody tr th {\n",
       "        vertical-align: top;\n",
       "    }\n",
       "\n",
       "    .dataframe thead th {\n",
       "        text-align: right;\n",
       "    }\n",
       "</style>\n",
       "<table border=\"1\" class=\"dataframe\">\n",
       "  <thead>\n",
       "    <tr style=\"text-align: right;\">\n",
       "      <th></th>\n",
       "      <th>year_of_release</th>\n",
       "      <th>na_sales</th>\n",
       "      <th>eu_sales</th>\n",
       "      <th>jp_sales</th>\n",
       "      <th>other_sales</th>\n",
       "      <th>critic_score</th>\n",
       "      <th>user_score</th>\n",
       "      <th>sales</th>\n",
       "    </tr>\n",
       "  </thead>\n",
       "  <tbody>\n",
       "    <tr>\n",
       "      <th>year_of_release</th>\n",
       "      <td>1.000000</td>\n",
       "      <td>-0.248961</td>\n",
       "      <td>-0.208306</td>\n",
       "      <td>-0.060993</td>\n",
       "      <td>-0.234796</td>\n",
       "      <td>-0.021142</td>\n",
       "      <td>0.152447</td>\n",
       "      <td>-0.235032</td>\n",
       "    </tr>\n",
       "    <tr>\n",
       "      <th>na_sales</th>\n",
       "      <td>-0.248961</td>\n",
       "      <td>1.000000</td>\n",
       "      <td>0.785362</td>\n",
       "      <td>0.472981</td>\n",
       "      <td>0.944259</td>\n",
       "      <td>0.415008</td>\n",
       "      <td>-0.020933</td>\n",
       "      <td>0.928160</td>\n",
       "    </tr>\n",
       "    <tr>\n",
       "      <th>eu_sales</th>\n",
       "      <td>-0.208306</td>\n",
       "      <td>0.785362</td>\n",
       "      <td>1.000000</td>\n",
       "      <td>0.464563</td>\n",
       "      <td>0.944698</td>\n",
       "      <td>0.346720</td>\n",
       "      <td>-0.048925</td>\n",
       "      <td>0.958157</td>\n",
       "    </tr>\n",
       "    <tr>\n",
       "      <th>jp_sales</th>\n",
       "      <td>-0.060993</td>\n",
       "      <td>0.472981</td>\n",
       "      <td>0.464563</td>\n",
       "      <td>1.000000</td>\n",
       "      <td>0.496467</td>\n",
       "      <td>0.322358</td>\n",
       "      <td>0.171332</td>\n",
       "      <td>0.527129</td>\n",
       "    </tr>\n",
       "    <tr>\n",
       "      <th>other_sales</th>\n",
       "      <td>-0.234796</td>\n",
       "      <td>0.944259</td>\n",
       "      <td>0.944698</td>\n",
       "      <td>0.496467</td>\n",
       "      <td>1.000000</td>\n",
       "      <td>0.409191</td>\n",
       "      <td>-0.035639</td>\n",
       "      <td>0.998051</td>\n",
       "    </tr>\n",
       "    <tr>\n",
       "      <th>critic_score</th>\n",
       "      <td>-0.021142</td>\n",
       "      <td>0.415008</td>\n",
       "      <td>0.346720</td>\n",
       "      <td>0.322358</td>\n",
       "      <td>0.409191</td>\n",
       "      <td>1.000000</td>\n",
       "      <td>0.557654</td>\n",
       "      <td>0.406568</td>\n",
       "    </tr>\n",
       "    <tr>\n",
       "      <th>user_score</th>\n",
       "      <td>0.152447</td>\n",
       "      <td>-0.020933</td>\n",
       "      <td>-0.048925</td>\n",
       "      <td>0.171332</td>\n",
       "      <td>-0.035639</td>\n",
       "      <td>0.557654</td>\n",
       "      <td>1.000000</td>\n",
       "      <td>-0.031957</td>\n",
       "    </tr>\n",
       "    <tr>\n",
       "      <th>sales</th>\n",
       "      <td>-0.235032</td>\n",
       "      <td>0.928160</td>\n",
       "      <td>0.958157</td>\n",
       "      <td>0.527129</td>\n",
       "      <td>0.998051</td>\n",
       "      <td>0.406568</td>\n",
       "      <td>-0.031957</td>\n",
       "      <td>1.000000</td>\n",
       "    </tr>\n",
       "  </tbody>\n",
       "</table>\n",
       "</div>"
      ],
      "text/plain": [
       "                 year_of_release  na_sales  eu_sales  jp_sales  other_sales  \\\n",
       "year_of_release         1.000000 -0.248961 -0.208306 -0.060993    -0.234796   \n",
       "na_sales               -0.248961  1.000000  0.785362  0.472981     0.944259   \n",
       "eu_sales               -0.208306  0.785362  1.000000  0.464563     0.944698   \n",
       "jp_sales               -0.060993  0.472981  0.464563  1.000000     0.496467   \n",
       "other_sales            -0.234796  0.944259  0.944698  0.496467     1.000000   \n",
       "critic_score           -0.021142  0.415008  0.346720  0.322358     0.409191   \n",
       "user_score              0.152447 -0.020933 -0.048925  0.171332    -0.035639   \n",
       "sales                  -0.235032  0.928160  0.958157  0.527129     0.998051   \n",
       "\n",
       "                 critic_score  user_score     sales  \n",
       "year_of_release     -0.021142    0.152447 -0.235032  \n",
       "na_sales             0.415008   -0.020933  0.928160  \n",
       "eu_sales             0.346720   -0.048925  0.958157  \n",
       "jp_sales             0.322358    0.171332  0.527129  \n",
       "other_sales          0.409191   -0.035639  0.998051  \n",
       "critic_score         1.000000    0.557654  0.406568  \n",
       "user_score           0.557654    1.000000 -0.031957  \n",
       "sales                0.406568   -0.031957  1.000000  "
      ]
     },
     "execution_count": 24,
     "metadata": {},
     "output_type": "execute_result"
    }
   ],
   "source": [
    "data_ps4.corr()"
   ]
  },
  {
   "cell_type": "code",
   "execution_count": 25,
   "metadata": {},
   "outputs": [
    {
     "data": {
      "text/plain": [
       "-0.031957110204556424"
      ]
     },
     "execution_count": 25,
     "metadata": {},
     "output_type": "execute_result"
    }
   ],
   "source": [
    "data_ps4['user_score'].corr(data_ps4['sales'])"
   ]
  },
  {
   "cell_type": "code",
   "execution_count": 26,
   "metadata": {},
   "outputs": [
    {
     "data": {
      "text/plain": [
       "0.40656790206178095"
      ]
     },
     "execution_count": 26,
     "metadata": {},
     "output_type": "execute_result"
    }
   ],
   "source": [
    "data_ps4['critic_score'].corr(data_ps4['sales'])"
   ]
  },
  {
   "cell_type": "markdown",
   "metadata": {},
   "source": [
    "Можем сделать вывод, что оценки критиков прямопропорциональны продажам, чего нельзя сказать об оценках пользователей."
   ]
  },
  {
   "cell_type": "markdown",
   "metadata": {},
   "source": [
    "###### Соотнесите выводы с продажами игр на других платформах."
   ]
  },
  {
   "cell_type": "markdown",
   "metadata": {},
   "source": [
    "Возьмем 3DS и XOne.\n"
   ]
  },
  {
   "cell_type": "code",
   "execution_count": 27,
   "metadata": {},
   "outputs": [
    {
     "name": "stderr",
     "output_type": "stream",
     "text": [
      "C:\\Users\\Владислав\\AppData\\Local\\Temp\\ipykernel_28972\\483629950.py:2: FutureWarning: The default value of numeric_only in DataFrame.corr is deprecated. In a future version, it will default to False. Select only valid columns or specify the value of numeric_only to silence this warning.\n",
      "  data_3ds.corr()\n"
     ]
    },
    {
     "data": {
      "text/html": [
       "<div>\n",
       "<style scoped>\n",
       "    .dataframe tbody tr th:only-of-type {\n",
       "        vertical-align: middle;\n",
       "    }\n",
       "\n",
       "    .dataframe tbody tr th {\n",
       "        vertical-align: top;\n",
       "    }\n",
       "\n",
       "    .dataframe thead th {\n",
       "        text-align: right;\n",
       "    }\n",
       "</style>\n",
       "<table border=\"1\" class=\"dataframe\">\n",
       "  <thead>\n",
       "    <tr style=\"text-align: right;\">\n",
       "      <th></th>\n",
       "      <th>year_of_release</th>\n",
       "      <th>na_sales</th>\n",
       "      <th>eu_sales</th>\n",
       "      <th>jp_sales</th>\n",
       "      <th>other_sales</th>\n",
       "      <th>critic_score</th>\n",
       "      <th>user_score</th>\n",
       "      <th>sales</th>\n",
       "    </tr>\n",
       "  </thead>\n",
       "  <tbody>\n",
       "    <tr>\n",
       "      <th>year_of_release</th>\n",
       "      <td>1.000000</td>\n",
       "      <td>-0.075933</td>\n",
       "      <td>-0.115177</td>\n",
       "      <td>-0.063487</td>\n",
       "      <td>-0.083695</td>\n",
       "      <td>0.166254</td>\n",
       "      <td>0.240047</td>\n",
       "      <td>-0.090086</td>\n",
       "    </tr>\n",
       "    <tr>\n",
       "      <th>na_sales</th>\n",
       "      <td>-0.075933</td>\n",
       "      <td>1.000000</td>\n",
       "      <td>0.931893</td>\n",
       "      <td>0.641878</td>\n",
       "      <td>0.993708</td>\n",
       "      <td>0.369653</td>\n",
       "      <td>0.241036</td>\n",
       "      <td>0.938867</td>\n",
       "    </tr>\n",
       "    <tr>\n",
       "      <th>eu_sales</th>\n",
       "      <td>-0.115177</td>\n",
       "      <td>0.931893</td>\n",
       "      <td>1.000000</td>\n",
       "      <td>0.633982</td>\n",
       "      <td>0.958274</td>\n",
       "      <td>0.268851</td>\n",
       "      <td>0.114930</td>\n",
       "      <td>0.927821</td>\n",
       "    </tr>\n",
       "    <tr>\n",
       "      <th>jp_sales</th>\n",
       "      <td>-0.063487</td>\n",
       "      <td>0.641878</td>\n",
       "      <td>0.633982</td>\n",
       "      <td>1.000000</td>\n",
       "      <td>0.645306</td>\n",
       "      <td>0.301810</td>\n",
       "      <td>0.259370</td>\n",
       "      <td>0.854173</td>\n",
       "    </tr>\n",
       "    <tr>\n",
       "      <th>other_sales</th>\n",
       "      <td>-0.083695</td>\n",
       "      <td>0.993708</td>\n",
       "      <td>0.958274</td>\n",
       "      <td>0.645306</td>\n",
       "      <td>1.000000</td>\n",
       "      <td>0.354365</td>\n",
       "      <td>0.209418</td>\n",
       "      <td>0.945649</td>\n",
       "    </tr>\n",
       "    <tr>\n",
       "      <th>critic_score</th>\n",
       "      <td>0.166254</td>\n",
       "      <td>0.369653</td>\n",
       "      <td>0.268851</td>\n",
       "      <td>0.301810</td>\n",
       "      <td>0.354365</td>\n",
       "      <td>1.000000</td>\n",
       "      <td>0.769536</td>\n",
       "      <td>0.357057</td>\n",
       "    </tr>\n",
       "    <tr>\n",
       "      <th>user_score</th>\n",
       "      <td>0.240047</td>\n",
       "      <td>0.241036</td>\n",
       "      <td>0.114930</td>\n",
       "      <td>0.259370</td>\n",
       "      <td>0.209418</td>\n",
       "      <td>0.769536</td>\n",
       "      <td>1.000000</td>\n",
       "      <td>0.241504</td>\n",
       "    </tr>\n",
       "    <tr>\n",
       "      <th>sales</th>\n",
       "      <td>-0.090086</td>\n",
       "      <td>0.938867</td>\n",
       "      <td>0.927821</td>\n",
       "      <td>0.854173</td>\n",
       "      <td>0.945649</td>\n",
       "      <td>0.357057</td>\n",
       "      <td>0.241504</td>\n",
       "      <td>1.000000</td>\n",
       "    </tr>\n",
       "  </tbody>\n",
       "</table>\n",
       "</div>"
      ],
      "text/plain": [
       "                 year_of_release  na_sales  eu_sales  jp_sales  other_sales  \\\n",
       "year_of_release         1.000000 -0.075933 -0.115177 -0.063487    -0.083695   \n",
       "na_sales               -0.075933  1.000000  0.931893  0.641878     0.993708   \n",
       "eu_sales               -0.115177  0.931893  1.000000  0.633982     0.958274   \n",
       "jp_sales               -0.063487  0.641878  0.633982  1.000000     0.645306   \n",
       "other_sales            -0.083695  0.993708  0.958274  0.645306     1.000000   \n",
       "critic_score            0.166254  0.369653  0.268851  0.301810     0.354365   \n",
       "user_score              0.240047  0.241036  0.114930  0.259370     0.209418   \n",
       "sales                  -0.090086  0.938867  0.927821  0.854173     0.945649   \n",
       "\n",
       "                 critic_score  user_score     sales  \n",
       "year_of_release      0.166254    0.240047 -0.090086  \n",
       "na_sales             0.369653    0.241036  0.938867  \n",
       "eu_sales             0.268851    0.114930  0.927821  \n",
       "jp_sales             0.301810    0.259370  0.854173  \n",
       "other_sales          0.354365    0.209418  0.945649  \n",
       "critic_score         1.000000    0.769536  0.357057  \n",
       "user_score           0.769536    1.000000  0.241504  \n",
       "sales                0.357057    0.241504  1.000000  "
      ]
     },
     "execution_count": 27,
     "metadata": {},
     "output_type": "execute_result"
    }
   ],
   "source": [
    "data_3ds = good_data[good_data['platform'] == '3DS']\n",
    "data_3ds.corr()"
   ]
  },
  {
   "cell_type": "code",
   "execution_count": 28,
   "metadata": {},
   "outputs": [
    {
     "name": "stderr",
     "output_type": "stream",
     "text": [
      "C:\\Users\\Владислав\\AppData\\Local\\Temp\\ipykernel_28972\\263071039.py:2: FutureWarning: The default value of numeric_only in DataFrame.corr is deprecated. In a future version, it will default to False. Select only valid columns or specify the value of numeric_only to silence this warning.\n",
      "  data_xone.corr()\n"
     ]
    },
    {
     "data": {
      "text/html": [
       "<div>\n",
       "<style scoped>\n",
       "    .dataframe tbody tr th:only-of-type {\n",
       "        vertical-align: middle;\n",
       "    }\n",
       "\n",
       "    .dataframe tbody tr th {\n",
       "        vertical-align: top;\n",
       "    }\n",
       "\n",
       "    .dataframe thead th {\n",
       "        text-align: right;\n",
       "    }\n",
       "</style>\n",
       "<table border=\"1\" class=\"dataframe\">\n",
       "  <thead>\n",
       "    <tr style=\"text-align: right;\">\n",
       "      <th></th>\n",
       "      <th>year_of_release</th>\n",
       "      <th>na_sales</th>\n",
       "      <th>eu_sales</th>\n",
       "      <th>jp_sales</th>\n",
       "      <th>other_sales</th>\n",
       "      <th>critic_score</th>\n",
       "      <th>user_score</th>\n",
       "      <th>sales</th>\n",
       "    </tr>\n",
       "  </thead>\n",
       "  <tbody>\n",
       "    <tr>\n",
       "      <th>year_of_release</th>\n",
       "      <td>1.000000</td>\n",
       "      <td>-0.242667</td>\n",
       "      <td>-0.194925</td>\n",
       "      <td>-0.127050</td>\n",
       "      <td>-0.243414</td>\n",
       "      <td>0.063712</td>\n",
       "      <td>0.079481</td>\n",
       "      <td>-0.239183</td>\n",
       "    </tr>\n",
       "    <tr>\n",
       "      <th>na_sales</th>\n",
       "      <td>-0.242667</td>\n",
       "      <td>1.000000</td>\n",
       "      <td>0.765367</td>\n",
       "      <td>0.425725</td>\n",
       "      <td>0.988088</td>\n",
       "      <td>0.388636</td>\n",
       "      <td>-0.069318</td>\n",
       "      <td>0.970433</td>\n",
       "    </tr>\n",
       "    <tr>\n",
       "      <th>eu_sales</th>\n",
       "      <td>-0.194925</td>\n",
       "      <td>0.765367</td>\n",
       "      <td>1.000000</td>\n",
       "      <td>0.421071</td>\n",
       "      <td>0.852986</td>\n",
       "      <td>0.379162</td>\n",
       "      <td>-0.055911</td>\n",
       "      <td>0.898045</td>\n",
       "    </tr>\n",
       "    <tr>\n",
       "      <th>jp_sales</th>\n",
       "      <td>-0.127050</td>\n",
       "      <td>0.425725</td>\n",
       "      <td>0.421071</td>\n",
       "      <td>1.000000</td>\n",
       "      <td>0.441717</td>\n",
       "      <td>0.202954</td>\n",
       "      <td>0.069591</td>\n",
       "      <td>0.452701</td>\n",
       "    </tr>\n",
       "    <tr>\n",
       "      <th>other_sales</th>\n",
       "      <td>-0.243414</td>\n",
       "      <td>0.988088</td>\n",
       "      <td>0.852986</td>\n",
       "      <td>0.441717</td>\n",
       "      <td>1.000000</td>\n",
       "      <td>0.411825</td>\n",
       "      <td>-0.069645</td>\n",
       "      <td>0.995238</td>\n",
       "    </tr>\n",
       "    <tr>\n",
       "      <th>critic_score</th>\n",
       "      <td>0.063712</td>\n",
       "      <td>0.388636</td>\n",
       "      <td>0.379162</td>\n",
       "      <td>0.202954</td>\n",
       "      <td>0.411825</td>\n",
       "      <td>1.000000</td>\n",
       "      <td>0.472462</td>\n",
       "      <td>0.416998</td>\n",
       "    </tr>\n",
       "    <tr>\n",
       "      <th>user_score</th>\n",
       "      <td>0.079481</td>\n",
       "      <td>-0.069318</td>\n",
       "      <td>-0.055911</td>\n",
       "      <td>0.069591</td>\n",
       "      <td>-0.069645</td>\n",
       "      <td>0.472462</td>\n",
       "      <td>1.000000</td>\n",
       "      <td>-0.068925</td>\n",
       "    </tr>\n",
       "    <tr>\n",
       "      <th>sales</th>\n",
       "      <td>-0.239183</td>\n",
       "      <td>0.970433</td>\n",
       "      <td>0.898045</td>\n",
       "      <td>0.452701</td>\n",
       "      <td>0.995238</td>\n",
       "      <td>0.416998</td>\n",
       "      <td>-0.068925</td>\n",
       "      <td>1.000000</td>\n",
       "    </tr>\n",
       "  </tbody>\n",
       "</table>\n",
       "</div>"
      ],
      "text/plain": [
       "                 year_of_release  na_sales  eu_sales  jp_sales  other_sales  \\\n",
       "year_of_release         1.000000 -0.242667 -0.194925 -0.127050    -0.243414   \n",
       "na_sales               -0.242667  1.000000  0.765367  0.425725     0.988088   \n",
       "eu_sales               -0.194925  0.765367  1.000000  0.421071     0.852986   \n",
       "jp_sales               -0.127050  0.425725  0.421071  1.000000     0.441717   \n",
       "other_sales            -0.243414  0.988088  0.852986  0.441717     1.000000   \n",
       "critic_score            0.063712  0.388636  0.379162  0.202954     0.411825   \n",
       "user_score              0.079481 -0.069318 -0.055911  0.069591    -0.069645   \n",
       "sales                  -0.239183  0.970433  0.898045  0.452701     0.995238   \n",
       "\n",
       "                 critic_score  user_score     sales  \n",
       "year_of_release      0.063712    0.079481 -0.239183  \n",
       "na_sales             0.388636   -0.069318  0.970433  \n",
       "eu_sales             0.379162   -0.055911  0.898045  \n",
       "jp_sales             0.202954    0.069591  0.452701  \n",
       "other_sales          0.411825   -0.069645  0.995238  \n",
       "critic_score         1.000000    0.472462  0.416998  \n",
       "user_score           0.472462    1.000000 -0.068925  \n",
       "sales                0.416998   -0.068925  1.000000  "
      ]
     },
     "execution_count": 28,
     "metadata": {},
     "output_type": "execute_result"
    }
   ],
   "source": [
    "data_xone = good_data[good_data['platform'] == 'XOne']\n",
    "data_xone.corr()"
   ]
  },
  {
   "cell_type": "markdown",
   "metadata": {},
   "source": [
    "Для 3DS значения корреляций для оценок пользователей и критиков: 0.22 и 0.34. Для XOne: -0.07 и 0.41. "
   ]
  },
  {
   "cell_type": "markdown",
   "metadata": {},
   "source": [
    "Для этих плафторм корреляция оценок критиков подтверждается. Но для 3DS оенки пользователей имеют небольшую прямопропорциональную зависимость с продажам. Об XOne и PS4 такого сказать нельзя."
   ]
  },
  {
   "cell_type": "markdown",
   "metadata": {},
   "source": [
    "###### Посмотрите на общее распределение игр по жанрам. Что можно сказать о самых прибыльных жанрах? Выделяются ли жанры с высокими и низкими продажами?"
   ]
  },
  {
   "cell_type": "code",
   "execution_count": 29,
   "metadata": {},
   "outputs": [
    {
     "data": {
      "image/png": "[encoded data removed]",
      "text/plain": [
       "<Figure size 2000x500 with 1 Axes>"
      ]
     },
     "metadata": {},
     "output_type": "display_data"
    }
   ],
   "source": [
    "all_genre_and_sales = good_data.pivot_table(index='genre',values='sales',aggfunc='median').sort_values(by='sales', ascending=False).reset_index()\n",
    "\n",
    "plt.figure(figsize=(20, 5))\n",
    "plt.title('Жанры и медианное количество продаж игр.', fontsize=20)\n",
    "sns.barplot(x='genre', y='sales', data=all_genre_and_sales)\n",
    "plt.ylabel('Продажи')\n",
    "plt.xlabel('Жанр')\n",
    "plt.grid(True);"
   ]
  },
  {
   "cell_type": "markdown",
   "metadata": {},
   "source": [
    "Самый популярный жанр - \"shooter\", у него больше всего продаж, а меньше всего у \"adventure\", этот жанр менее популярен.\n",
    "\n",
    "Наибольшую популярность имеют жанры: \"shooter\", \"sports\", \"platform\", \"role-playing\". У них наибольшее количество продаж с отрывом от остальных."
   ]
  },
  {
   "cell_type": "markdown",
   "metadata": {},
   "source": [
    "##### Составьте портрет пользователя каждого региона"
   ]
  },
  {
   "cell_type": "markdown",
   "metadata": {},
   "source": [
    "###### Определите для пользователя каждого региона (NA, EU, JP):\n",
    "- Самые популярные платформы (топ-5). Опишите различия в долях продаж.\n",
    "- Самые популярные жанры (топ-5). Поясните разницу.\n",
    "- Влияет ли рейтинг ESRB на продажи в отдельном регионе?"
   ]
  },
  {
   "cell_type": "markdown",
   "metadata": {},
   "source": [
    "Посмотрим на платформы:"
   ]
  },
  {
   "cell_type": "code",
   "execution_count": 30,
   "metadata": {},
   "outputs": [
    {
     "data": {
      "text/plain": [
       "platform\n",
       "PS4     108.74\n",
       "XOne     93.12\n",
       "X360     81.66\n",
       "PS3      63.50\n",
       "3DS      38.20\n",
       "Name: na_sales, dtype: float64"
      ]
     },
     "execution_count": 30,
     "metadata": {},
     "output_type": "execute_result"
    }
   ],
   "source": [
    "(\n",
    "    good_data.groupby('platform')['na_sales']\n",
    "                                          .sum()\n",
    "                                          .sort_values(ascending = False)\n",
    "                                          .head(5)\n",
    ")"
   ]
  },
  {
   "cell_type": "code",
   "execution_count": 31,
   "metadata": {},
   "outputs": [
    {
     "data": {
      "text/plain": [
       "platform\n",
       "PS4     141.09\n",
       "PS3      67.81\n",
       "XOne     51.59\n",
       "X360     42.52\n",
       "3DS      30.96\n",
       "Name: eu_sales, dtype: float64"
      ]
     },
     "execution_count": 31,
     "metadata": {},
     "output_type": "execute_result"
    }
   ],
   "source": [
    "(\n",
    "    good_data.groupby('platform')['eu_sales']\n",
    "                                          .sum()\n",
    "                                          .sort_values(ascending = False)\n",
    "                                          .head(5)\n",
    ")"
   ]
  },
  {
   "cell_type": "code",
   "execution_count": 32,
   "metadata": {},
   "outputs": [
    {
     "data": {
      "text/plain": [
       "platform\n",
       "3DS     67.81\n",
       "PS3     23.35\n",
       "PSV     18.59\n",
       "PS4     15.96\n",
       "WiiU    10.88\n",
       "Name: jp_sales, dtype: float64"
      ]
     },
     "execution_count": 32,
     "metadata": {},
     "output_type": "execute_result"
    }
   ],
   "source": [
    "(\n",
    "    good_data.groupby('platform')['jp_sales']\n",
    "                                          .sum()\n",
    "                                          .sort_values(ascending = False)\n",
    "                                          .head(5)\n",
    ")"
   ]
  },
  {
   "cell_type": "markdown",
   "metadata": {},
   "source": [
    "Для Северной Америки самые популярные платформы: PS4, XOne, X360, 3DS, PS3. Для Европы: PS4, XOne, PS3, PC, 3DS. Для Японии: 3DS, PS4, PSV, PS3, WiiU."
   ]
  },
  {
   "cell_type": "markdown",
   "metadata": {},
   "source": [
    "Посмотрим на жанры:"
   ]
  },
  {
   "cell_type": "code",
   "execution_count": 33,
   "metadata": {},
   "outputs": [
    {
     "data": {
      "text/plain": [
       "genre\n",
       "Action          126.05\n",
       "Shooter         109.74\n",
       "Sports           65.27\n",
       "Role-Playing     46.40\n",
       "Misc             27.49\n",
       "Name: na_sales, dtype: float64"
      ]
     },
     "execution_count": 33,
     "metadata": {},
     "output_type": "execute_result"
    }
   ],
   "source": [
    "(\n",
    "    good_data.groupby('genre')['na_sales']\n",
    "                                          .sum()\n",
    "                                          .sort_values(ascending = False)\n",
    "                                          .head(5)\n",
    ")"
   ]
  },
  {
   "cell_type": "code",
   "execution_count": 34,
   "metadata": {},
   "outputs": [
    {
     "data": {
      "text/plain": [
       "genre\n",
       "Action          118.13\n",
       "Shooter          87.86\n",
       "Sports           60.52\n",
       "Role-Playing     36.97\n",
       "Racing           20.19\n",
       "Name: eu_sales, dtype: float64"
      ]
     },
     "execution_count": 34,
     "metadata": {},
     "output_type": "execute_result"
    }
   ],
   "source": [
    "(\n",
    "    good_data.groupby('genre')['eu_sales']\n",
    "                                          .sum()\n",
    "                                          .sort_values(ascending = False)\n",
    "                                          .head(5)\n",
    ")"
   ]
  },
  {
   "cell_type": "code",
   "execution_count": 35,
   "metadata": {},
   "outputs": [
    {
     "data": {
      "text/plain": [
       "genre\n",
       "Role-Playing    51.04\n",
       "Action          40.49\n",
       "Misc             9.20\n",
       "Fighting         7.65\n",
       "Shooter          6.61\n",
       "Name: jp_sales, dtype: float64"
      ]
     },
     "execution_count": 35,
     "metadata": {},
     "output_type": "execute_result"
    }
   ],
   "source": [
    "(\n",
    "    good_data.groupby('genre')['jp_sales']\n",
    "                                          .sum()\n",
    "                                          .sort_values(ascending = False)\n",
    "                                          .head(5)\n",
    ")"
   ]
  },
  {
   "cell_type": "markdown",
   "metadata": {},
   "source": [
    "Для Северной Америки самые популярные жанры: Shooter, Action, Sports, Role-Playing, Misc. Для Европы: Action, Shooter, Sports, Role-Playing, Racing. Для Японии: Role-Playing, Action, Fighting, Misc, Shooter."
   ]
  },
  {
   "cell_type": "markdown",
   "metadata": {},
   "source": [
    "###### Влияет ли рейтинг ESRB на продажи в отдельном регионе?"
   ]
  },
  {
   "cell_type": "code",
   "execution_count": 36,
   "metadata": {},
   "outputs": [
    {
     "data": {
      "text/html": [
       "<div>\n",
       "<style scoped>\n",
       "    .dataframe tbody tr th:only-of-type {\n",
       "        vertical-align: middle;\n",
       "    }\n",
       "\n",
       "    .dataframe tbody tr th {\n",
       "        vertical-align: top;\n",
       "    }\n",
       "\n",
       "    .dataframe thead th {\n",
       "        text-align: right;\n",
       "    }\n",
       "</style>\n",
       "<table border=\"1\" class=\"dataframe\">\n",
       "  <thead>\n",
       "    <tr style=\"text-align: right;\">\n",
       "      <th></th>\n",
       "      <th>eu_sales</th>\n",
       "      <th>jp_sales</th>\n",
       "      <th>na_sales</th>\n",
       "    </tr>\n",
       "    <tr>\n",
       "      <th>rating</th>\n",
       "      <th></th>\n",
       "      <th></th>\n",
       "      <th></th>\n",
       "    </tr>\n",
       "  </thead>\n",
       "  <tbody>\n",
       "    <tr>\n",
       "      <th>E</th>\n",
       "      <td>83.36</td>\n",
       "      <td>15.14</td>\n",
       "      <td>79.05</td>\n",
       "    </tr>\n",
       "    <tr>\n",
       "      <th>E10+</th>\n",
       "      <td>42.69</td>\n",
       "      <td>5.89</td>\n",
       "      <td>54.24</td>\n",
       "    </tr>\n",
       "    <tr>\n",
       "      <th>M</th>\n",
       "      <td>145.32</td>\n",
       "      <td>14.11</td>\n",
       "      <td>165.21</td>\n",
       "    </tr>\n",
       "    <tr>\n",
       "      <th>T</th>\n",
       "      <td>41.95</td>\n",
       "      <td>20.59</td>\n",
       "      <td>49.79</td>\n",
       "    </tr>\n",
       "    <tr>\n",
       "      <th>unknown</th>\n",
       "      <td>78.91</td>\n",
       "      <td>85.05</td>\n",
       "      <td>89.42</td>\n",
       "    </tr>\n",
       "  </tbody>\n",
       "</table>\n",
       "</div>"
      ],
      "text/plain": [
       "         eu_sales  jp_sales  na_sales\n",
       "rating                               \n",
       "E           83.36     15.14     79.05\n",
       "E10+        42.69      5.89     54.24\n",
       "M          145.32     14.11    165.21\n",
       "T           41.95     20.59     49.79\n",
       "unknown     78.91     85.05     89.42"
      ]
     },
     "execution_count": 36,
     "metadata": {},
     "output_type": "execute_result"
    }
   ],
   "source": [
    "ESRB = good_data.pivot_table(index = 'rating', values = ['eu_sales','jp_sales','na_sales'], aggfunc = 'sum')\n",
    "ESRB"
   ]
  },
  {
   "cell_type": "markdown",
   "metadata": {},
   "source": [
    "Да, рейтинг влияет на продажи в отдельных регионах. Так, например, игры с рейтингом EC продавались в основном только в Северной Америке"
   ]
  },
  {
   "cell_type": "markdown",
   "metadata": {},
   "source": [
    "##### Проверьте гипотезы\n",
    "- Средние пользовательские рейтинги платформ XOne и PC одинаковые;\n",
    "- Средние пользовательские рейтинги жанров Action (англ. «действие», экшен-игры) и Sports (англ. «спортивные соревнования») разные."
   ]
  },
  {
   "cell_type": "code",
   "execution_count": 37,
   "metadata": {},
   "outputs": [
    {
     "name": "stdout",
     "output_type": "stream",
     "text": [
      "Средний пользовательский рейтинг платформы XOne: 6.521428571428572\n",
      "Средний пользовательский рейтинг платформы PC 6.2696774193548395\n"
     ]
    }
   ],
   "source": [
    "XOne = good_data[(good_data['platform'] == 'XOne') &  (good_data['user_score'] > 0)]['user_score']\n",
    "PC = good_data[(good_data['platform'] == 'PC') &  (good_data['user_score'] > 0)]['user_score']\n",
    "print('Средний пользовательский рейтинг платформы XOne:', XOne.mean())\n",
    "print('Средний пользовательский рейтинг платформы PC', PC.mean())"
   ]
  },
  {
   "cell_type": "markdown",
   "metadata": {},
   "source": [
    "- H_0: Средние пользовательские рейтинги платформ Xbox One и PC одинаковые.\n",
    "- H_1: Средние пользовательские рейтинги платформ Xbox One и PC разные."
   ]
  },
  {
   "cell_type": "code",
   "execution_count": 38,
   "metadata": {},
   "outputs": [
    {
     "name": "stdout",
     "output_type": "stream",
     "text": [
      "Значение p-value =  0.14012658403611647\n",
      "Не получилось отвергнуть нулевую гипотезу\n"
     ]
    }
   ],
   "source": [
    "alpha = .05\n",
    "\n",
    "results = st.ttest_ind(XOne, PC)\n",
    "print(\"Значение p-value = \", results.pvalue)\n",
    "\n",
    "if (results.pvalue < alpha):\n",
    "    print(\"Отвергаем нулевую гипотезу\")\n",
    "else:\n",
    "    print(\"Не получилось отвергнуть нулевую гипотезу\")"
   ]
  },
  {
   "cell_type": "markdown",
   "metadata": {},
   "source": [
    "Гипотеза не подвердилась, средние пользовательские рейтинги платформ XOne и PC разные."
   ]
  },
  {
   "cell_type": "code",
   "execution_count": 39,
   "metadata": {},
   "outputs": [
    {
     "name": "stdout",
     "output_type": "stream",
     "text": [
      "Средний пользовательский рейтинг жанра Action: 6.837532133676092\n",
      "Средний пользовательский рейтинг жанра Sports 5.238124999999999\n"
     ]
    }
   ],
   "source": [
    "Action = good_data[(good_data['genre'] == 'Action') &  (good_data['user_score'] > 0)]['user_score']\n",
    "Sports = good_data[(good_data['genre'] == 'Sports') &  (good_data['user_score'] > 0)]['user_score']\n",
    "print('Средний пользовательский рейтинг жанра Action:', Action.mean())\n",
    "print('Средний пользовательский рейтинг жанра Sports', Sports.mean())"
   ]
  },
  {
   "cell_type": "markdown",
   "metadata": {},
   "source": [
    "- H_0: Средние пользовательские рейтинги жанров Action и Sports одинаковые.\n",
    "- H_1: Средние пользовательские рейтинги жанров Action и Sports разные."
   ]
  },
  {
   "cell_type": "code",
   "execution_count": 40,
   "metadata": {},
   "outputs": [
    {
     "name": "stdout",
     "output_type": "stream",
     "text": [
      "Значение p-value =  1.0517832389140023e-27\n",
      "Отвергаем нулевую гипотезу\n"
     ]
    }
   ],
   "source": [
    "alpha = .05\n",
    "\n",
    "results = st.ttest_ind(Action, Sports)\n",
    "print(\"Значение p-value = \", results.pvalue)\n",
    "\n",
    "if (results.pvalue < alpha):\n",
    "    print(\"Отвергаем нулевую гипотезу\")\n",
    "else:\n",
    "    print(\"Не получилось отвергнуть нулевую гипотезу\")"
   ]
  },
  {
   "cell_type": "markdown",
   "metadata": {},
   "source": [
    "Гипотеза подтвердилась, средние пользовательские рейтинги жанров Action и Sports одинаковые."
   ]
  },
  {
   "cell_type": "markdown",
   "metadata": {},
   "source": [
    "##### Общий вывод:"
   ]
  },
  {
   "cell_type": "markdown",
   "metadata": {},
   "source": [
    "Критерии, определяющие успешность игры:\n",
    "- Рейтинг критиков\n",
    "- Жанр\n",
    "- Платформа\n",
    "- Рейтинг ассоциации"
   ]
  },
  {
   "cell_type": "markdown",
   "metadata": {},
   "source": [
    "Для Европы:\n",
    "- Самые популярные платформы: PS4, XOne, PS3, PC, 3DS.\n",
    "- Самые популярные жанры: Action, Shooter, Sports, Role-Playing, Racing.\n",
    "- Категории ассоциации: E, M, unknown."
   ]
  },
  {
   "cell_type": "markdown",
   "metadata": {},
   "source": [
    "Для Северной Америки:\n",
    "- Самые популярные платформы: PS4, XOne, X360, 3DS, PS3.\n",
    "- Самые популярные жанры:  Shooter, Action, Sports, Role-Playing, Misc.\n",
    "- Категории ассоциации: M, unknown, E."
   ]
  },
  {
   "cell_type": "markdown",
   "metadata": {},
   "source": [
    "Для Японии:\n",
    "- Самые популярные платформы: 3DS, PS4, PSV, PS3, WiiU.\n",
    "- Самые популярные жанры: Role-Playing, Action, Fighting, Misc, Shooter.\n",
    "- Категории ассоциации: unknown."
   ]
  },
  {
   "cell_type": "markdown",
   "metadata": {},
   "source": [
    "*** Рейтинги, жанры, платформы указаны в порядке убывания"
   ]
  },
  {
   "cell_type": "code",
   "execution_count": null,
   "metadata": {},
   "outputs": [],
   "source": []
  }
 ],
 "metadata": {
  "ExecuteTimeLog": [
   {
    "duration": 1521,
    "start_time": "2023-08-28T07:55:36.537Z"
   },
   {
    "duration": 112,
    "start_time": "2023-08-28T07:56:02.806Z"
   },
   {
    "duration": 81,
    "start_time": "2023-08-28T07:56:06.675Z"
   },
   {
    "duration": 20,
    "start_time": "2023-08-28T07:57:04.537Z"
   },
   {
    "duration": 23,
    "start_time": "2023-08-28T08:00:03.539Z"
   },
   {
    "duration": 16,
    "start_time": "2023-08-28T08:00:42.080Z"
   },
   {
    "duration": 3,
    "start_time": "2023-08-28T08:51:51.081Z"
   },
   {
    "duration": 81,
    "start_time": "2023-08-28T08:51:51.088Z"
   },
   {
    "duration": 22,
    "start_time": "2023-08-28T08:51:51.171Z"
   },
   {
    "duration": 15,
    "start_time": "2023-08-28T08:51:51.194Z"
   },
   {
    "duration": 2356,
    "start_time": "2023-08-28T08:51:51.224Z"
   },
   {
    "duration": 5,
    "start_time": "2023-08-28T08:52:02.867Z"
   },
   {
    "duration": 15,
    "start_time": "2023-08-28T08:52:04.217Z"
   },
   {
    "duration": 19,
    "start_time": "2023-08-28T08:52:35.169Z"
   },
   {
    "duration": 290,
    "start_time": "2023-08-28T08:52:56.154Z"
   },
   {
    "duration": 129,
    "start_time": "2023-08-28T08:53:03.874Z"
   },
   {
    "duration": 73,
    "start_time": "2023-08-28T08:53:07.066Z"
   },
   {
    "duration": 158,
    "start_time": "2023-08-28T08:53:15.641Z"
   },
   {
    "duration": 15,
    "start_time": "2023-08-28T08:53:18.153Z"
   },
   {
    "duration": 12,
    "start_time": "2023-08-28T08:54:38.550Z"
   },
   {
    "duration": 7,
    "start_time": "2023-08-28T08:55:00.948Z"
   },
   {
    "duration": 16,
    "start_time": "2023-08-28T08:57:05.970Z"
   },
   {
    "duration": 30,
    "start_time": "2023-08-28T08:58:21.917Z"
   },
   {
    "duration": 11,
    "start_time": "2023-08-28T08:58:29.411Z"
   },
   {
    "duration": 6,
    "start_time": "2023-08-28T08:58:37.234Z"
   },
   {
    "duration": 17,
    "start_time": "2023-08-28T08:58:44.453Z"
   },
   {
    "duration": 17,
    "start_time": "2023-08-28T08:59:27.626Z"
   },
   {
    "duration": 7,
    "start_time": "2023-08-28T09:00:13.570Z"
   },
   {
    "duration": 5,
    "start_time": "2023-08-28T09:00:33.293Z"
   },
   {
    "duration": 27,
    "start_time": "2023-08-28T09:07:53.369Z"
   },
   {
    "duration": 9,
    "start_time": "2023-08-28T09:08:11.887Z"
   },
   {
    "duration": 15,
    "start_time": "2023-08-28T09:08:30.048Z"
   },
   {
    "duration": 136,
    "start_time": "2023-08-28T09:08:54.197Z"
   },
   {
    "duration": 26,
    "start_time": "2023-08-28T09:08:57.617Z"
   },
   {
    "duration": 14,
    "start_time": "2023-08-28T09:09:08.954Z"
   },
   {
    "duration": 92,
    "start_time": "2023-08-29T10:01:39.173Z"
   },
   {
    "duration": 46,
    "start_time": "2023-08-29T10:01:42.559Z"
   },
   {
    "duration": 1368,
    "start_time": "2023-08-29T10:01:49.268Z"
   },
   {
    "duration": 121,
    "start_time": "2023-08-29T10:01:50.638Z"
   },
   {
    "duration": 21,
    "start_time": "2023-08-29T10:01:50.761Z"
   },
   {
    "duration": 17,
    "start_time": "2023-08-29T10:01:50.784Z"
   },
   {
    "duration": 10,
    "start_time": "2023-08-29T10:01:50.802Z"
   },
   {
    "duration": 22,
    "start_time": "2023-08-29T10:01:50.813Z"
   },
   {
    "duration": 4,
    "start_time": "2023-08-29T10:02:05.035Z"
   },
   {
    "duration": 2121,
    "start_time": "2023-08-29T10:02:09.796Z"
   },
   {
    "duration": 818,
    "start_time": "2023-08-29T10:02:28.253Z"
   },
   {
    "duration": 1220,
    "start_time": "2023-08-29T10:02:45.316Z"
   },
   {
    "duration": 10,
    "start_time": "2023-08-29T10:03:29.580Z"
   },
   {
    "duration": 8,
    "start_time": "2023-08-29T10:03:33.700Z"
   },
   {
    "duration": 8,
    "start_time": "2023-08-29T10:06:01.032Z"
   },
   {
    "duration": 14,
    "start_time": "2023-08-29T10:06:11.673Z"
   },
   {
    "duration": 4,
    "start_time": "2023-08-29T10:06:22.189Z"
   },
   {
    "duration": 85,
    "start_time": "2023-08-29T10:06:22.195Z"
   },
   {
    "duration": 23,
    "start_time": "2023-08-29T10:06:22.282Z"
   },
   {
    "duration": 14,
    "start_time": "2023-08-29T10:06:22.306Z"
   },
   {
    "duration": 6,
    "start_time": "2023-08-29T10:06:22.322Z"
   },
   {
    "duration": 26,
    "start_time": "2023-08-29T10:06:22.330Z"
   },
   {
    "duration": 28,
    "start_time": "2023-08-29T10:06:30.419Z"
   },
   {
    "duration": 11,
    "start_time": "2023-08-29T10:06:39.438Z"
   },
   {
    "duration": 872,
    "start_time": "2023-08-29T10:06:58.361Z"
   },
   {
    "duration": 840,
    "start_time": "2023-08-29T10:08:51.364Z"
   },
   {
    "duration": 11,
    "start_time": "2023-08-29T10:08:59.495Z"
   },
   {
    "duration": 12,
    "start_time": "2023-08-29T10:09:02.746Z"
   },
   {
    "duration": 3,
    "start_time": "2023-08-29T10:09:08.312Z"
   },
   {
    "duration": 86,
    "start_time": "2023-08-29T10:09:08.317Z"
   },
   {
    "duration": 22,
    "start_time": "2023-08-29T10:09:08.405Z"
   },
   {
    "duration": 26,
    "start_time": "2023-08-29T10:09:08.428Z"
   },
   {
    "duration": 13,
    "start_time": "2023-08-29T10:09:08.456Z"
   },
   {
    "duration": 30,
    "start_time": "2023-08-29T10:09:08.471Z"
   },
   {
    "duration": 16,
    "start_time": "2023-08-29T10:09:45.792Z"
   },
   {
    "duration": 4,
    "start_time": "2023-08-29T10:09:57.898Z"
   },
   {
    "duration": 74,
    "start_time": "2023-08-29T10:09:57.904Z"
   },
   {
    "duration": 24,
    "start_time": "2023-08-29T10:09:57.980Z"
   },
   {
    "duration": 27,
    "start_time": "2023-08-29T10:09:58.006Z"
   },
   {
    "duration": 17,
    "start_time": "2023-08-29T10:09:58.035Z"
   },
   {
    "duration": 47,
    "start_time": "2023-08-29T10:09:58.054Z"
   },
   {
    "duration": 6,
    "start_time": "2023-08-29T10:10:22.143Z"
   },
   {
    "duration": 27,
    "start_time": "2023-08-29T10:11:34.099Z"
   },
   {
    "duration": 21,
    "start_time": "2023-08-29T10:11:43.514Z"
   },
   {
    "duration": 23,
    "start_time": "2023-08-29T10:12:32.451Z"
   },
   {
    "duration": 8,
    "start_time": "2023-08-29T10:25:19.704Z"
   },
   {
    "duration": 8,
    "start_time": "2023-08-29T10:25:26.481Z"
   },
   {
    "duration": 3,
    "start_time": "2023-08-29T10:25:42.065Z"
   },
   {
    "duration": 76,
    "start_time": "2023-08-29T10:25:42.070Z"
   },
   {
    "duration": 22,
    "start_time": "2023-08-29T10:25:42.148Z"
   },
   {
    "duration": 14,
    "start_time": "2023-08-29T10:25:42.171Z"
   },
   {
    "duration": 25,
    "start_time": "2023-08-29T10:25:42.187Z"
   },
   {
    "duration": 19,
    "start_time": "2023-08-29T10:25:42.213Z"
   },
   {
    "duration": 8,
    "start_time": "2023-08-29T10:25:42.234Z"
   },
   {
    "duration": 9,
    "start_time": "2023-08-29T10:26:32.152Z"
   },
   {
    "duration": 13,
    "start_time": "2023-08-29T10:26:43.524Z"
   },
   {
    "duration": 17,
    "start_time": "2023-08-29T10:27:48.483Z"
   },
   {
    "duration": 20,
    "start_time": "2023-08-29T10:27:56.301Z"
   },
   {
    "duration": 3,
    "start_time": "2023-08-29T10:28:03.850Z"
   },
   {
    "duration": 115,
    "start_time": "2023-08-29T10:28:03.855Z"
   },
   {
    "duration": 24,
    "start_time": "2023-08-29T10:28:03.971Z"
   },
   {
    "duration": 38,
    "start_time": "2023-08-29T10:28:03.996Z"
   },
   {
    "duration": 5,
    "start_time": "2023-08-29T10:28:04.038Z"
   },
   {
    "duration": 29,
    "start_time": "2023-08-29T10:28:04.046Z"
   },
   {
    "duration": 19,
    "start_time": "2023-08-29T10:28:21.883Z"
   },
   {
    "duration": 8,
    "start_time": "2023-08-29T10:29:55.979Z"
   },
   {
    "duration": 12,
    "start_time": "2023-08-29T10:32:27.801Z"
   },
   {
    "duration": 8,
    "start_time": "2023-08-29T10:32:34.380Z"
   },
   {
    "duration": 9,
    "start_time": "2023-08-29T10:32:48.052Z"
   },
   {
    "duration": 9,
    "start_time": "2023-08-29T10:33:34.819Z"
   },
   {
    "duration": 7,
    "start_time": "2023-08-29T10:33:41.522Z"
   },
   {
    "duration": 9,
    "start_time": "2023-08-29T10:34:44.443Z"
   },
   {
    "duration": 3,
    "start_time": "2023-08-29T10:34:48.495Z"
   },
   {
    "duration": 93,
    "start_time": "2023-08-29T10:34:48.500Z"
   },
   {
    "duration": 24,
    "start_time": "2023-08-29T10:34:48.596Z"
   },
   {
    "duration": 16,
    "start_time": "2023-08-29T10:34:48.622Z"
   },
   {
    "duration": 6,
    "start_time": "2023-08-29T10:34:48.641Z"
   },
   {
    "duration": 27,
    "start_time": "2023-08-29T10:34:48.649Z"
   },
   {
    "duration": 16,
    "start_time": "2023-08-29T10:34:48.678Z"
   },
   {
    "duration": 19,
    "start_time": "2023-08-29T10:34:48.695Z"
   },
   {
    "duration": 8,
    "start_time": "2023-08-29T10:35:07.137Z"
   },
   {
    "duration": 9,
    "start_time": "2023-08-29T10:36:12.932Z"
   },
   {
    "duration": 5,
    "start_time": "2023-08-29T10:36:23.347Z"
   },
   {
    "duration": 23,
    "start_time": "2023-08-29T10:37:00.991Z"
   },
   {
    "duration": 2,
    "start_time": "2023-08-29T10:39:06.905Z"
   },
   {
    "duration": 2,
    "start_time": "2023-08-29T10:39:09.685Z"
   },
   {
    "duration": 3,
    "start_time": "2023-08-29T10:39:40.218Z"
   },
   {
    "duration": 28,
    "start_time": "2023-08-29T10:47:26.805Z"
   },
   {
    "duration": 20,
    "start_time": "2023-08-29T10:47:39.720Z"
   },
   {
    "duration": 13,
    "start_time": "2023-08-29T10:47:52.995Z"
   },
   {
    "duration": 23,
    "start_time": "2023-08-29T10:47:59.869Z"
   },
   {
    "duration": 9,
    "start_time": "2023-08-29T10:48:41.248Z"
   },
   {
    "duration": 14,
    "start_time": "2023-08-29T10:48:49.225Z"
   },
   {
    "duration": 11,
    "start_time": "2023-08-29T10:48:57.028Z"
   },
   {
    "duration": 4,
    "start_time": "2023-08-29T10:49:00.908Z"
   },
   {
    "duration": 26,
    "start_time": "2023-08-29T10:49:05.875Z"
   },
   {
    "duration": 22,
    "start_time": "2023-08-29T10:49:30.264Z"
   },
   {
    "duration": 4103,
    "start_time": "2023-08-29T10:52:41.914Z"
   },
   {
    "duration": 24,
    "start_time": "2023-08-29T10:52:59.872Z"
   },
   {
    "duration": 9,
    "start_time": "2023-08-29T10:56:16.792Z"
   },
   {
    "duration": 170,
    "start_time": "2023-08-29T10:56:31.047Z"
   },
   {
    "duration": 133,
    "start_time": "2023-08-29T10:56:41.143Z"
   },
   {
    "duration": 9,
    "start_time": "2023-08-29T10:57:14.770Z"
   },
   {
    "duration": 11,
    "start_time": "2023-08-29T10:57:26.150Z"
   },
   {
    "duration": 176,
    "start_time": "2023-08-29T10:57:42.521Z"
   },
   {
    "duration": 188,
    "start_time": "2023-08-29T10:57:50.451Z"
   },
   {
    "duration": 140,
    "start_time": "2023-08-29T10:58:07.469Z"
   },
   {
    "duration": 155,
    "start_time": "2023-08-29T10:58:12.381Z"
   },
   {
    "duration": 146,
    "start_time": "2023-08-29T10:58:54.645Z"
   },
   {
    "duration": 211,
    "start_time": "2023-08-29T10:59:15.973Z"
   },
   {
    "duration": 60,
    "start_time": "2023-08-29T10:59:49.603Z"
   },
   {
    "duration": 150,
    "start_time": "2023-08-29T11:01:13.282Z"
   },
   {
    "duration": 94,
    "start_time": "2023-08-29T11:01:36.340Z"
   },
   {
    "duration": 142,
    "start_time": "2023-08-29T11:03:07.379Z"
   },
   {
    "duration": 154,
    "start_time": "2023-08-29T11:04:03.200Z"
   },
   {
    "duration": 9,
    "start_time": "2023-08-29T11:06:03.466Z"
   },
   {
    "duration": 9,
    "start_time": "2023-08-29T11:06:11.080Z"
   },
   {
    "duration": 5,
    "start_time": "2023-08-29T11:08:03.029Z"
   },
   {
    "duration": 3,
    "start_time": "2023-08-29T11:08:11.809Z"
   },
   {
    "duration": 5,
    "start_time": "2023-08-29T11:08:14.428Z"
   },
   {
    "duration": 11,
    "start_time": "2023-08-29T11:09:10.519Z"
   },
   {
    "duration": 8,
    "start_time": "2023-08-29T11:09:26.839Z"
   },
   {
    "duration": 12,
    "start_time": "2023-08-29T11:09:49.630Z"
   },
   {
    "duration": 9,
    "start_time": "2023-08-29T11:10:47.802Z"
   },
   {
    "duration": 8,
    "start_time": "2023-08-29T11:16:59.407Z"
   },
   {
    "duration": 8,
    "start_time": "2023-08-29T11:17:18.653Z"
   },
   {
    "duration": 17,
    "start_time": "2023-08-29T11:19:10.391Z"
   },
   {
    "duration": 20,
    "start_time": "2023-08-29T11:19:24.172Z"
   },
   {
    "duration": 18,
    "start_time": "2023-08-29T11:19:37.757Z"
   },
   {
    "duration": 21,
    "start_time": "2023-08-29T11:20:42.490Z"
   },
   {
    "duration": 17,
    "start_time": "2023-08-29T11:22:04.984Z"
   },
   {
    "duration": 10,
    "start_time": "2023-08-29T11:22:33.452Z"
   },
   {
    "duration": 132,
    "start_time": "2023-08-29T11:23:35.494Z"
   },
   {
    "duration": 75,
    "start_time": "2023-08-29T11:24:02.841Z"
   },
   {
    "duration": 137,
    "start_time": "2023-08-29T11:24:18.596Z"
   },
   {
    "duration": 20,
    "start_time": "2023-08-29T11:25:01.664Z"
   },
   {
    "duration": 144,
    "start_time": "2023-08-29T11:28:15.007Z"
   },
   {
    "duration": 207,
    "start_time": "2023-08-29T11:30:34.096Z"
   },
   {
    "duration": 158,
    "start_time": "2023-08-29T11:31:08.470Z"
   },
   {
    "duration": 149,
    "start_time": "2023-08-29T11:31:17.148Z"
   },
   {
    "duration": 151,
    "start_time": "2023-08-29T11:31:28.578Z"
   },
   {
    "duration": 156,
    "start_time": "2023-08-29T11:32:08.504Z"
   },
   {
    "duration": 199,
    "start_time": "2023-08-29T11:37:29.102Z"
   },
   {
    "duration": 321,
    "start_time": "2023-08-29T11:49:14.370Z"
   },
   {
    "duration": 210,
    "start_time": "2023-08-29T11:49:26.463Z"
   },
   {
    "duration": 189,
    "start_time": "2023-08-29T11:52:00.325Z"
   },
   {
    "duration": 217,
    "start_time": "2023-08-29T11:53:24.206Z"
   },
   {
    "duration": 127,
    "start_time": "2023-08-29T11:53:46.778Z"
   },
   {
    "duration": 197,
    "start_time": "2023-08-29T11:53:57.625Z"
   },
   {
    "duration": 220,
    "start_time": "2023-08-29T11:57:41.205Z"
   },
   {
    "duration": 10,
    "start_time": "2023-08-29T12:00:25.339Z"
   },
   {
    "duration": 215,
    "start_time": "2023-08-29T12:01:02.582Z"
   },
   {
    "duration": 8,
    "start_time": "2023-08-29T12:01:14.095Z"
   },
   {
    "duration": 208,
    "start_time": "2023-08-29T12:02:25.625Z"
   },
   {
    "duration": 157,
    "start_time": "2023-08-29T12:04:01.104Z"
   },
   {
    "duration": 196,
    "start_time": "2023-08-29T12:04:09.500Z"
   },
   {
    "duration": 225,
    "start_time": "2023-08-29T12:19:39.412Z"
   },
   {
    "duration": 5,
    "start_time": "2023-08-29T17:05:02.949Z"
   },
   {
    "duration": 1118,
    "start_time": "2023-08-29T17:05:28.734Z"
   },
   {
    "duration": 11,
    "start_time": "2023-08-29T17:05:57.424Z"
   },
   {
    "duration": 8,
    "start_time": "2023-08-29T17:06:01.611Z"
   },
   {
    "duration": 995,
    "start_time": "2023-08-29T17:06:17.484Z"
   },
   {
    "duration": 8,
    "start_time": "2023-08-29T17:06:28.926Z"
   },
   {
    "duration": 8,
    "start_time": "2023-08-29T17:06:57.349Z"
   },
   {
    "duration": 1669,
    "start_time": "2023-08-29T17:07:12.699Z"
   },
   {
    "duration": 8,
    "start_time": "2023-08-29T17:07:24.781Z"
   },
   {
    "duration": 62,
    "start_time": "2023-08-29T17:07:29.649Z"
   },
   {
    "duration": 12,
    "start_time": "2023-08-29T17:07:33.216Z"
   },
   {
    "duration": 8,
    "start_time": "2023-08-29T17:10:42.662Z"
   },
   {
    "duration": 7,
    "start_time": "2023-08-29T17:10:46.424Z"
   },
   {
    "duration": 7,
    "start_time": "2023-08-29T17:11:47.825Z"
   },
   {
    "duration": 12,
    "start_time": "2023-08-29T17:11:54.238Z"
   },
   {
    "duration": 11,
    "start_time": "2023-08-29T17:12:00.117Z"
   },
   {
    "duration": 7,
    "start_time": "2023-08-29T17:12:58.752Z"
   },
   {
    "duration": 11,
    "start_time": "2023-08-29T17:13:07.524Z"
   },
   {
    "duration": 7,
    "start_time": "2023-08-29T17:13:19.238Z"
   },
   {
    "duration": 7,
    "start_time": "2023-08-29T17:13:26.757Z"
   },
   {
    "duration": 7,
    "start_time": "2023-08-29T17:13:33.458Z"
   },
   {
    "duration": 5,
    "start_time": "2023-08-29T17:13:43.860Z"
   },
   {
    "duration": 8,
    "start_time": "2023-08-29T17:13:48.161Z"
   },
   {
    "duration": 3,
    "start_time": "2023-08-29T17:14:26.399Z"
   },
   {
    "duration": 196,
    "start_time": "2023-08-29T17:14:26.404Z"
   },
   {
    "duration": 38,
    "start_time": "2023-08-29T17:14:26.602Z"
   },
   {
    "duration": 21,
    "start_time": "2023-08-29T17:14:26.641Z"
   },
   {
    "duration": 6,
    "start_time": "2023-08-29T17:14:26.664Z"
   },
   {
    "duration": 39,
    "start_time": "2023-08-29T17:14:26.672Z"
   },
   {
    "duration": 12,
    "start_time": "2023-08-29T17:14:26.714Z"
   },
   {
    "duration": 11,
    "start_time": "2023-08-29T17:14:26.728Z"
   },
   {
    "duration": 5,
    "start_time": "2023-08-29T17:14:26.740Z"
   },
   {
    "duration": 23,
    "start_time": "2023-08-29T17:14:26.747Z"
   },
   {
    "duration": 197,
    "start_time": "2023-08-29T17:14:26.772Z"
   },
   {
    "duration": 8,
    "start_time": "2023-08-29T17:14:26.971Z"
   },
   {
    "duration": 31,
    "start_time": "2023-08-29T17:14:26.981Z"
   },
   {
    "duration": 9,
    "start_time": "2023-08-29T17:14:27.019Z"
   },
   {
    "duration": 207,
    "start_time": "2023-08-29T17:14:27.030Z"
   },
   {
    "duration": 149,
    "start_time": "2023-08-29T17:14:27.239Z"
   },
   {
    "duration": 438,
    "start_time": "2023-08-29T17:14:42.663Z"
   },
   {
    "duration": 533,
    "start_time": "2023-08-29T17:15:44.923Z"
   },
   {
    "duration": 14,
    "start_time": "2023-08-29T17:16:01.077Z"
   },
   {
    "duration": 357,
    "start_time": "2023-08-29T17:16:06.926Z"
   },
   {
    "duration": 336,
    "start_time": "2023-08-29T17:16:10.422Z"
   },
   {
    "duration": 7,
    "start_time": "2023-08-29T17:18:14.419Z"
   },
   {
    "duration": 16,
    "start_time": "2023-08-29T17:20:04.120Z"
   },
   {
    "duration": 550,
    "start_time": "2023-08-29T17:20:09.806Z"
   },
   {
    "duration": 395,
    "start_time": "2023-08-29T17:20:29.707Z"
   },
   {
    "duration": 446,
    "start_time": "2023-08-29T17:21:34.454Z"
   },
   {
    "duration": 529,
    "start_time": "2023-08-29T17:21:41.606Z"
   },
   {
    "duration": 390,
    "start_time": "2023-08-29T17:22:22.139Z"
   },
   {
    "duration": 491,
    "start_time": "2023-08-29T17:22:42.239Z"
   },
   {
    "duration": 26,
    "start_time": "2023-08-29T17:26:26.000Z"
   },
   {
    "duration": 18,
    "start_time": "2023-08-29T17:27:10.281Z"
   },
   {
    "duration": 31,
    "start_time": "2023-08-29T17:27:27.457Z"
   },
   {
    "duration": 1178,
    "start_time": "2023-08-29T17:32:52.777Z"
   },
   {
    "duration": 4,
    "start_time": "2023-08-29T17:33:00.375Z"
   },
   {
    "duration": 3,
    "start_time": "2023-08-29T17:43:54.791Z"
   },
   {
    "duration": 3,
    "start_time": "2023-08-29T17:44:08.094Z"
   },
   {
    "duration": 4,
    "start_time": "2023-08-29T17:44:17.831Z"
   },
   {
    "duration": 6,
    "start_time": "2023-08-29T17:44:41.439Z"
   },
   {
    "duration": 11,
    "start_time": "2023-08-29T17:44:51.243Z"
   },
   {
    "duration": 34,
    "start_time": "2023-08-29T17:44:56.900Z"
   },
   {
    "duration": 9,
    "start_time": "2023-08-29T17:45:00.129Z"
   },
   {
    "duration": 170,
    "start_time": "2023-08-29T17:45:01.101Z"
   },
   {
    "duration": 18,
    "start_time": "2023-08-29T17:48:15.834Z"
   },
   {
    "duration": 68,
    "start_time": "2023-08-29T17:50:24.584Z"
   },
   {
    "duration": 277,
    "start_time": "2023-08-29T17:50:45.681Z"
   },
   {
    "duration": 652,
    "start_time": "2023-08-29T17:51:58.082Z"
   },
   {
    "duration": 6,
    "start_time": "2023-08-29T17:52:16.925Z"
   },
   {
    "duration": 746,
    "start_time": "2023-08-29T17:52:17.598Z"
   },
   {
    "duration": 3,
    "start_time": "2023-08-29T17:52:51.287Z"
   },
   {
    "duration": 91,
    "start_time": "2023-08-29T17:52:51.291Z"
   },
   {
    "duration": 23,
    "start_time": "2023-08-29T17:52:51.384Z"
   },
   {
    "duration": 24,
    "start_time": "2023-08-29T17:52:51.415Z"
   },
   {
    "duration": 4,
    "start_time": "2023-08-29T17:52:51.441Z"
   },
   {
    "duration": 32,
    "start_time": "2023-08-29T17:52:51.447Z"
   },
   {
    "duration": 7,
    "start_time": "2023-08-29T17:52:51.480Z"
   },
   {
    "duration": 142,
    "start_time": "2023-08-29T17:52:51.489Z"
   },
   {
    "duration": 6,
    "start_time": "2023-08-29T17:52:51.637Z"
   },
   {
    "duration": 55,
    "start_time": "2023-08-29T17:52:51.645Z"
   },
   {
    "duration": 170,
    "start_time": "2023-08-29T17:52:51.703Z"
   },
   {
    "duration": 10,
    "start_time": "2023-08-29T17:52:51.875Z"
   },
   {
    "duration": 23,
    "start_time": "2023-08-29T17:52:51.887Z"
   },
   {
    "duration": 20,
    "start_time": "2023-08-29T17:52:51.918Z"
   },
   {
    "duration": 403,
    "start_time": "2023-08-29T17:52:51.940Z"
   },
   {
    "duration": 9,
    "start_time": "2023-08-29T17:52:52.345Z"
   },
   {
    "duration": 832,
    "start_time": "2023-08-29T17:52:52.356Z"
   },
   {
    "duration": 6,
    "start_time": "2023-08-29T17:54:11.036Z"
   },
   {
    "duration": 632,
    "start_time": "2023-08-29T17:54:11.644Z"
   },
   {
    "duration": 7,
    "start_time": "2023-08-29T17:54:21.631Z"
   },
   {
    "duration": 67,
    "start_time": "2023-08-29T17:54:21.640Z"
   },
   {
    "duration": 34,
    "start_time": "2023-08-29T17:54:21.714Z"
   },
   {
    "duration": 25,
    "start_time": "2023-08-29T17:54:21.750Z"
   },
   {
    "duration": 11,
    "start_time": "2023-08-29T17:54:21.777Z"
   },
   {
    "duration": 29,
    "start_time": "2023-08-29T17:54:21.790Z"
   },
   {
    "duration": 18,
    "start_time": "2023-08-29T17:54:21.821Z"
   },
   {
    "duration": 11,
    "start_time": "2023-08-29T17:54:21.841Z"
   },
   {
    "duration": 11,
    "start_time": "2023-08-29T17:54:21.854Z"
   },
   {
    "duration": 38,
    "start_time": "2023-08-29T17:54:21.867Z"
   },
   {
    "duration": 165,
    "start_time": "2023-08-29T17:54:21.911Z"
   },
   {
    "duration": 9,
    "start_time": "2023-08-29T17:54:22.077Z"
   },
   {
    "duration": 26,
    "start_time": "2023-08-29T17:54:22.087Z"
   },
   {
    "duration": 10,
    "start_time": "2023-08-29T17:54:22.121Z"
   },
   {
    "duration": 541,
    "start_time": "2023-08-29T17:54:22.136Z"
   },
   {
    "duration": 8,
    "start_time": "2023-08-29T17:54:22.679Z"
   },
   {
    "duration": 670,
    "start_time": "2023-08-29T17:54:22.689Z"
   },
   {
    "duration": 628,
    "start_time": "2023-08-29T17:55:35.601Z"
   },
   {
    "duration": 145,
    "start_time": "2023-08-29T17:56:10.993Z"
   },
   {
    "duration": 79,
    "start_time": "2023-08-29T17:56:19.482Z"
   },
   {
    "duration": 1031,
    "start_time": "2023-08-29T17:56:33.517Z"
   },
   {
    "duration": 77,
    "start_time": "2023-08-29T17:57:56.479Z"
   },
   {
    "duration": 1093,
    "start_time": "2023-08-29T17:58:14.239Z"
   },
   {
    "duration": 638,
    "start_time": "2023-08-29T17:58:20.428Z"
   },
   {
    "duration": 91,
    "start_time": "2023-08-29T17:58:28.712Z"
   },
   {
    "duration": 653,
    "start_time": "2023-08-29T17:59:31.276Z"
   },
   {
    "duration": 1085,
    "start_time": "2023-08-29T17:59:47.735Z"
   },
   {
    "duration": 18,
    "start_time": "2023-08-29T18:01:03.024Z"
   },
   {
    "duration": 13,
    "start_time": "2023-08-29T18:03:08.644Z"
   },
   {
    "duration": 1260,
    "start_time": "2023-08-29T18:04:00.345Z"
   },
   {
    "duration": 1158,
    "start_time": "2023-08-29T18:04:36.221Z"
   },
   {
    "duration": 766,
    "start_time": "2023-08-29T18:04:46.341Z"
   },
   {
    "duration": 29,
    "start_time": "2023-08-29T18:05:02.468Z"
   },
   {
    "duration": 946,
    "start_time": "2023-08-29T18:05:07.227Z"
   },
   {
    "duration": 29,
    "start_time": "2023-08-29T18:07:20.630Z"
   },
   {
    "duration": 47,
    "start_time": "2023-08-29T18:08:05.301Z"
   },
   {
    "duration": 900,
    "start_time": "2023-08-29T18:08:15.448Z"
   },
   {
    "duration": 17,
    "start_time": "2023-08-29T18:08:23.830Z"
   },
   {
    "duration": 652,
    "start_time": "2023-08-29T18:08:43.085Z"
   },
   {
    "duration": 763,
    "start_time": "2023-08-29T18:13:11.678Z"
   },
   {
    "duration": 854,
    "start_time": "2023-08-29T18:13:17.709Z"
   },
   {
    "duration": 750,
    "start_time": "2023-08-29T18:13:25.007Z"
   },
   {
    "duration": 15,
    "start_time": "2023-08-29T18:18:46.333Z"
   },
   {
    "duration": 666,
    "start_time": "2023-08-29T18:18:57.690Z"
   },
   {
    "duration": 696,
    "start_time": "2023-08-29T18:18:58.358Z"
   },
   {
    "duration": 520,
    "start_time": "2023-08-29T18:19:16.959Z"
   },
   {
    "duration": 28,
    "start_time": "2023-08-29T18:20:47.007Z"
   },
   {
    "duration": 3,
    "start_time": "2023-08-29T18:21:03.574Z"
   },
   {
    "duration": 85,
    "start_time": "2023-08-29T18:21:03.579Z"
   },
   {
    "duration": 22,
    "start_time": "2023-08-29T18:21:03.666Z"
   },
   {
    "duration": 38,
    "start_time": "2023-08-29T18:21:03.691Z"
   },
   {
    "duration": 5,
    "start_time": "2023-08-29T18:21:03.731Z"
   },
   {
    "duration": 22,
    "start_time": "2023-08-29T18:21:03.738Z"
   },
   {
    "duration": 7,
    "start_time": "2023-08-29T18:21:03.762Z"
   },
   {
    "duration": 55,
    "start_time": "2023-08-29T18:21:03.771Z"
   },
   {
    "duration": 6,
    "start_time": "2023-08-29T18:21:03.832Z"
   },
   {
    "duration": 31,
    "start_time": "2023-08-29T18:21:03.839Z"
   },
   {
    "duration": 180,
    "start_time": "2023-08-29T18:21:03.872Z"
   },
   {
    "duration": 9,
    "start_time": "2023-08-29T18:21:04.054Z"
   },
   {
    "duration": 7,
    "start_time": "2023-08-29T18:21:04.064Z"
   },
   {
    "duration": 9,
    "start_time": "2023-08-29T18:21:04.073Z"
   },
   {
    "duration": 27,
    "start_time": "2023-08-29T18:21:04.110Z"
   },
   {
    "duration": 0,
    "start_time": "2023-08-29T18:21:04.139Z"
   },
   {
    "duration": 0,
    "start_time": "2023-08-29T18:21:04.141Z"
   },
   {
    "duration": 419,
    "start_time": "2023-08-29T18:21:20.264Z"
   },
   {
    "duration": 8,
    "start_time": "2023-08-29T18:21:28.037Z"
   },
   {
    "duration": 717,
    "start_time": "2023-08-29T18:21:28.345Z"
   },
   {
    "duration": 51,
    "start_time": "2023-08-30T17:07:20.393Z"
   },
   {
    "duration": 1493,
    "start_time": "2023-08-30T17:07:35.412Z"
   },
   {
    "duration": 110,
    "start_time": "2023-08-30T17:07:36.907Z"
   },
   {
    "duration": 20,
    "start_time": "2023-08-30T17:07:37.019Z"
   },
   {
    "duration": 18,
    "start_time": "2023-08-30T17:07:37.041Z"
   },
   {
    "duration": 5,
    "start_time": "2023-08-30T17:07:37.061Z"
   },
   {
    "duration": 31,
    "start_time": "2023-08-30T17:07:37.068Z"
   },
   {
    "duration": 8,
    "start_time": "2023-08-30T17:07:37.101Z"
   },
   {
    "duration": 10,
    "start_time": "2023-08-30T17:07:37.123Z"
   },
   {
    "duration": 8,
    "start_time": "2023-08-30T17:07:37.135Z"
   },
   {
    "duration": 22,
    "start_time": "2023-08-30T17:07:37.146Z"
   },
   {
    "duration": 176,
    "start_time": "2023-08-30T17:07:37.170Z"
   },
   {
    "duration": 8,
    "start_time": "2023-08-30T17:07:37.347Z"
   },
   {
    "duration": 9,
    "start_time": "2023-08-30T17:07:37.356Z"
   },
   {
    "duration": 6,
    "start_time": "2023-08-30T17:07:37.366Z"
   },
   {
    "duration": 408,
    "start_time": "2023-08-30T17:07:37.374Z"
   },
   {
    "duration": 6,
    "start_time": "2023-08-30T17:07:37.783Z"
   },
   {
    "duration": 575,
    "start_time": "2023-08-30T17:07:37.791Z"
   },
   {
    "duration": 4,
    "start_time": "2023-08-30T17:07:38.368Z"
   },
   {
    "duration": 1108,
    "start_time": "2023-08-30T17:10:45.495Z"
   },
   {
    "duration": 106,
    "start_time": "2023-08-30T17:10:51.078Z"
   },
   {
    "duration": 8,
    "start_time": "2023-08-30T17:11:20.781Z"
   },
   {
    "duration": 12,
    "start_time": "2023-08-30T17:11:29.775Z"
   },
   {
    "duration": 118,
    "start_time": "2023-08-30T17:11:30.116Z"
   },
   {
    "duration": 16,
    "start_time": "2023-08-30T17:11:35.221Z"
   },
   {
    "duration": 225,
    "start_time": "2023-08-30T17:11:35.714Z"
   },
   {
    "duration": 13,
    "start_time": "2023-08-30T17:12:37.063Z"
   },
   {
    "duration": 10,
    "start_time": "2023-08-30T17:12:46.244Z"
   },
   {
    "duration": 9,
    "start_time": "2023-08-30T17:12:53.262Z"
   },
   {
    "duration": 14,
    "start_time": "2023-08-30T17:15:44.922Z"
   },
   {
    "duration": 13,
    "start_time": "2023-08-30T17:15:53.162Z"
   },
   {
    "duration": 3,
    "start_time": "2023-08-30T17:15:56.214Z"
   },
   {
    "duration": 81,
    "start_time": "2023-08-30T17:15:56.219Z"
   },
   {
    "duration": 21,
    "start_time": "2023-08-30T17:15:56.302Z"
   },
   {
    "duration": 38,
    "start_time": "2023-08-30T17:15:56.325Z"
   },
   {
    "duration": 22,
    "start_time": "2023-08-30T17:15:56.365Z"
   },
   {
    "duration": 32,
    "start_time": "2023-08-30T17:15:56.389Z"
   },
   {
    "duration": 23,
    "start_time": "2023-08-30T17:15:56.422Z"
   },
   {
    "duration": 36,
    "start_time": "2023-08-30T17:15:56.447Z"
   },
   {
    "duration": 6,
    "start_time": "2023-08-30T17:15:56.484Z"
   },
   {
    "duration": 22,
    "start_time": "2023-08-30T17:15:56.492Z"
   },
   {
    "duration": 235,
    "start_time": "2023-08-30T17:15:56.516Z"
   },
   {
    "duration": 9,
    "start_time": "2023-08-30T17:15:56.753Z"
   },
   {
    "duration": 23,
    "start_time": "2023-08-30T17:15:56.763Z"
   },
   {
    "duration": 25,
    "start_time": "2023-08-30T17:15:56.788Z"
   },
   {
    "duration": 400,
    "start_time": "2023-08-30T17:15:56.815Z"
   },
   {
    "duration": 6,
    "start_time": "2023-08-30T17:15:57.224Z"
   },
   {
    "duration": 599,
    "start_time": "2023-08-30T17:15:57.232Z"
   },
   {
    "duration": 20,
    "start_time": "2023-08-30T17:15:57.833Z"
   },
   {
    "duration": 212,
    "start_time": "2023-08-30T17:15:57.854Z"
   },
   {
    "duration": 119,
    "start_time": "2023-08-30T17:16:58.454Z"
   },
   {
    "duration": 4,
    "start_time": "2023-08-30T17:17:12.864Z"
   },
   {
    "duration": 94,
    "start_time": "2023-08-30T17:17:12.869Z"
   },
   {
    "duration": 22,
    "start_time": "2023-08-30T17:17:12.966Z"
   },
   {
    "duration": 41,
    "start_time": "2023-08-30T17:17:12.989Z"
   },
   {
    "duration": 62,
    "start_time": "2023-08-30T17:17:13.032Z"
   },
   {
    "duration": 154,
    "start_time": "2023-08-30T17:17:13.096Z"
   },
   {
    "duration": 58,
    "start_time": "2023-08-30T17:17:13.252Z"
   },
   {
    "duration": 34,
    "start_time": "2023-08-30T17:17:13.311Z"
   },
   {
    "duration": 23,
    "start_time": "2023-08-30T17:17:13.347Z"
   },
   {
    "duration": 48,
    "start_time": "2023-08-30T17:17:13.372Z"
   },
   {
    "duration": 226,
    "start_time": "2023-08-30T17:17:13.423Z"
   },
   {
    "duration": 7,
    "start_time": "2023-08-30T17:17:13.651Z"
   },
   {
    "duration": 56,
    "start_time": "2023-08-30T17:17:13.660Z"
   },
   {
    "duration": 112,
    "start_time": "2023-08-30T17:17:13.718Z"
   },
   {
    "duration": 459,
    "start_time": "2023-08-30T17:17:13.832Z"
   },
   {
    "duration": 8,
    "start_time": "2023-08-30T17:17:14.293Z"
   },
   {
    "duration": 729,
    "start_time": "2023-08-30T17:17:14.304Z"
   },
   {
    "duration": 15,
    "start_time": "2023-08-30T17:17:15.034Z"
   },
   {
    "duration": 216,
    "start_time": "2023-08-30T17:17:15.051Z"
   },
   {
    "duration": 145,
    "start_time": "2023-08-30T17:17:55.905Z"
   },
   {
    "duration": 4,
    "start_time": "2023-08-30T17:18:05.951Z"
   },
   {
    "duration": 186,
    "start_time": "2023-08-30T17:18:05.957Z"
   },
   {
    "duration": 62,
    "start_time": "2023-08-30T17:18:06.145Z"
   },
   {
    "duration": 25,
    "start_time": "2023-08-30T17:18:06.209Z"
   },
   {
    "duration": 4,
    "start_time": "2023-08-30T17:18:06.237Z"
   },
   {
    "duration": 67,
    "start_time": "2023-08-30T17:18:06.243Z"
   },
   {
    "duration": 98,
    "start_time": "2023-08-30T17:18:06.312Z"
   },
   {
    "duration": 31,
    "start_time": "2023-08-30T17:18:06.412Z"
   },
   {
    "duration": 14,
    "start_time": "2023-08-30T17:18:06.445Z"
   },
   {
    "duration": 29,
    "start_time": "2023-08-30T17:18:06.461Z"
   },
   {
    "duration": 157,
    "start_time": "2023-08-30T17:18:06.492Z"
   },
   {
    "duration": 10,
    "start_time": "2023-08-30T17:18:06.651Z"
   },
   {
    "duration": 15,
    "start_time": "2023-08-30T17:18:06.663Z"
   },
   {
    "duration": 54,
    "start_time": "2023-08-30T17:18:06.681Z"
   },
   {
    "duration": 408,
    "start_time": "2023-08-30T17:18:06.737Z"
   },
   {
    "duration": 7,
    "start_time": "2023-08-30T17:18:07.147Z"
   },
   {
    "duration": 661,
    "start_time": "2023-08-30T17:18:07.156Z"
   },
   {
    "duration": 19,
    "start_time": "2023-08-30T17:18:07.819Z"
   },
   {
    "duration": 148,
    "start_time": "2023-08-30T17:18:07.840Z"
   },
   {
    "duration": 114,
    "start_time": "2023-08-30T17:18:17.319Z"
   },
   {
    "duration": 29,
    "start_time": "2023-08-30T17:20:31.035Z"
   },
   {
    "duration": 806,
    "start_time": "2023-08-30T17:20:33.528Z"
   },
   {
    "duration": 794,
    "start_time": "2023-08-30T17:20:56.695Z"
   },
   {
    "duration": 858,
    "start_time": "2023-08-30T17:21:35.294Z"
   },
   {
    "duration": 3,
    "start_time": "2023-08-30T17:21:42.846Z"
   },
   {
    "duration": 86,
    "start_time": "2023-08-30T17:21:42.851Z"
   },
   {
    "duration": 32,
    "start_time": "2023-08-30T17:21:42.939Z"
   },
   {
    "duration": 14,
    "start_time": "2023-08-30T17:21:42.973Z"
   },
   {
    "duration": 5,
    "start_time": "2023-08-30T17:21:42.990Z"
   },
   {
    "duration": 45,
    "start_time": "2023-08-30T17:21:42.996Z"
   },
   {
    "duration": 7,
    "start_time": "2023-08-30T17:21:43.043Z"
   },
   {
    "duration": 11,
    "start_time": "2023-08-30T17:21:43.051Z"
   },
   {
    "duration": 6,
    "start_time": "2023-08-30T17:21:43.063Z"
   },
   {
    "duration": 66,
    "start_time": "2023-08-30T17:21:43.070Z"
   },
   {
    "duration": 167,
    "start_time": "2023-08-30T17:21:43.139Z"
   },
   {
    "duration": 9,
    "start_time": "2023-08-30T17:21:43.308Z"
   },
   {
    "duration": 6,
    "start_time": "2023-08-30T17:21:43.324Z"
   },
   {
    "duration": 12,
    "start_time": "2023-08-30T17:21:43.331Z"
   },
   {
    "duration": 400,
    "start_time": "2023-08-30T17:21:43.345Z"
   },
   {
    "duration": 8,
    "start_time": "2023-08-30T17:21:43.747Z"
   },
   {
    "duration": 759,
    "start_time": "2023-08-30T17:21:43.758Z"
   },
   {
    "duration": 23,
    "start_time": "2023-08-30T17:21:44.523Z"
   },
   {
    "duration": 368,
    "start_time": "2023-08-30T17:21:44.547Z"
   },
   {
    "duration": 266,
    "start_time": "2023-08-30T17:22:56.700Z"
   },
   {
    "duration": 65,
    "start_time": "2023-08-30T17:23:29.249Z"
   },
   {
    "duration": 259,
    "start_time": "2023-08-30T17:24:31.241Z"
   },
   {
    "duration": 257,
    "start_time": "2023-08-30T17:24:47.402Z"
   },
   {
    "duration": 316,
    "start_time": "2023-08-30T17:25:14.539Z"
   },
   {
    "duration": 65,
    "start_time": "2023-08-30T17:25:36.890Z"
   },
   {
    "duration": 246,
    "start_time": "2023-08-30T17:25:45.079Z"
   },
   {
    "duration": 255,
    "start_time": "2023-08-30T17:25:59.464Z"
   },
   {
    "duration": 271,
    "start_time": "2023-08-30T17:26:14.702Z"
   },
   {
    "duration": 249,
    "start_time": "2023-08-30T17:26:27.233Z"
   },
   {
    "duration": 277,
    "start_time": "2023-08-30T17:27:05.996Z"
   },
   {
    "duration": 24,
    "start_time": "2023-08-30T17:28:48.388Z"
   },
   {
    "duration": 266,
    "start_time": "2023-08-30T17:28:48.747Z"
   },
   {
    "duration": 256,
    "start_time": "2023-08-30T17:28:49.099Z"
   },
   {
    "duration": 8,
    "start_time": "2023-08-30T17:28:49.410Z"
   },
   {
    "duration": 13,
    "start_time": "2023-08-30T17:29:45.092Z"
   },
   {
    "duration": 1995,
    "start_time": "2023-08-31T07:57:13.063Z"
   },
   {
    "duration": 3,
    "start_time": "2023-08-31T07:57:19.681Z"
   },
   {
    "duration": 76,
    "start_time": "2023-08-31T07:57:19.686Z"
   },
   {
    "duration": 19,
    "start_time": "2023-08-31T07:57:19.764Z"
   },
   {
    "duration": 15,
    "start_time": "2023-08-31T07:57:19.784Z"
   },
   {
    "duration": 32,
    "start_time": "2023-08-31T07:57:19.801Z"
   },
   {
    "duration": 25,
    "start_time": "2023-08-31T07:57:19.835Z"
   },
   {
    "duration": 9,
    "start_time": "2023-08-31T07:57:19.862Z"
   },
   {
    "duration": 20,
    "start_time": "2023-08-31T07:57:19.872Z"
   },
   {
    "duration": 8,
    "start_time": "2023-08-31T07:57:19.894Z"
   },
   {
    "duration": 40,
    "start_time": "2023-08-31T07:57:19.904Z"
   },
   {
    "duration": 149,
    "start_time": "2023-08-31T07:57:19.946Z"
   },
   {
    "duration": 9,
    "start_time": "2023-08-31T07:57:20.097Z"
   },
   {
    "duration": 18,
    "start_time": "2023-08-31T07:57:20.107Z"
   },
   {
    "duration": 11,
    "start_time": "2023-08-31T07:57:20.126Z"
   },
   {
    "duration": 458,
    "start_time": "2023-08-31T07:57:20.139Z"
   },
   {
    "duration": 7,
    "start_time": "2023-08-31T07:57:20.599Z"
   },
   {
    "duration": 766,
    "start_time": "2023-08-31T07:57:20.607Z"
   },
   {
    "duration": 22,
    "start_time": "2023-08-31T07:57:21.375Z"
   },
   {
    "duration": 303,
    "start_time": "2023-08-31T07:57:21.399Z"
   },
   {
    "duration": 276,
    "start_time": "2023-08-31T07:57:21.704Z"
   },
   {
    "duration": 11,
    "start_time": "2023-08-31T07:57:21.982Z"
   },
   {
    "duration": 1292,
    "start_time": "2023-08-31T07:57:21.995Z"
   },
   {
    "duration": 9,
    "start_time": "2023-08-31T07:57:34.020Z"
   },
   {
    "duration": 6,
    "start_time": "2023-08-31T07:57:46.200Z"
   },
   {
    "duration": 5,
    "start_time": "2023-08-31T07:58:31.242Z"
   },
   {
    "duration": 13,
    "start_time": "2023-08-31T07:58:32.556Z"
   },
   {
    "duration": 7,
    "start_time": "2023-08-31T07:58:35.582Z"
   },
   {
    "duration": 8,
    "start_time": "2023-08-31T07:58:36.014Z"
   },
   {
    "duration": 5,
    "start_time": "2023-08-31T07:59:00.366Z"
   },
   {
    "duration": 15,
    "start_time": "2023-08-31T07:59:01.056Z"
   },
   {
    "duration": 7,
    "start_time": "2023-08-31T07:59:01.405Z"
   },
   {
    "duration": 7,
    "start_time": "2023-08-31T07:59:01.808Z"
   },
   {
    "duration": 5,
    "start_time": "2023-08-31T07:59:15.758Z"
   },
   {
    "duration": 159,
    "start_time": "2023-08-31T07:59:15.766Z"
   },
   {
    "duration": 32,
    "start_time": "2023-08-31T07:59:15.928Z"
   },
   {
    "duration": 60,
    "start_time": "2023-08-31T07:59:15.962Z"
   },
   {
    "duration": 34,
    "start_time": "2023-08-31T07:59:16.025Z"
   },
   {
    "duration": 27,
    "start_time": "2023-08-31T07:59:16.062Z"
   },
   {
    "duration": 15,
    "start_time": "2023-08-31T07:59:16.091Z"
   },
   {
    "duration": 17,
    "start_time": "2023-08-31T07:59:16.108Z"
   },
   {
    "duration": 20,
    "start_time": "2023-08-31T07:59:16.129Z"
   },
   {
    "duration": 43,
    "start_time": "2023-08-31T07:59:16.151Z"
   },
   {
    "duration": 245,
    "start_time": "2023-08-31T07:59:16.197Z"
   },
   {
    "duration": 17,
    "start_time": "2023-08-31T07:59:16.447Z"
   },
   {
    "duration": 8,
    "start_time": "2023-08-31T07:59:16.467Z"
   },
   {
    "duration": 22,
    "start_time": "2023-08-31T07:59:16.477Z"
   },
   {
    "duration": 521,
    "start_time": "2023-08-31T07:59:16.501Z"
   },
   {
    "duration": 9,
    "start_time": "2023-08-31T07:59:17.024Z"
   },
   {
    "duration": 921,
    "start_time": "2023-08-31T07:59:17.035Z"
   },
   {
    "duration": 27,
    "start_time": "2023-08-31T07:59:17.957Z"
   },
   {
    "duration": 328,
    "start_time": "2023-08-31T07:59:17.986Z"
   },
   {
    "duration": 458,
    "start_time": "2023-08-31T07:59:18.316Z"
   },
   {
    "duration": 18,
    "start_time": "2023-08-31T07:59:18.776Z"
   },
   {
    "duration": 30,
    "start_time": "2023-08-31T07:59:18.796Z"
   },
   {
    "duration": 14,
    "start_time": "2023-08-31T07:59:18.829Z"
   },
   {
    "duration": 488,
    "start_time": "2023-08-31T08:00:39.958Z"
   },
   {
    "duration": 8,
    "start_time": "2023-08-31T08:01:58.093Z"
   },
   {
    "duration": 4,
    "start_time": "2023-08-31T08:02:11.437Z"
   },
   {
    "duration": 69,
    "start_time": "2023-08-31T08:02:11.443Z"
   },
   {
    "duration": 31,
    "start_time": "2023-08-31T08:02:11.514Z"
   },
   {
    "duration": 15,
    "start_time": "2023-08-31T08:02:11.547Z"
   },
   {
    "duration": 6,
    "start_time": "2023-08-31T08:02:11.565Z"
   },
   {
    "duration": 19,
    "start_time": "2023-08-31T08:02:11.573Z"
   },
   {
    "duration": 46,
    "start_time": "2023-08-31T08:02:11.594Z"
   },
   {
    "duration": 10,
    "start_time": "2023-08-31T08:02:11.643Z"
   },
   {
    "duration": 14,
    "start_time": "2023-08-31T08:02:11.655Z"
   },
   {
    "duration": 25,
    "start_time": "2023-08-31T08:02:11.671Z"
   },
   {
    "duration": 169,
    "start_time": "2023-08-31T08:02:11.698Z"
   },
   {
    "duration": 9,
    "start_time": "2023-08-31T08:02:11.869Z"
   },
   {
    "duration": 6,
    "start_time": "2023-08-31T08:02:11.880Z"
   },
   {
    "duration": 8,
    "start_time": "2023-08-31T08:02:11.889Z"
   },
   {
    "duration": 441,
    "start_time": "2023-08-31T08:02:11.899Z"
   },
   {
    "duration": 6,
    "start_time": "2023-08-31T08:02:12.342Z"
   },
   {
    "duration": 647,
    "start_time": "2023-08-31T08:02:12.350Z"
   },
   {
    "duration": 43,
    "start_time": "2023-08-31T08:02:12.999Z"
   },
   {
    "duration": 316,
    "start_time": "2023-08-31T08:02:13.045Z"
   },
   {
    "duration": 292,
    "start_time": "2023-08-31T08:02:13.363Z"
   },
   {
    "duration": 12,
    "start_time": "2023-08-31T08:02:13.657Z"
   },
   {
    "duration": 307,
    "start_time": "2023-08-31T08:02:13.671Z"
   },
   {
    "duration": 8,
    "start_time": "2023-08-31T08:02:49.058Z"
   },
   {
    "duration": 28,
    "start_time": "2023-08-31T08:02:50.710Z"
   },
   {
    "duration": 3,
    "start_time": "2023-08-31T08:02:55.405Z"
   },
   {
    "duration": 105,
    "start_time": "2023-08-31T08:02:55.410Z"
   },
   {
    "duration": 30,
    "start_time": "2023-08-31T08:02:55.518Z"
   },
   {
    "duration": 37,
    "start_time": "2023-08-31T08:02:55.550Z"
   },
   {
    "duration": 20,
    "start_time": "2023-08-31T08:02:55.589Z"
   },
   {
    "duration": 24,
    "start_time": "2023-08-31T08:02:55.611Z"
   },
   {
    "duration": 21,
    "start_time": "2023-08-31T08:02:55.637Z"
   },
   {
    "duration": 27,
    "start_time": "2023-08-31T08:02:55.660Z"
   },
   {
    "duration": 27,
    "start_time": "2023-08-31T08:02:55.689Z"
   },
   {
    "duration": 66,
    "start_time": "2023-08-31T08:02:55.717Z"
   },
   {
    "duration": 211,
    "start_time": "2023-08-31T08:02:55.787Z"
   },
   {
    "duration": 10,
    "start_time": "2023-08-31T08:02:55.999Z"
   },
   {
    "duration": 8,
    "start_time": "2023-08-31T08:02:56.026Z"
   },
   {
    "duration": 15,
    "start_time": "2023-08-31T08:02:56.036Z"
   },
   {
    "duration": 433,
    "start_time": "2023-08-31T08:02:56.053Z"
   },
   {
    "duration": 7,
    "start_time": "2023-08-31T08:02:56.487Z"
   },
   {
    "duration": 788,
    "start_time": "2023-08-31T08:02:56.496Z"
   },
   {
    "duration": 22,
    "start_time": "2023-08-31T08:02:57.285Z"
   },
   {
    "duration": 288,
    "start_time": "2023-08-31T08:02:57.325Z"
   },
   {
    "duration": 277,
    "start_time": "2023-08-31T08:02:57.615Z"
   },
   {
    "duration": 13,
    "start_time": "2023-08-31T08:02:57.894Z"
   },
   {
    "duration": 325,
    "start_time": "2023-08-31T08:02:57.909Z"
   },
   {
    "duration": 8,
    "start_time": "2023-08-31T08:04:33.086Z"
   },
   {
    "duration": 17,
    "start_time": "2023-08-31T08:04:35.359Z"
   },
   {
    "duration": 3,
    "start_time": "2023-08-31T08:04:43.319Z"
   },
   {
    "duration": 85,
    "start_time": "2023-08-31T08:04:43.331Z"
   },
   {
    "duration": 36,
    "start_time": "2023-08-31T08:04:43.418Z"
   },
   {
    "duration": 18,
    "start_time": "2023-08-31T08:04:43.456Z"
   },
   {
    "duration": 19,
    "start_time": "2023-08-31T08:04:43.477Z"
   },
   {
    "duration": 0,
    "start_time": "2023-08-31T08:04:43.498Z"
   },
   {
    "duration": 0,
    "start_time": "2023-08-31T08:04:43.500Z"
   },
   {
    "duration": 0,
    "start_time": "2023-08-31T08:04:43.525Z"
   },
   {
    "duration": 0,
    "start_time": "2023-08-31T08:04:43.526Z"
   },
   {
    "duration": 0,
    "start_time": "2023-08-31T08:04:43.527Z"
   },
   {
    "duration": 0,
    "start_time": "2023-08-31T08:04:43.528Z"
   },
   {
    "duration": 0,
    "start_time": "2023-08-31T08:04:43.531Z"
   },
   {
    "duration": 0,
    "start_time": "2023-08-31T08:04:43.532Z"
   },
   {
    "duration": 0,
    "start_time": "2023-08-31T08:04:43.533Z"
   },
   {
    "duration": 0,
    "start_time": "2023-08-31T08:04:43.535Z"
   },
   {
    "duration": 0,
    "start_time": "2023-08-31T08:04:43.536Z"
   },
   {
    "duration": 0,
    "start_time": "2023-08-31T08:04:43.538Z"
   },
   {
    "duration": 0,
    "start_time": "2023-08-31T08:04:43.539Z"
   },
   {
    "duration": 0,
    "start_time": "2023-08-31T08:04:43.540Z"
   },
   {
    "duration": 0,
    "start_time": "2023-08-31T08:04:43.541Z"
   },
   {
    "duration": 0,
    "start_time": "2023-08-31T08:04:43.543Z"
   },
   {
    "duration": 0,
    "start_time": "2023-08-31T08:04:43.544Z"
   },
   {
    "duration": 3,
    "start_time": "2023-08-31T08:05:33.518Z"
   },
   {
    "duration": 76,
    "start_time": "2023-08-31T08:05:33.526Z"
   },
   {
    "duration": 36,
    "start_time": "2023-08-31T08:05:33.604Z"
   },
   {
    "duration": 16,
    "start_time": "2023-08-31T08:05:33.644Z"
   },
   {
    "duration": 4,
    "start_time": "2023-08-31T08:05:33.662Z"
   },
   {
    "duration": 30,
    "start_time": "2023-08-31T08:05:33.667Z"
   },
   {
    "duration": 7,
    "start_time": "2023-08-31T08:05:33.699Z"
   },
   {
    "duration": 39,
    "start_time": "2023-08-31T08:05:33.708Z"
   },
   {
    "duration": 8,
    "start_time": "2023-08-31T08:05:33.749Z"
   },
   {
    "duration": 28,
    "start_time": "2023-08-31T08:05:33.759Z"
   },
   {
    "duration": 163,
    "start_time": "2023-08-31T08:05:33.790Z"
   },
   {
    "duration": 9,
    "start_time": "2023-08-31T08:05:33.955Z"
   },
   {
    "duration": 5,
    "start_time": "2023-08-31T08:05:33.965Z"
   },
   {
    "duration": 10,
    "start_time": "2023-08-31T08:05:33.972Z"
   },
   {
    "duration": 437,
    "start_time": "2023-08-31T08:05:33.983Z"
   },
   {
    "duration": 22,
    "start_time": "2023-08-31T08:05:34.422Z"
   },
   {
    "duration": 690,
    "start_time": "2023-08-31T08:05:34.446Z"
   },
   {
    "duration": 29,
    "start_time": "2023-08-31T08:05:35.138Z"
   },
   {
    "duration": 287,
    "start_time": "2023-08-31T08:05:35.168Z"
   },
   {
    "duration": 300,
    "start_time": "2023-08-31T08:05:35.457Z"
   },
   {
    "duration": 13,
    "start_time": "2023-08-31T08:05:35.759Z"
   },
   {
    "duration": 9,
    "start_time": "2023-08-31T08:05:35.773Z"
   },
   {
    "duration": 15,
    "start_time": "2023-08-31T08:06:24.218Z"
   },
   {
    "duration": 119,
    "start_time": "2023-08-31T08:14:14.691Z"
   },
   {
    "duration": 252,
    "start_time": "2023-08-31T08:14:27.008Z"
   },
   {
    "duration": 115,
    "start_time": "2023-08-31T08:15:13.456Z"
   },
   {
    "duration": 141,
    "start_time": "2023-08-31T08:15:19.474Z"
   },
   {
    "duration": 143,
    "start_time": "2023-08-31T08:16:04.255Z"
   },
   {
    "duration": 121,
    "start_time": "2023-08-31T08:16:19.122Z"
   },
   {
    "duration": 106,
    "start_time": "2023-08-31T08:16:19.654Z"
   },
   {
    "duration": 124,
    "start_time": "2023-08-31T08:16:20.115Z"
   },
   {
    "duration": 6,
    "start_time": "2023-08-31T08:38:10.977Z"
   },
   {
    "duration": 22,
    "start_time": "2023-08-31T08:38:22.254Z"
   },
   {
    "duration": 28,
    "start_time": "2023-08-31T08:38:43.115Z"
   },
   {
    "duration": 22,
    "start_time": "2023-08-31T08:38:57.796Z"
   },
   {
    "duration": 15,
    "start_time": "2023-08-31T08:46:46.065Z"
   },
   {
    "duration": 22,
    "start_time": "2023-08-31T08:46:52.354Z"
   },
   {
    "duration": 11,
    "start_time": "2023-08-31T08:52:49.535Z"
   },
   {
    "duration": 47,
    "start_time": "2023-08-31T08:52:49.578Z"
   },
   {
    "duration": 22,
    "start_time": "2023-08-31T08:52:49.662Z"
   },
   {
    "duration": 14,
    "start_time": "2023-08-31T08:52:49.691Z"
   },
   {
    "duration": 9,
    "start_time": "2023-08-31T08:52:49.749Z"
   },
   {
    "duration": 22,
    "start_time": "2023-08-31T08:52:49.772Z"
   },
   {
    "duration": 8,
    "start_time": "2023-08-31T08:52:49.853Z"
   },
   {
    "duration": 7,
    "start_time": "2023-08-31T08:52:49.872Z"
   },
   {
    "duration": 5,
    "start_time": "2023-08-31T08:52:49.903Z"
   },
   {
    "duration": 40,
    "start_time": "2023-08-31T08:52:50.096Z"
   },
   {
    "duration": 162,
    "start_time": "2023-08-31T08:52:50.158Z"
   },
   {
    "duration": 18,
    "start_time": "2023-08-31T08:52:50.338Z"
   },
   {
    "duration": 10,
    "start_time": "2023-08-31T08:52:50.392Z"
   },
   {
    "duration": 8,
    "start_time": "2023-08-31T08:52:50.860Z"
   },
   {
    "duration": 426,
    "start_time": "2023-08-31T08:52:50.890Z"
   },
   {
    "duration": 26,
    "start_time": "2023-08-31T08:52:52.014Z"
   },
   {
    "duration": 669,
    "start_time": "2023-08-31T08:52:52.160Z"
   },
   {
    "duration": 124,
    "start_time": "2023-08-31T08:52:52.966Z"
   },
   {
    "duration": 134,
    "start_time": "2023-08-31T08:52:53.212Z"
   },
   {
    "duration": 122,
    "start_time": "2023-08-31T08:52:53.379Z"
   },
   {
    "duration": 44,
    "start_time": "2023-08-31T08:52:53.791Z"
   },
   {
    "duration": 272,
    "start_time": "2023-08-31T08:52:54.129Z"
   },
   {
    "duration": 298,
    "start_time": "2023-08-31T08:52:54.431Z"
   },
   {
    "duration": 53,
    "start_time": "2023-08-31T08:52:54.747Z"
   },
   {
    "duration": 17,
    "start_time": "2023-08-31T08:52:54.842Z"
   },
   {
    "duration": 28,
    "start_time": "2023-08-31T08:52:54.900Z"
   },
   {
    "duration": 28,
    "start_time": "2023-08-31T08:52:54.977Z"
   },
   {
    "duration": 22,
    "start_time": "2023-08-31T08:52:55.084Z"
   },
   {
    "duration": 39,
    "start_time": "2023-08-31T08:52:55.108Z"
   },
   {
    "duration": 160,
    "start_time": "2023-08-31T08:53:23.850Z"
   },
   {
    "duration": 89,
    "start_time": "2023-08-31T08:53:44.293Z"
   },
   {
    "duration": 176,
    "start_time": "2023-08-31T08:53:55.386Z"
   },
   {
    "duration": 306,
    "start_time": "2023-08-31T08:54:47.483Z"
   },
   {
    "duration": 327,
    "start_time": "2023-08-31T08:55:06.865Z"
   },
   {
    "duration": 299,
    "start_time": "2023-08-31T08:55:11.205Z"
   },
   {
    "duration": 372,
    "start_time": "2023-08-31T08:55:22.156Z"
   },
   {
    "duration": 346,
    "start_time": "2023-08-31T08:55:43.861Z"
   },
   {
    "duration": 337,
    "start_time": "2023-08-31T08:56:32.552Z"
   },
   {
    "duration": 359,
    "start_time": "2023-08-31T08:56:42.244Z"
   },
   {
    "duration": 255,
    "start_time": "2023-08-31T09:00:09.323Z"
   },
   {
    "duration": 285,
    "start_time": "2023-08-31T09:00:13.177Z"
   },
   {
    "duration": 359,
    "start_time": "2023-08-31T09:00:32.561Z"
   },
   {
    "duration": 31,
    "start_time": "2023-08-31T09:09:33.383Z"
   },
   {
    "duration": 7,
    "start_time": "2023-08-31T09:10:11.502Z"
   },
   {
    "duration": 10,
    "start_time": "2023-08-31T09:10:38.986Z"
   },
   {
    "duration": 9,
    "start_time": "2023-08-31T09:10:52.320Z"
   },
   {
    "duration": 9,
    "start_time": "2023-08-31T09:11:02.291Z"
   },
   {
    "duration": 9,
    "start_time": "2023-08-31T09:13:11.085Z"
   },
   {
    "duration": 11,
    "start_time": "2023-08-31T09:13:22.325Z"
   },
   {
    "duration": 10,
    "start_time": "2023-08-31T09:13:27.924Z"
   },
   {
    "duration": 125,
    "start_time": "2023-08-31T09:14:53.923Z"
   },
   {
    "duration": 81,
    "start_time": "2023-08-31T09:15:01.888Z"
   },
   {
    "duration": 100,
    "start_time": "2023-08-31T09:15:20.486Z"
   },
   {
    "duration": 82,
    "start_time": "2023-08-31T09:15:20.660Z"
   },
   {
    "duration": 4,
    "start_time": "2023-08-31T09:16:05.609Z"
   },
   {
    "duration": 4,
    "start_time": "2023-08-31T09:16:05.769Z"
   },
   {
    "duration": 5,
    "start_time": "2023-08-31T09:16:05.954Z"
   },
   {
    "duration": 4,
    "start_time": "2023-08-31T09:16:12.732Z"
   },
   {
    "duration": 5,
    "start_time": "2023-08-31T09:16:12.889Z"
   },
   {
    "duration": 4,
    "start_time": "2023-08-31T09:16:13.066Z"
   },
   {
    "duration": 9,
    "start_time": "2023-08-31T09:16:23.115Z"
   },
   {
    "duration": 9,
    "start_time": "2023-08-31T09:16:23.289Z"
   },
   {
    "duration": 9,
    "start_time": "2023-08-31T09:16:23.464Z"
   },
   {
    "duration": 9,
    "start_time": "2023-08-31T09:18:59.203Z"
   },
   {
    "duration": 7,
    "start_time": "2023-08-31T09:19:04.090Z"
   },
   {
    "duration": 8,
    "start_time": "2023-08-31T09:19:05.493Z"
   },
   {
    "duration": 8,
    "start_time": "2023-08-31T09:19:11.595Z"
   },
   {
    "duration": 10,
    "start_time": "2023-08-31T09:19:15.964Z"
   },
   {
    "duration": 14,
    "start_time": "2023-08-31T09:30:24.263Z"
   },
   {
    "duration": 17,
    "start_time": "2023-08-31T09:30:42.175Z"
   },
   {
    "duration": 11,
    "start_time": "2023-08-31T09:35:02.181Z"
   },
   {
    "duration": 14,
    "start_time": "2023-08-31T09:37:39.686Z"
   },
   {
    "duration": 6,
    "start_time": "2023-08-31T09:37:52.891Z"
   },
   {
    "duration": 9,
    "start_time": "2023-08-31T09:38:04.281Z"
   },
   {
    "duration": 7,
    "start_time": "2023-08-31T09:38:07.735Z"
   },
   {
    "duration": 15,
    "start_time": "2023-08-31T09:40:45.548Z"
   },
   {
    "duration": 93,
    "start_time": "2023-08-31T09:41:29.065Z"
   },
   {
    "duration": 6,
    "start_time": "2023-08-31T09:41:52.202Z"
   },
   {
    "duration": 3,
    "start_time": "2023-08-31T09:42:50.060Z"
   },
   {
    "duration": 3,
    "start_time": "2023-08-31T09:42:51.962Z"
   },
   {
    "duration": 60,
    "start_time": "2023-08-31T09:43:31.015Z"
   },
   {
    "duration": 1149,
    "start_time": "2023-08-31T11:27:16.897Z"
   },
   {
    "duration": 69,
    "start_time": "2023-08-31T11:27:18.048Z"
   },
   {
    "duration": 19,
    "start_time": "2023-08-31T11:27:18.119Z"
   },
   {
    "duration": 35,
    "start_time": "2023-08-31T11:27:18.140Z"
   },
   {
    "duration": 20,
    "start_time": "2023-08-31T11:27:18.176Z"
   },
   {
    "duration": 38,
    "start_time": "2023-08-31T11:27:18.198Z"
   },
   {
    "duration": 21,
    "start_time": "2023-08-31T11:27:18.238Z"
   },
   {
    "duration": 40,
    "start_time": "2023-08-31T11:27:18.260Z"
   },
   {
    "duration": 23,
    "start_time": "2023-08-31T11:27:18.302Z"
   },
   {
    "duration": 36,
    "start_time": "2023-08-31T11:27:18.328Z"
   },
   {
    "duration": 181,
    "start_time": "2023-08-31T11:27:18.366Z"
   },
   {
    "duration": 7,
    "start_time": "2023-08-31T11:27:18.548Z"
   },
   {
    "duration": 31,
    "start_time": "2023-08-31T11:27:18.556Z"
   },
   {
    "duration": 36,
    "start_time": "2023-08-31T11:27:18.589Z"
   },
   {
    "duration": 389,
    "start_time": "2023-08-31T11:27:18.627Z"
   },
   {
    "duration": 8,
    "start_time": "2023-08-31T11:27:19.018Z"
   },
   {
    "duration": 564,
    "start_time": "2023-08-31T11:27:19.028Z"
   },
   {
    "duration": 111,
    "start_time": "2023-08-31T11:27:19.594Z"
   },
   {
    "duration": 98,
    "start_time": "2023-08-31T11:27:19.707Z"
   },
   {
    "duration": 173,
    "start_time": "2023-08-31T11:27:19.807Z"
   },
   {
    "duration": 21,
    "start_time": "2023-08-31T11:27:19.982Z"
   },
   {
    "duration": 252,
    "start_time": "2023-08-31T11:27:20.005Z"
   },
   {
    "duration": 245,
    "start_time": "2023-08-31T11:27:20.258Z"
   },
   {
    "duration": 12,
    "start_time": "2023-08-31T11:27:20.505Z"
   },
   {
    "duration": 42,
    "start_time": "2023-08-31T11:27:20.518Z"
   },
   {
    "duration": 27,
    "start_time": "2023-08-31T11:27:20.562Z"
   },
   {
    "duration": 59,
    "start_time": "2023-08-31T11:27:20.590Z"
   },
   {
    "duration": 38,
    "start_time": "2023-08-31T11:27:20.653Z"
   },
   {
    "duration": 295,
    "start_time": "2023-08-31T11:27:20.692Z"
   },
   {
    "duration": 7,
    "start_time": "2023-08-31T11:27:20.988Z"
   },
   {
    "duration": 29,
    "start_time": "2023-08-31T11:27:20.996Z"
   },
   {
    "duration": 41,
    "start_time": "2023-08-31T11:27:21.027Z"
   },
   {
    "duration": 29,
    "start_time": "2023-08-31T11:27:21.070Z"
   },
   {
    "duration": 40,
    "start_time": "2023-08-31T11:27:21.101Z"
   },
   {
    "duration": 17,
    "start_time": "2023-08-31T11:27:21.143Z"
   },
   {
    "duration": 35,
    "start_time": "2023-08-31T11:27:21.161Z"
   },
   {
    "duration": 18,
    "start_time": "2023-08-31T11:27:21.198Z"
   },
   {
    "duration": 15,
    "start_time": "2023-08-31T11:27:21.217Z"
   },
   {
    "duration": 9,
    "start_time": "2023-08-31T11:27:21.233Z"
   },
   {
    "duration": 6,
    "start_time": "2023-08-31T11:27:21.244Z"
   },
   {
    "duration": 1598,
    "start_time": "2023-08-31T16:32:51.963Z"
   },
   {
    "duration": 142,
    "start_time": "2023-08-31T16:32:53.563Z"
   },
   {
    "duration": 44,
    "start_time": "2023-08-31T16:32:53.706Z"
   },
   {
    "duration": 17,
    "start_time": "2023-08-31T16:32:53.752Z"
   },
   {
    "duration": 4,
    "start_time": "2023-08-31T16:32:53.770Z"
   },
   {
    "duration": 44,
    "start_time": "2023-08-31T16:32:53.776Z"
   },
   {
    "duration": 11,
    "start_time": "2023-08-31T16:32:53.822Z"
   },
   {
    "duration": 17,
    "start_time": "2023-08-31T16:32:53.835Z"
   },
   {
    "duration": 5,
    "start_time": "2023-08-31T16:32:53.854Z"
   },
   {
    "duration": 65,
    "start_time": "2023-08-31T16:32:53.863Z"
   },
   {
    "duration": 192,
    "start_time": "2023-08-31T16:32:53.930Z"
   },
   {
    "duration": 8,
    "start_time": "2023-08-31T16:32:54.124Z"
   },
   {
    "duration": 7,
    "start_time": "2023-08-31T16:32:54.134Z"
   },
   {
    "duration": 8,
    "start_time": "2023-08-31T16:32:54.143Z"
   },
   {
    "duration": 490,
    "start_time": "2023-08-31T16:32:54.153Z"
   },
   {
    "duration": 6,
    "start_time": "2023-08-31T16:32:54.646Z"
   },
   {
    "duration": 746,
    "start_time": "2023-08-31T16:32:54.654Z"
   },
   {
    "duration": 141,
    "start_time": "2023-08-31T16:32:55.408Z"
   },
   {
    "duration": 132,
    "start_time": "2023-08-31T16:32:55.551Z"
   },
   {
    "duration": 206,
    "start_time": "2023-08-31T16:32:55.684Z"
   },
   {
    "duration": 38,
    "start_time": "2023-08-31T16:32:55.892Z"
   },
   {
    "duration": 330,
    "start_time": "2023-08-31T16:32:55.933Z"
   },
   {
    "duration": 320,
    "start_time": "2023-08-31T16:32:56.265Z"
   },
   {
    "duration": 41,
    "start_time": "2023-08-31T16:32:56.587Z"
   },
   {
    "duration": 13,
    "start_time": "2023-08-31T16:32:56.630Z"
   },
   {
    "duration": 6,
    "start_time": "2023-08-31T16:32:56.644Z"
   },
   {
    "duration": 17,
    "start_time": "2023-08-31T16:32:56.652Z"
   },
   {
    "duration": 14,
    "start_time": "2023-08-31T16:32:56.673Z"
   },
   {
    "duration": 376,
    "start_time": "2023-08-31T16:32:56.688Z"
   },
   {
    "duration": 8,
    "start_time": "2023-08-31T16:32:57.066Z"
   },
   {
    "duration": 11,
    "start_time": "2023-08-31T16:32:57.076Z"
   },
   {
    "duration": 27,
    "start_time": "2023-08-31T16:32:57.089Z"
   },
   {
    "duration": 13,
    "start_time": "2023-08-31T16:32:57.122Z"
   },
   {
    "duration": 14,
    "start_time": "2023-08-31T16:32:57.138Z"
   },
   {
    "duration": 9,
    "start_time": "2023-08-31T16:32:57.154Z"
   },
   {
    "duration": 15,
    "start_time": "2023-08-31T16:32:57.165Z"
   },
   {
    "duration": 45,
    "start_time": "2023-08-31T16:32:57.182Z"
   },
   {
    "duration": 5,
    "start_time": "2023-08-31T16:32:57.229Z"
   },
   {
    "duration": 27,
    "start_time": "2023-08-31T16:32:57.236Z"
   },
   {
    "duration": 5,
    "start_time": "2023-08-31T16:32:57.265Z"
   },
   {
    "duration": 44,
    "start_time": "2023-09-01T04:21:02.779Z"
   },
   {
    "duration": 1300,
    "start_time": "2023-09-01T04:21:06.691Z"
   },
   {
    "duration": 115,
    "start_time": "2023-09-01T04:21:07.993Z"
   },
   {
    "duration": 18,
    "start_time": "2023-09-01T04:21:08.109Z"
   },
   {
    "duration": 12,
    "start_time": "2023-09-01T04:21:08.129Z"
   },
   {
    "duration": 4,
    "start_time": "2023-09-01T04:21:08.142Z"
   },
   {
    "duration": 19,
    "start_time": "2023-09-01T04:21:08.147Z"
   },
   {
    "duration": 6,
    "start_time": "2023-09-01T04:21:08.168Z"
   },
   {
    "duration": 26,
    "start_time": "2023-09-01T04:21:08.175Z"
   },
   {
    "duration": 6,
    "start_time": "2023-09-01T04:21:08.202Z"
   },
   {
    "duration": 6,
    "start_time": "2023-09-01T04:21:08.210Z"
   },
   {
    "duration": 20,
    "start_time": "2023-09-01T04:21:08.217Z"
   },
   {
    "duration": 182,
    "start_time": "2023-09-01T04:21:08.238Z"
   },
   {
    "duration": 7,
    "start_time": "2023-09-01T04:21:08.422Z"
   },
   {
    "duration": 30,
    "start_time": "2023-09-01T04:21:08.431Z"
   },
   {
    "duration": 18,
    "start_time": "2023-09-01T04:21:08.463Z"
   },
   {
    "duration": 391,
    "start_time": "2023-09-01T04:21:08.482Z"
   },
   {
    "duration": 6,
    "start_time": "2023-09-01T04:21:08.875Z"
   },
   {
    "duration": 553,
    "start_time": "2023-09-01T04:21:08.882Z"
   },
   {
    "duration": 95,
    "start_time": "2023-09-01T04:21:09.436Z"
   },
   {
    "duration": 99,
    "start_time": "2023-09-01T04:21:09.533Z"
   },
   {
    "duration": 167,
    "start_time": "2023-09-01T04:21:09.633Z"
   },
   {
    "duration": 20,
    "start_time": "2023-09-01T04:21:09.801Z"
   },
   {
    "duration": 245,
    "start_time": "2023-09-01T04:21:09.823Z"
   },
   {
    "duration": 245,
    "start_time": "2023-09-01T04:21:10.070Z"
   },
   {
    "duration": 15,
    "start_time": "2023-09-01T04:21:10.317Z"
   },
   {
    "duration": 21,
    "start_time": "2023-09-01T04:21:10.334Z"
   },
   {
    "duration": 6,
    "start_time": "2023-09-01T04:21:10.357Z"
   },
   {
    "duration": 15,
    "start_time": "2023-09-01T04:21:10.366Z"
   },
   {
    "duration": 14,
    "start_time": "2023-09-01T04:21:10.383Z"
   },
   {
    "duration": 309,
    "start_time": "2023-09-01T04:21:10.399Z"
   },
   {
    "duration": 7,
    "start_time": "2023-09-01T04:21:10.710Z"
   },
   {
    "duration": 9,
    "start_time": "2023-09-01T04:21:10.718Z"
   },
   {
    "duration": 21,
    "start_time": "2023-09-01T04:21:10.729Z"
   },
   {
    "duration": 6,
    "start_time": "2023-09-01T04:21:10.751Z"
   },
   {
    "duration": 8,
    "start_time": "2023-09-01T04:21:10.759Z"
   },
   {
    "duration": 8,
    "start_time": "2023-09-01T04:21:10.769Z"
   },
   {
    "duration": 13,
    "start_time": "2023-09-01T04:21:10.778Z"
   },
   {
    "duration": 8,
    "start_time": "2023-09-01T04:21:10.793Z"
   },
   {
    "duration": 11,
    "start_time": "2023-09-01T04:21:10.803Z"
   },
   {
    "duration": 39,
    "start_time": "2023-09-01T04:21:10.815Z"
   },
   {
    "duration": 4,
    "start_time": "2023-09-01T04:21:10.855Z"
   },
   {
    "duration": 8,
    "start_time": "2023-09-01T04:21:55.075Z"
   },
   {
    "duration": 61,
    "start_time": "2023-09-01T04:22:02.642Z"
   },
   {
    "duration": 9,
    "start_time": "2023-09-01T04:22:08.068Z"
   },
   {
    "duration": 7,
    "start_time": "2023-09-01T04:24:47.723Z"
   },
   {
    "duration": 8,
    "start_time": "2023-09-01T04:25:13.165Z"
   },
   {
    "duration": 8,
    "start_time": "2023-09-01T04:25:32.145Z"
   },
   {
    "duration": 8,
    "start_time": "2023-09-01T04:25:41.929Z"
   },
   {
    "duration": 8,
    "start_time": "2023-09-01T04:28:44.287Z"
   },
   {
    "duration": 5,
    "start_time": "2023-09-01T04:30:41.572Z"
   },
   {
    "duration": 7,
    "start_time": "2023-09-01T04:31:52.954Z"
   },
   {
    "duration": 6,
    "start_time": "2023-09-01T04:31:58.588Z"
   },
   {
    "duration": 6,
    "start_time": "2023-09-01T04:35:53.316Z"
   },
   {
    "duration": 2,
    "start_time": "2023-09-01T04:35:57.539Z"
   },
   {
    "duration": 77,
    "start_time": "2023-09-01T04:35:57.547Z"
   },
   {
    "duration": 19,
    "start_time": "2023-09-01T04:35:57.626Z"
   },
   {
    "duration": 23,
    "start_time": "2023-09-01T04:35:57.646Z"
   },
   {
    "duration": 8,
    "start_time": "2023-09-01T04:35:57.671Z"
   },
   {
    "duration": 41,
    "start_time": "2023-09-01T04:35:57.680Z"
   },
   {
    "duration": 8,
    "start_time": "2023-09-01T04:35:57.722Z"
   },
   {
    "duration": 21,
    "start_time": "2023-09-01T04:35:57.732Z"
   },
   {
    "duration": 13,
    "start_time": "2023-09-01T04:35:57.754Z"
   },
   {
    "duration": 14,
    "start_time": "2023-09-01T04:35:57.768Z"
   },
   {
    "duration": 11,
    "start_time": "2023-09-01T04:35:57.784Z"
   },
   {
    "duration": 23,
    "start_time": "2023-09-01T04:35:57.796Z"
   },
   {
    "duration": 133,
    "start_time": "2023-09-01T04:35:57.821Z"
   },
   {
    "duration": 7,
    "start_time": "2023-09-01T04:35:57.955Z"
   },
   {
    "duration": 5,
    "start_time": "2023-09-01T04:35:57.964Z"
   },
   {
    "duration": 27,
    "start_time": "2023-09-01T04:35:57.970Z"
   },
   {
    "duration": 349,
    "start_time": "2023-09-01T04:35:57.998Z"
   },
   {
    "duration": 5,
    "start_time": "2023-09-01T04:35:58.349Z"
   },
   {
    "duration": 444,
    "start_time": "2023-09-01T04:35:58.356Z"
   },
   {
    "duration": 104,
    "start_time": "2023-09-01T04:35:58.802Z"
   },
   {
    "duration": 97,
    "start_time": "2023-09-01T04:35:58.907Z"
   },
   {
    "duration": 104,
    "start_time": "2023-09-01T04:35:59.005Z"
   },
   {
    "duration": 40,
    "start_time": "2023-09-01T04:35:59.110Z"
   },
   {
    "duration": 328,
    "start_time": "2023-09-01T04:35:59.152Z"
   },
   {
    "duration": 248,
    "start_time": "2023-09-01T04:35:59.481Z"
   },
   {
    "duration": 11,
    "start_time": "2023-09-01T04:35:59.731Z"
   },
   {
    "duration": 17,
    "start_time": "2023-09-01T04:35:59.749Z"
   },
   {
    "duration": 14,
    "start_time": "2023-09-01T04:35:59.768Z"
   },
   {
    "duration": 15,
    "start_time": "2023-09-01T04:35:59.785Z"
   },
   {
    "duration": 22,
    "start_time": "2023-09-01T04:35:59.801Z"
   },
   {
    "duration": 301,
    "start_time": "2023-09-01T04:35:59.825Z"
   },
   {
    "duration": 7,
    "start_time": "2023-09-01T04:36:00.127Z"
   },
   {
    "duration": 33,
    "start_time": "2023-09-01T04:36:00.135Z"
   },
   {
    "duration": 54,
    "start_time": "2023-09-01T04:36:00.169Z"
   },
   {
    "duration": 36,
    "start_time": "2023-09-01T04:36:00.224Z"
   },
   {
    "duration": 46,
    "start_time": "2023-09-01T04:36:00.262Z"
   },
   {
    "duration": 57,
    "start_time": "2023-09-01T04:36:00.309Z"
   },
   {
    "duration": 91,
    "start_time": "2023-09-01T04:36:00.368Z"
   },
   {
    "duration": 28,
    "start_time": "2023-09-01T04:36:00.461Z"
   },
   {
    "duration": 24,
    "start_time": "2023-09-01T04:36:00.491Z"
   },
   {
    "duration": 37,
    "start_time": "2023-09-01T04:36:00.517Z"
   },
   {
    "duration": 38,
    "start_time": "2023-09-01T04:36:00.556Z"
   },
   {
    "duration": 270,
    "start_time": "2023-09-01T04:37:18.252Z"
   },
   {
    "duration": 248,
    "start_time": "2023-09-01T04:38:03.596Z"
   },
   {
    "duration": 406,
    "start_time": "2023-09-01T04:38:48.366Z"
   },
   {
    "duration": 6,
    "start_time": "2023-09-01T04:39:22.129Z"
   },
   {
    "duration": 426,
    "start_time": "2023-09-01T04:39:23.864Z"
   },
   {
    "duration": 425,
    "start_time": "2023-09-01T04:39:31.720Z"
   },
   {
    "duration": 44,
    "start_time": "2023-09-01T04:44:39.304Z"
   },
   {
    "duration": 185,
    "start_time": "2023-09-01T04:44:47.524Z"
   },
   {
    "duration": 100,
    "start_time": "2023-09-01T04:45:55.051Z"
   },
   {
    "duration": 109,
    "start_time": "2023-09-01T04:46:09.059Z"
   },
   {
    "duration": 139,
    "start_time": "2023-09-01T04:49:34.897Z"
   },
   {
    "duration": 157,
    "start_time": "2023-09-01T04:49:50.407Z"
   },
   {
    "duration": 158,
    "start_time": "2023-09-01T04:50:05.379Z"
   },
   {
    "duration": 184,
    "start_time": "2023-09-01T04:50:44.706Z"
   },
   {
    "duration": 156,
    "start_time": "2023-09-01T04:51:29.753Z"
   },
   {
    "duration": 64,
    "start_time": "2023-09-01T04:58:14.769Z"
   },
   {
    "duration": 18,
    "start_time": "2023-09-01T04:59:07.469Z"
   },
   {
    "duration": 20,
    "start_time": "2023-09-01T04:59:16.416Z"
   },
   {
    "duration": 20,
    "start_time": "2023-09-01T04:59:27.721Z"
   },
   {
    "duration": 193,
    "start_time": "2023-09-01T04:59:39.377Z"
   },
   {
    "duration": 89,
    "start_time": "2023-09-01T05:00:14.039Z"
   },
   {
    "duration": 72,
    "start_time": "2023-09-01T05:00:22.226Z"
   },
   {
    "duration": 209,
    "start_time": "2023-09-01T05:00:30.619Z"
   },
   {
    "duration": 195,
    "start_time": "2023-09-01T05:01:37.791Z"
   },
   {
    "duration": 71,
    "start_time": "2023-09-01T05:06:32.583Z"
   },
   {
    "duration": 1600,
    "start_time": "2023-09-01T07:53:31.030Z"
   },
   {
    "duration": 212,
    "start_time": "2023-09-01T07:53:32.633Z"
   },
   {
    "duration": 26,
    "start_time": "2023-09-01T07:53:32.847Z"
   },
   {
    "duration": 18,
    "start_time": "2023-09-01T07:53:32.875Z"
   },
   {
    "duration": 7,
    "start_time": "2023-09-01T07:53:32.894Z"
   },
   {
    "duration": 49,
    "start_time": "2023-09-01T07:53:32.904Z"
   },
   {
    "duration": 10,
    "start_time": "2023-09-01T07:53:32.958Z"
   },
   {
    "duration": 28,
    "start_time": "2023-09-01T07:53:32.970Z"
   },
   {
    "duration": 10,
    "start_time": "2023-09-01T07:53:33.001Z"
   },
   {
    "duration": 37,
    "start_time": "2023-09-01T07:53:33.013Z"
   },
   {
    "duration": 9,
    "start_time": "2023-09-01T07:53:33.052Z"
   },
   {
    "duration": 34,
    "start_time": "2023-09-01T07:53:33.064Z"
   },
   {
    "duration": 188,
    "start_time": "2023-09-01T07:53:33.101Z"
   },
   {
    "duration": 13,
    "start_time": "2023-09-01T07:53:33.291Z"
   },
   {
    "duration": 7,
    "start_time": "2023-09-01T07:53:33.306Z"
   },
   {
    "duration": 11,
    "start_time": "2023-09-01T07:53:33.314Z"
   },
   {
    "duration": 498,
    "start_time": "2023-09-01T07:53:33.327Z"
   },
   {
    "duration": 10,
    "start_time": "2023-09-01T07:53:33.827Z"
   },
   {
    "duration": 625,
    "start_time": "2023-09-01T07:53:33.839Z"
   },
   {
    "duration": 196,
    "start_time": "2023-09-01T07:53:34.466Z"
   },
   {
    "duration": 35,
    "start_time": "2023-09-01T07:53:34.664Z"
   },
   {
    "duration": 318,
    "start_time": "2023-09-01T07:53:34.701Z"
   },
   {
    "duration": 328,
    "start_time": "2023-09-01T07:53:35.021Z"
   },
   {
    "duration": 25,
    "start_time": "2023-09-01T07:53:35.351Z"
   },
   {
    "duration": 36,
    "start_time": "2023-09-01T07:53:35.378Z"
   },
   {
    "duration": 44,
    "start_time": "2023-09-01T07:53:35.416Z"
   },
   {
    "duration": 24,
    "start_time": "2023-09-01T07:53:35.462Z"
   },
   {
    "duration": 27,
    "start_time": "2023-09-01T07:53:35.490Z"
   },
   {
    "duration": 332,
    "start_time": "2023-09-01T07:53:35.519Z"
   },
   {
    "duration": 8,
    "start_time": "2023-09-01T07:53:35.859Z"
   },
   {
    "duration": 34,
    "start_time": "2023-09-01T07:53:35.869Z"
   },
   {
    "duration": 11,
    "start_time": "2023-09-01T07:53:35.905Z"
   },
   {
    "duration": 12,
    "start_time": "2023-09-01T07:53:35.918Z"
   },
   {
    "duration": 13,
    "start_time": "2023-09-01T07:53:35.931Z"
   },
   {
    "duration": 15,
    "start_time": "2023-09-01T07:53:35.946Z"
   },
   {
    "duration": 17,
    "start_time": "2023-09-01T07:53:35.963Z"
   },
   {
    "duration": 8,
    "start_time": "2023-09-01T07:53:35.982Z"
   },
   {
    "duration": 8,
    "start_time": "2023-09-01T07:53:35.992Z"
   },
   {
    "duration": 12,
    "start_time": "2023-09-01T07:53:36.002Z"
   },
   {
    "duration": 44,
    "start_time": "2023-09-01T07:53:36.015Z"
   }
  ],
  "kernelspec": {
   "display_name": "Python 3 (ipykernel)",
   "language": "python",
   "name": "python3"
  },
  "language_info": {
   "codemirror_mode": {
    "name": "ipython",
    "version": 3
   },
   "file_extension": ".py",
   "mimetype": "text/x-python",
   "name": "python",
   "nbconvert_exporter": "python",
   "pygments_lexer": "ipython3",
   "version": "3.11.4"
  },
  "toc": {
   "base_numbering": 1,
   "nav_menu": {},
   "number_sections": true,
   "sideBar": true,
   "skip_h1_title": true,
   "title_cell": "Table of Contents",
   "title_sidebar": "Contents",
   "toc_cell": false,
   "toc_position": {},
   "toc_section_display": true,
   "toc_window_display": false
  }
 },
 "nbformat": 4,
 "nbformat_minor": 2
}
